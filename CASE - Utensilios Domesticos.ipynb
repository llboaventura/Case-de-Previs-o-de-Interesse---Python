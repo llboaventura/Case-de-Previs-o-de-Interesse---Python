{
 "cells": [
  {
   "cell_type": "markdown",
   "metadata": {},
   "source": [
    "##  Criação de Modelos Preditivos Quanto ao Interesse nos Produtos"
   ]
  },
  {
   "cell_type": "markdown",
   "metadata": {},
   "source": [
    "\n",
    "O objetivo principal desse Case foi, a partir de um banco de dados reais referente à anuncios de utilitários domésticos, desenvolver modelos que conseguissem classificar um determinado produto entre \"interessante = 1 \" e \"não interessante = 0\", a partir de suas características. Além disso, indicar por meio de análise descritiva, quais produtos, e com quais características, apresentam maior interesse do cliente.\n",
    "\n",
    "Pois bem, para isso, fiz uso de sete diferentes classificadores (SVM, Arvore de Decisão, Floresta Aleatória, KNN, LDA, Nave Bayes e Regressão Logística) selecionados a partir do seu desempenho sob a métrica F1-Score (dado  ao desbalanceamento entre \"interesse\" e \"não interesse\" no produto. \n",
    "\n",
    "Observei também que agregar todos os produtos em um único modelo seria pouco interpretativo, e perderia assim, a capacidade preditiva. Desta forma, dividi o banco em estratos (a partir do produto) e apliquei, após tratamento dos dados, a técnica Holdout para validação dos modelos. \n",
    "\n",
    "obs: Seria interessante replicar o script, porém fazendo uso de validação cruzada repetida. Que não foi usada nesse Case dado o custo computacional demandado. \n",
    "\n",
    "Por fim, pelo método das Árvores Extra, hierarquizei as variáveis explicativas mediante sua importância para previsão do interesse, em cada um dos produtos, a fim de retornar as principais características dentro de cada um do modelos (ao que se refere a influência na classificação do modelo). \n",
    "\n",
    "OBS: Ao longo desse scrip, existem algumas outras explicações secundárias, ao resumo descrito acima."
   ]
  },
  {
   "cell_type": "code",
   "execution_count": 256,
   "metadata": {},
   "outputs": [],
   "source": [
    "## Importando as bibliotecas necessárias \n",
    "import pandas as pd\n",
    "import seaborn as sns \n",
    "import numpy\n",
    "from sklearn.discriminant_analysis import LinearDiscriminantAnalysis\n",
    "from sklearn.model_selection import cross_val_score\n",
    "import numpy as np\n",
    "import math\n",
    "import pandas\n",
    "from pandas.plotting import scatter_matrix\n",
    "import matplotlib.pyplot as plt\n",
    "from sklearn import model_selection\n",
    "from sklearn.metrics import classification_report\n",
    "from sklearn.metrics import confusion_matrix\n",
    "from sklearn.metrics import accuracy_score\n",
    "from sklearn.linear_model import LogisticRegression\n",
    "from sklearn.tree import DecisionTreeClassifier\n",
    "from sklearn.neighbors import KNeighborsClassifier\n",
    "from sklearn.discriminant_analysis import LinearDiscriminantAnalysis\n",
    "from sklearn.naive_bayes import GaussianNB\n",
    "from sklearn.svm import SVC\n",
    "from sklearn.ensemble import RandomForestClassifier\n",
    "from sklearn.model_selection import train_test_split\n",
    "from sklearn.calibration import CalibratedClassifierCV\n",
    "from sklearn.linear_model import SGDClassifier\n",
    "from sklearn.utils.multiclass import type_of_target\n",
    "from sklearn.metrics import confusion_matrix\n",
    "from sklearn import metrics\n",
    "from sklearn.ensemble import ExtraTreesClassifier"
   ]
  },
  {
   "cell_type": "markdown",
   "metadata": {},
   "source": [
    "### 1. Tratamento do Dataset Fornecido"
   ]
  },
  {
   "cell_type": "code",
   "execution_count": 2,
   "metadata": {},
   "outputs": [],
   "source": [
    "## Mudando Diretório\n",
    "import os \n",
    "os.chdir('C:\\\\Users\\\\LAION E JANA\\\\Downloads')  \n"
   ]
  },
  {
   "cell_type": "code",
   "execution_count": 3,
   "metadata": {},
   "outputs": [
    {
     "data": {
      "text/plain": [
       "(180275, 21)"
      ]
     },
     "execution_count": 3,
     "metadata": {},
     "output_type": "execute_result"
    }
   ],
   "source": [
    "#### Definindo os  dados\n",
    "dados = pd.read_csv(\"problem1_dataset.csv\")\n",
    "###### Dimensão \n",
    "dados.shape"
   ]
  },
  {
   "cell_type": "code",
   "execution_count": 4,
   "metadata": {},
   "outputs": [
    {
     "data": {
      "text/plain": [
       "ITEM_ID                int64\n",
       "ALTURA               float64\n",
       "CAPACIDADE_(L)       float64\n",
       "COMPOSICAO            object\n",
       "COR                   object\n",
       "FORMATO               object\n",
       "LARGURA              float64\n",
       "MARCA                 object\n",
       "PARA_LAVA_LOUCAS      object\n",
       "PARA_MICRO_ONDAS      object\n",
       "PESO                 float64\n",
       "PROFUNDIDADE         float64\n",
       "TEMPO_GARANTIA       float64\n",
       "TEM_FERRO_FUNDIDO     object\n",
       "TEM_GRELHA            object\n",
       "TEM_TAMPA            float64\n",
       "TIPO_PRODUTO          object\n",
       "TIPO_WOK              object\n",
       "SESSION_ID           float64\n",
       "ITEM_PRICE           float64\n",
       "INTERESTED           float64\n",
       "dtype: object"
      ]
     },
     "execution_count": 4,
     "metadata": {},
     "output_type": "execute_result"
    }
   ],
   "source": [
    "###### Classe das variáveis\n",
    "dados.dtypes"
   ]
  },
  {
   "cell_type": "code",
   "execution_count": 5,
   "metadata": {},
   "outputs": [],
   "source": [
    "###### Tratando Variáveis com Base nas Classes\n",
    "dados['INTERESTED'] = dados['INTERESTED'].astype('category') # Categorizando a variável resposta\n",
    "dados['TEM_TAMPA'] = dados['TEM_TAMPA'].astype('category') # Categorizando a variável pela presença de tampa na panela\n",
    "def tran_cat_to_num(dados):\n",
    "    if dados['TEM_GRELHA'] == 'SIM':\n",
    "        return 1\n",
    "    elif dados['TEM_GRELHA'] == 'NAO':\n",
    "        return 0\n",
    "dados['TEM_GRELHA'] = dados.apply(tran_cat_to_num,axis=1)\n",
    "dados['TEM_GRELHA'] = dados['TEM_GRELHA'].astype('category') # Categorizando a variável pela presença de grelha na panela\n",
    "def tran_cat_to_num_2(dados):\n",
    "    if dados['TEM_FERRO_FUNDIDO'] == 'SIM':\n",
    "        return 1\n",
    "    elif dados['TEM_FERRO_FUNDIDO'] == 'NAO':\n",
    "        return 0\n",
    "dados['TEM_FERRO_FUNDIDO'] = dados.apply(tran_cat_to_num_2,axis=1)\n",
    "dados['TEM_FERRO_FUNDIDO'] = dados['TEM_FERRO_FUNDIDO'].astype('category') # Categorizando a variável pelo material # ferro fundido ou n #\n",
    "def tran_cat_to_num_3(dados):\n",
    "    if dados['TIPO_WOK'] == 'SIM':\n",
    "        return 1\n",
    "    elif dados['TIPO_WOK'] == 'NAO':\n",
    "        return 0\n",
    "dados['TIPO_WOK'] = dados.apply(tran_cat_to_num_3,axis=1)\n",
    "dados['TIPO_WOK'] = dados['TIPO_WOK'].astype('category') # Categorizando a variável por ser ou nao Wok\n",
    "def tran_cat_to_num_4(dados):\n",
    "    if dados['PARA_MICRO_ONDAS'] == 'yes':\n",
    "        return 1\n",
    "    elif dados['PARA_MICRO_ONDAS'] == 'no':\n",
    "        return 0\n",
    "dados['PARA_MICRO_ONDAS'] = dados.apply(tran_cat_to_num_4,axis=1)\n",
    "dados['PARA_MICRO_ONDAS']= dados['PARA_MICRO_ONDAS'].astype('category') # Categorizando a variável pela possibilidade de ir ou não ao microondas \n",
    "def tran_cat_to_num_5(dados):\n",
    "    if (dados['PARA_LAVA_LOUCAS'] == 'No')  or (dados['PARA_LAVA_LOUCAS'] == 'NAO') :\n",
    "        return 0\n",
    "    else:\n",
    "        return 1\n",
    "dados['PARA_LAVA_LOUCAS'] = dados.apply(tran_cat_to_num_5,axis=1)\n",
    "dados['PARA_LAVA_LOUCAS']  = dados['PARA_LAVA_LOUCAS'].astype('category')  # Categorizando a variável pela possibilidade de ir ou não ao lava-louças \n",
    "def tran_cat_to_num_6(dados):\n",
    "    if (dados['COMPOSICAO'] == 'ALUMINIO')  :\n",
    "        return 0\n",
    "    elif dados['COMPOSICAO'] == 'INOX':\n",
    "        return 1\n",
    "    elif dados['COMPOSICAO'] == 'CERAMICA':\n",
    "        return 2\n",
    "    else:\n",
    "        return 3\n",
    "dados['COMPOSICAO'] = dados.apply(tran_cat_to_num_6,axis=1)\n",
    "dados['COMPOSICAO']  = dados['COMPOSICAO'].astype('category')  \n",
    " # Categorizando demais variáveis para que seja possível conversão nas bibliotecas de ML\n",
    "def tran_cat_to_num_7(dados):\n",
    "    if (dados['FORMATO'] == 'REDONDO')  :\n",
    "        return 0\n",
    "    elif dados['FORMATO'] == 'QUADRADO':\n",
    "        return 1\n",
    "    elif dados['FORMATO'] == 'FRIGIDEIRA':\n",
    "        return 2\n",
    "    elif dados['FORMATO'] ==  'RETANGULAR':\n",
    "        return 3\n",
    "    else:\n",
    "        return 4\n",
    "dados['FORMATO'] = dados.apply(tran_cat_to_num_7,axis=1)\n",
    "dados['FORMATO']  = dados['FORMATO'].astype('category')  \n",
    "def tran_cat_to_num_8(dados):\n",
    "    if (dados['COR'] == 'INOX')  :\n",
    "        return 0\n",
    "    elif dados['COR'] == 'PRETO':\n",
    "        return 1\n",
    "    elif dados['COR'] == 'VERMELHO':\n",
    "        return 2\n",
    "    elif dados['COR'] ==  'CEREJA':\n",
    "        return 3\n",
    "    elif dados['COR'] ==  'COLORIDO':\n",
    "        return 4\n",
    "    elif dados['COR'] ==  'GRAFITE':\n",
    "        return 5\n",
    "    elif dados['COR'] ==  'VINHO':\n",
    "        return 6\n",
    "    else:\n",
    "        return 7\n",
    "dados['COR'] = dados.apply(tran_cat_to_num_8,axis=1)\n",
    "dados['COR']  = dados['COR'].astype('category') \n",
    "def tran_cat_to_num_9(dados):\n",
    "    if (dados['MARCA'] == 'TRAMONTINA')  :\n",
    "        return 0\n",
    "    elif dados['MARCA'] == 'LA CUISINE':\n",
    "        return 1\n",
    "    elif dados['MARCA'] == 'PANELA MINEIRA':\n",
    "        return 2\n",
    "    elif dados['MARCA'] ==  'BRINOX':\n",
    "        return 3\n",
    "    elif dados['MARCA'] ==  'VEC':\n",
    "        return 4\n",
    "    elif dados['MARCA'] ==  'EURO HOME':\n",
    "        return 5\n",
    "    elif dados['MARCA'] ==  'FUMIL':\n",
    "        return 6\n",
    "    elif dados['MARCA'] ==  'HERCULES':\n",
    "        return 7\n",
    "    elif dados['MARCA'] ==  'EURO':\n",
    "        return 8\n",
    "    elif dados['MARCA'] ==  'HAPPYCALL':\n",
    "        return 9\n",
    "    else:\n",
    "        return 10\n",
    "dados['MARCA'] = dados.apply(tran_cat_to_num_9,axis=1)\n",
    "dados['MARCA']  = dados['MARCA'].astype('category')  \n",
    "\n",
    "del dados['ITEM_ID'] # Apagando Variável sem explicabilidade para os modelos\n",
    "del dados['SESSION_ID'] # Apagando Variável sem explicabilidade para os modelos\n",
    "\n",
    "   \n",
    "\n",
    "   \n",
    "\n",
    "\n",
    "\n",
    "\n"
   ]
  },
  {
   "cell_type": "code",
   "execution_count": 6,
   "metadata": {},
   "outputs": [
    {
     "data": {
      "text/plain": [
       "ALTURA                float64\n",
       "CAPACIDADE_(L)        float64\n",
       "COMPOSICAO           category\n",
       "COR                  category\n",
       "FORMATO              category\n",
       "LARGURA               float64\n",
       "MARCA                category\n",
       "PARA_LAVA_LOUCAS     category\n",
       "PARA_MICRO_ONDAS     category\n",
       "PESO                  float64\n",
       "PROFUNDIDADE          float64\n",
       "TEMPO_GARANTIA        float64\n",
       "TEM_FERRO_FUNDIDO    category\n",
       "TEM_GRELHA           category\n",
       "TEM_TAMPA            category\n",
       "TIPO_PRODUTO           object\n",
       "TIPO_WOK             category\n",
       "ITEM_PRICE            float64\n",
       "INTERESTED           category\n",
       "dtype: object"
      ]
     },
     "execution_count": 6,
     "metadata": {},
     "output_type": "execute_result"
    }
   ],
   "source": [
    "###### Classe das variáveis após Tratamento\n",
    "dados.dtypes"
   ]
  },
  {
   "cell_type": "code",
   "execution_count": 7,
   "metadata": {
    "scrolled": false
   },
   "outputs": [
    {
     "data": {
      "text/plain": [
       "0.0    164748\n",
       "1.0     15527\n",
       "Name: INTERESTED, dtype: int64"
      ]
     },
     "execution_count": 7,
     "metadata": {},
     "output_type": "execute_result"
    }
   ],
   "source": [
    "dados['INTERESTED'].value_counts()  # Variável resposta desbalanceada "
   ]
  },
  {
   "cell_type": "markdown",
   "metadata": {},
   "source": [
    "#### 1.1 Análise sobre os produtos de maior interesse"
   ]
  },
  {
   "cell_type": "markdown",
   "metadata": {},
   "source": [
    "Pelo Gráfico abaixo, é possível destacar que os itens: Panela, Pipoqueira, Chaleira, Caçarola e Frigideira, apresentam em ordem decrescente, a maior parcela de interesse do consumidor. Vale destacar a diferença relativa entre o produto Panela e os demais.  "
   ]
  },
  {
   "cell_type": "code",
   "execution_count": 8,
   "metadata": {},
   "outputs": [
    {
     "data": {
      "text/plain": [
       "<matplotlib.axes._subplots.AxesSubplot at 0x1d77dbfe588>"
      ]
     },
     "execution_count": 8,
     "metadata": {},
     "output_type": "execute_result"
    },
    {
     "data": {
      "image/png": "[encoded data removed]",
      "text/plain": [
       "<Figure size 432x288 with 1 Axes>"
      ]
     },
     "metadata": {},
     "output_type": "display_data"
    }
   ],
   "source": [
    "interesse = dados['INTERESTED']==1\n",
    "dados_filtrados = dados[interesse]\n",
    "dados_filtrados['TIPO_PRODUTO'].value_counts().plot('bar')"
   ]
  },
  {
   "cell_type": "markdown",
   "metadata": {},
   "source": [
    "#### 1.2 Criação dos Bancos de Dados a partir do Tipo do Produto"
   ]
  },
  {
   "cell_type": "markdown",
   "metadata": {},
   "source": [
    "Posto isso, a ideia a seguir é criar bancos de dados estratificados a partir do tipo do produto. Para possibilitar a criação de modelos individuais para cada caso."
   ]
  },
  {
   "cell_type": "code",
   "execution_count": 9,
   "metadata": {},
   "outputs": [],
   "source": [
    "dados_panela = dados.loc[dados['TIPO_PRODUTO']=='PANELA']\n",
    "dados_pipoqueira = dados.loc[dados['TIPO_PRODUTO']=='PIPOQUEIRA']\n",
    "dados_chaleira = dados.loc[dados['TIPO_PRODUTO']=='CHALEIRA']\n",
    "dados_cacarola = dados.loc[dados['TIPO_PRODUTO']=='CACAROLA']\n",
    "dados_frigideira = dados.loc[dados['TIPO_PRODUTO']=='FRIGIDEIRA']\n",
    "dados_espagueteira = dados.loc[dados['TIPO_PRODUTO']=='ESPAGUETEIRA']\n",
    "dados_cuscuzeira = dados.loc[(dados['TIPO_PRODUTO']=='CUSCUZEIRA') | (dados['TIPO_PRODUTO']=='CUSCUZEIRO')]\n",
    "dados_chapa = dados.loc[dados['TIPO_PRODUTO']=='CHAPA']\n",
    "dados_wok = dados.loc[dados['TIPO_PRODUTO']=='WOK']\n",
    "dados_caldeirao = dados.loc[dados['TIPO_PRODUTO']=='CALDEIRAO']\n",
    "dados_fervedor = dados.loc[(dados['TIPO_PRODUTO']=='FERVEDOR') | (dados['TIPO_PRODUTO']=='CANECA/FERVEDOR')]  \n",
    "dados_grill = dados.loc[dados['TIPO_PRODUTO']=='GRILL']\n",
    "dados_paellera = dados.loc[dados['TIPO_PRODUTO']=='PAELLERA']\n",
    "dados_bifeteira = dados.loc[dados['TIPO_PRODUTO']=='BIFETEIRA']\n",
    "dados_bule = dados.loc[dados['TIPO_PRODUTO']=='BULE']\n",
    "dados_panquequeira = dados.loc[dados['TIPO_PRODUTO']=='PANQUEQUEIRA']\n",
    "dados_leiteira = dados.loc[dados['TIPO_PRODUTO']=='LEITEIRA']\n",
    "dados_forma = dados.loc[dados['TIPO_PRODUTO']=='FORMA']\n",
    "dados_fritadeira = dados.loc[dados['TIPO_PRODUTO']=='FRITADEIRA']\n",
    "dados_omeleteira = dados.loc[dados['TIPO_PRODUTO']=='OMELETEIRA']\n",
    "dados_cozi_vapore = dados.loc[dados['TIPO_PRODUTO']=='COZI-VAPORE']\n",
    "dados_fogareiro = dados.loc[dados['TIPO_PRODUTO']=='FOGAREIRO']\n",
    "dados_assadeira = dados.loc[dados['TIPO_PRODUTO']=='ASSADEIRA']\n",
    "dados_mini_cacarola = dados.loc[dados['TIPO_PRODUTO']=='MINI-CACAROLA']\n",
    "dados_cremeria = dados.loc[dados['TIPO_PRODUTO']=='CREMEIRA']\n",
    "dados_sanduicheira = dados.loc[dados['TIPO_PRODUTO']=='SANDUICHEIRA']\n",
    "dados_tampa = dados.loc[dados['TIPO_PRODUTO']=='TAMPA']\n",
    "dados_founde = dados.loc[dados['TIPO_PRODUTO']=='FONDUE']\n",
    "dados_cumbuca = dados.loc[dados['TIPO_PRODUTO']=='CUMBUCA']\n",
    "dados_prensador = dados.loc[dados['TIPO_PRODUTO']=='PRENSADOR'] # \n",
    "dados_forno = dados.loc[dados['TIPO_PRODUTO']=='FORNO'] # Interesse Raro \n",
    "dados_cozi_pasta = dados.loc[dados['TIPO_PRODUTO']=='COZI-PASTA'] # Interesse definido pelo preço do item \n",
    "dados_papeiro = dados.loc[dados['TIPO_PRODUTO']=='PAPEIRO'] # Daqui pra baixo n tem interesse \n",
    "dados_vaporella = dados.loc[dados['TIPO_PRODUTO']=='VAPORELLA']\n",
    "dados_bistequeria = dados.loc[dados['TIPO_PRODUTO']=='BISTEQUEIRA']\n",
    "dados_caneco = dados.loc[dados['TIPO_PRODUTO']=='CANECO']"
   ]
  },
  {
   "cell_type": "markdown",
   "metadata": {},
   "source": [
    "*Percebe-se que alguns produtos estão replicados, bem como 4 dos produtos não apresentaram nenhum interesse por parte do cliente*. Sendo portanto, retirados da análise, e considerados, deterministicamente, como não interessantes."
   ]
  },
  {
   "cell_type": "code",
   "execution_count": 10,
   "metadata": {},
   "outputs": [],
   "source": [
    "### Verificando NAN's \n",
    "\n",
    "##### Função para dados missing\n",
    "def funcao_dados_missing(df):\n",
    "        mis_val = df.isnull().sum()\n",
    "        mis_val_percent = 100 * df.isnull().sum() / len(df)\n",
    "        mis_val_table = pd.concat([mis_val, mis_val_percent], axis=1)\n",
    "        mis_val_table_ren_columns = mis_val_table.rename(\n",
    "        columns = {0 : 'Frequencia de NANs', 1 : '% Equivalente'})\n",
    "        mis_val_table_ren_columns = mis_val_table_ren_columns[\n",
    "            mis_val_table_ren_columns.iloc[:,1] != 0].sort_values(\n",
    "        '% Equivalente', ascending=False).round(1)\n",
    "        print (\"Your selected dataframe has \" + str(df.shape[1]) + \" columns.\\n\"      \n",
    "            \"There are \" + str(mis_val_table_ren_columns.shape[0]) +\n",
    "              \" columns that have missing values.\")\n",
    "        return mis_val_table_ren_columns\n"
   ]
  },
  {
   "cell_type": "code",
   "execution_count": 11,
   "metadata": {},
   "outputs": [
    {
     "name": "stdout",
     "output_type": "stream",
     "text": [
      "Your selected dataframe has 19 columns.\n",
      "There are 8 columns that have missing values.\n"
     ]
    },
    {
     "data": {
      "text/html": [
       "<div>\n",
       "<style scoped>\n",
       "    .dataframe tbody tr th:only-of-type {\n",
       "        vertical-align: middle;\n",
       "    }\n",
       "\n",
       "    .dataframe tbody tr th {\n",
       "        vertical-align: top;\n",
       "    }\n",
       "\n",
       "    .dataframe thead th {\n",
       "        text-align: right;\n",
       "    }\n",
       "</style>\n",
       "<table border=\"1\" class=\"dataframe\">\n",
       "  <thead>\n",
       "    <tr style=\"text-align: right;\">\n",
       "      <th></th>\n",
       "      <th>Frequencia de NANs</th>\n",
       "      <th>% Equivalente</th>\n",
       "    </tr>\n",
       "  </thead>\n",
       "  <tbody>\n",
       "    <tr>\n",
       "      <th>PESO</th>\n",
       "      <td>29701</td>\n",
       "      <td>47.6</td>\n",
       "    </tr>\n",
       "    <tr>\n",
       "      <th>PARA_MICRO_ONDAS</th>\n",
       "      <td>29238</td>\n",
       "      <td>46.8</td>\n",
       "    </tr>\n",
       "    <tr>\n",
       "      <th>CAPACIDADE_(L)</th>\n",
       "      <td>28892</td>\n",
       "      <td>46.3</td>\n",
       "    </tr>\n",
       "    <tr>\n",
       "      <th>TEMPO_GARANTIA</th>\n",
       "      <td>4958</td>\n",
       "      <td>7.9</td>\n",
       "    </tr>\n",
       "    <tr>\n",
       "      <th>ITEM_PRICE</th>\n",
       "      <td>2610</td>\n",
       "      <td>4.2</td>\n",
       "    </tr>\n",
       "    <tr>\n",
       "      <th>ALTURA</th>\n",
       "      <td>466</td>\n",
       "      <td>0.7</td>\n",
       "    </tr>\n",
       "    <tr>\n",
       "      <th>LARGURA</th>\n",
       "      <td>466</td>\n",
       "      <td>0.7</td>\n",
       "    </tr>\n",
       "    <tr>\n",
       "      <th>PROFUNDIDADE</th>\n",
       "      <td>466</td>\n",
       "      <td>0.7</td>\n",
       "    </tr>\n",
       "  </tbody>\n",
       "</table>\n",
       "</div>"
      ],
      "text/plain": [
       "                  Frequencia de NANs  % Equivalente\n",
       "PESO                           29701           47.6\n",
       "PARA_MICRO_ONDAS               29238           46.8\n",
       "CAPACIDADE_(L)                 28892           46.3\n",
       "TEMPO_GARANTIA                  4958            7.9\n",
       "ITEM_PRICE                      2610            4.2\n",
       "ALTURA                           466            0.7\n",
       "LARGURA                          466            0.7\n",
       "PROFUNDIDADE                     466            0.7"
      ]
     },
     "execution_count": 11,
     "metadata": {},
     "output_type": "execute_result"
    }
   ],
   "source": [
    "dim = dados_panela.shape\n",
    "funcao_dados_missing(dados_panela) #Identificando NAN's Dados Panela"
   ]
  },
  {
   "cell_type": "code",
   "execution_count": 12,
   "metadata": {},
   "outputs": [
    {
     "data": {
      "text/plain": [
       "0.0    31897\n",
       "1.0    30521\n",
       "Name: TEM_TAMPA, dtype: int64"
      ]
     },
     "execution_count": 12,
     "metadata": {},
     "output_type": "execute_result"
    }
   ],
   "source": [
    "dados_panela['TEM_TAMPA'].value_counts()  #Identificando Significancia da Tampa"
   ]
  },
  {
   "cell_type": "code",
   "execution_count": 13,
   "metadata": {},
   "outputs": [
    {
     "name": "stdout",
     "output_type": "stream",
     "text": [
      "(62418, 19),(55774, 12)\n"
     ]
    }
   ],
   "source": [
    "x= ['PESO','PARA_MICRO_ONDAS','CAPACIDADE_(L)','FORMATO','TEM_TAMPA','TIPO_WOK','TIPO_PRODUTO']\n",
    "dados_panela = dados_panela.drop(columns=x)  #Retirando Vriáveis pelos excessivos NAN's \n",
    "dados_panela.dropna(inplace=True) #Retirando Linhas com NAN's \n",
    "newdim= dados_panela.shape\n",
    "print(dim,newdim, sep=\",\")"
   ]
  },
  {
   "cell_type": "code",
   "execution_count": 14,
   "metadata": {},
   "outputs": [
    {
     "name": "stdout",
     "output_type": "stream",
     "text": [
      "Your selected dataframe has 19 columns.\n",
      "There are 8 columns that have missing values.\n"
     ]
    },
    {
     "data": {
      "text/html": [
       "<div>\n",
       "<style scoped>\n",
       "    .dataframe tbody tr th:only-of-type {\n",
       "        vertical-align: middle;\n",
       "    }\n",
       "\n",
       "    .dataframe tbody tr th {\n",
       "        vertical-align: top;\n",
       "    }\n",
       "\n",
       "    .dataframe thead th {\n",
       "        text-align: right;\n",
       "    }\n",
       "</style>\n",
       "<table border=\"1\" class=\"dataframe\">\n",
       "  <thead>\n",
       "    <tr style=\"text-align: right;\">\n",
       "      <th></th>\n",
       "      <th>Frequencia de NANs</th>\n",
       "      <th>% Equivalente</th>\n",
       "    </tr>\n",
       "  </thead>\n",
       "  <tbody>\n",
       "    <tr>\n",
       "      <th>PARA_MICRO_ONDAS</th>\n",
       "      <td>20404</td>\n",
       "      <td>72.2</td>\n",
       "    </tr>\n",
       "    <tr>\n",
       "      <th>TEMPO_GARANTIA</th>\n",
       "      <td>17684</td>\n",
       "      <td>62.6</td>\n",
       "    </tr>\n",
       "    <tr>\n",
       "      <th>CAPACIDADE_(L)</th>\n",
       "      <td>10563</td>\n",
       "      <td>37.4</td>\n",
       "    </tr>\n",
       "    <tr>\n",
       "      <th>PESO</th>\n",
       "      <td>2720</td>\n",
       "      <td>9.6</td>\n",
       "    </tr>\n",
       "    <tr>\n",
       "      <th>ALTURA</th>\n",
       "      <td>450</td>\n",
       "      <td>1.6</td>\n",
       "    </tr>\n",
       "    <tr>\n",
       "      <th>LARGURA</th>\n",
       "      <td>450</td>\n",
       "      <td>1.6</td>\n",
       "    </tr>\n",
       "    <tr>\n",
       "      <th>PROFUNDIDADE</th>\n",
       "      <td>450</td>\n",
       "      <td>1.6</td>\n",
       "    </tr>\n",
       "    <tr>\n",
       "      <th>ITEM_PRICE</th>\n",
       "      <td>139</td>\n",
       "      <td>0.5</td>\n",
       "    </tr>\n",
       "  </tbody>\n",
       "</table>\n",
       "</div>"
      ],
      "text/plain": [
       "                  Frequencia de NANs  % Equivalente\n",
       "PARA_MICRO_ONDAS               20404           72.2\n",
       "TEMPO_GARANTIA                 17684           62.6\n",
       "CAPACIDADE_(L)                 10563           37.4\n",
       "PESO                            2720            9.6\n",
       "ALTURA                           450            1.6\n",
       "LARGURA                          450            1.6\n",
       "PROFUNDIDADE                     450            1.6\n",
       "ITEM_PRICE                       139            0.5"
      ]
     },
     "execution_count": 14,
     "metadata": {},
     "output_type": "execute_result"
    }
   ],
   "source": [
    "dim = dados_pipoqueira.shape\n",
    "funcao_dados_missing(dados_pipoqueira) #Identificando NAN's Dados Pipoqueira"
   ]
  },
  {
   "cell_type": "code",
   "execution_count": 15,
   "metadata": {},
   "outputs": [
    {
     "data": {
      "text/plain": [
       "1.0    25527\n",
       "0.0     2720\n",
       "Name: TEM_TAMPA, dtype: int64"
      ]
     },
     "execution_count": 15,
     "metadata": {},
     "output_type": "execute_result"
    }
   ],
   "source": [
    "dados_pipoqueira['TEM_TAMPA'].value_counts()  #Identificando Significancia da Tampa"
   ]
  },
  {
   "cell_type": "code",
   "execution_count": 16,
   "metadata": {},
   "outputs": [
    {
     "name": "stdout",
     "output_type": "stream",
     "text": [
      "(28247, 19),(25522, 13)\n"
     ]
    }
   ],
   "source": [
    "x= ['TEMPO_GARANTIA','PARA_MICRO_ONDAS','CAPACIDADE_(L)','FORMATO','TIPO_WOK','TIPO_PRODUTO']\n",
    "dados_pipoqueira = dados_pipoqueira.drop(columns=x)  #Retirando Vriáveis pelos excessivos NAN's \n",
    "dados_pipoqueira.dropna(inplace=True) #Retirando Linhas com NAN's \n",
    "newdim= dados_pipoqueira.shape\n",
    "print(dim,newdim, sep=\",\")"
   ]
  },
  {
   "cell_type": "code",
   "execution_count": 17,
   "metadata": {},
   "outputs": [
    {
     "name": "stdout",
     "output_type": "stream",
     "text": [
      "Your selected dataframe has 19 columns.\n",
      "There are 8 columns that have missing values.\n"
     ]
    },
    {
     "data": {
      "text/html": [
       "<div>\n",
       "<style scoped>\n",
       "    .dataframe tbody tr th:only-of-type {\n",
       "        vertical-align: middle;\n",
       "    }\n",
       "\n",
       "    .dataframe tbody tr th {\n",
       "        vertical-align: top;\n",
       "    }\n",
       "\n",
       "    .dataframe thead th {\n",
       "        text-align: right;\n",
       "    }\n",
       "</style>\n",
       "<table border=\"1\" class=\"dataframe\">\n",
       "  <thead>\n",
       "    <tr style=\"text-align: right;\">\n",
       "      <th></th>\n",
       "      <th>Frequencia de NANs</th>\n",
       "      <th>% Equivalente</th>\n",
       "    </tr>\n",
       "  </thead>\n",
       "  <tbody>\n",
       "    <tr>\n",
       "      <th>CAPACIDADE_(L)</th>\n",
       "      <td>11257</td>\n",
       "      <td>64.7</td>\n",
       "    </tr>\n",
       "    <tr>\n",
       "      <th>PESO</th>\n",
       "      <td>11006</td>\n",
       "      <td>63.3</td>\n",
       "    </tr>\n",
       "    <tr>\n",
       "      <th>PARA_MICRO_ONDAS</th>\n",
       "      <td>10659</td>\n",
       "      <td>61.3</td>\n",
       "    </tr>\n",
       "    <tr>\n",
       "      <th>TEMPO_GARANTIA</th>\n",
       "      <td>2299</td>\n",
       "      <td>13.2</td>\n",
       "    </tr>\n",
       "    <tr>\n",
       "      <th>ITEM_PRICE</th>\n",
       "      <td>523</td>\n",
       "      <td>3.0</td>\n",
       "    </tr>\n",
       "    <tr>\n",
       "      <th>ALTURA</th>\n",
       "      <td>347</td>\n",
       "      <td>2.0</td>\n",
       "    </tr>\n",
       "    <tr>\n",
       "      <th>LARGURA</th>\n",
       "      <td>347</td>\n",
       "      <td>2.0</td>\n",
       "    </tr>\n",
       "    <tr>\n",
       "      <th>PROFUNDIDADE</th>\n",
       "      <td>347</td>\n",
       "      <td>2.0</td>\n",
       "    </tr>\n",
       "  </tbody>\n",
       "</table>\n",
       "</div>"
      ],
      "text/plain": [
       "                  Frequencia de NANs  % Equivalente\n",
       "CAPACIDADE_(L)                 11257           64.7\n",
       "PESO                           11006           63.3\n",
       "PARA_MICRO_ONDAS               10659           61.3\n",
       "TEMPO_GARANTIA                  2299           13.2\n",
       "ITEM_PRICE                       523            3.0\n",
       "ALTURA                           347            2.0\n",
       "LARGURA                          347            2.0\n",
       "PROFUNDIDADE                     347            2.0"
      ]
     },
     "execution_count": 17,
     "metadata": {},
     "output_type": "execute_result"
    }
   ],
   "source": [
    "dim = dados_chaleira.shape\n",
    "funcao_dados_missing(dados_chaleira) #Identificando NAN's Dados Chaleira"
   ]
  },
  {
   "cell_type": "code",
   "execution_count": 18,
   "metadata": {},
   "outputs": [
    {
     "data": {
      "text/plain": [
       "0.0    16711\n",
       "1.0      675\n",
       "Name: TEM_TAMPA, dtype: int64"
      ]
     },
     "execution_count": 18,
     "metadata": {},
     "output_type": "execute_result"
    }
   ],
   "source": [
    "dados_chaleira['TEM_TAMPA'].value_counts()  #Identificando Significancia da Tampa"
   ]
  },
  {
   "cell_type": "code",
   "execution_count": 19,
   "metadata": {},
   "outputs": [
    {
     "name": "stdout",
     "output_type": "stream",
     "text": [
      "(17386, 19),(14694, 13)\n"
     ]
    }
   ],
   "source": [
    "x= ['PESO','PARA_MICRO_ONDAS','CAPACIDADE_(L)','FORMATO','TIPO_WOK','TIPO_PRODUTO']\n",
    "dados_chaleira = dados_chaleira.drop(columns=x)  #Retirando Vriáveis pelos excessivos NAN's \n",
    "dados_chaleira.dropna(inplace=True) #Retirando Linhas com NAN's \n",
    "newdim= dados_chaleira.shape\n",
    "print(dim,newdim, sep=\",\")"
   ]
  },
  {
   "cell_type": "code",
   "execution_count": 20,
   "metadata": {},
   "outputs": [
    {
     "name": "stdout",
     "output_type": "stream",
     "text": [
      "Your selected dataframe has 19 columns.\n",
      "There are 8 columns that have missing values.\n"
     ]
    },
    {
     "data": {
      "text/html": [
       "<div>\n",
       "<style scoped>\n",
       "    .dataframe tbody tr th:only-of-type {\n",
       "        vertical-align: middle;\n",
       "    }\n",
       "\n",
       "    .dataframe tbody tr th {\n",
       "        vertical-align: top;\n",
       "    }\n",
       "\n",
       "    .dataframe thead th {\n",
       "        text-align: right;\n",
       "    }\n",
       "</style>\n",
       "<table border=\"1\" class=\"dataframe\">\n",
       "  <thead>\n",
       "    <tr style=\"text-align: right;\">\n",
       "      <th></th>\n",
       "      <th>Frequencia de NANs</th>\n",
       "      <th>% Equivalente</th>\n",
       "    </tr>\n",
       "  </thead>\n",
       "  <tbody>\n",
       "    <tr>\n",
       "      <th>PESO</th>\n",
       "      <td>10455</td>\n",
       "      <td>62.7</td>\n",
       "    </tr>\n",
       "    <tr>\n",
       "      <th>CAPACIDADE_(L)</th>\n",
       "      <td>9940</td>\n",
       "      <td>59.6</td>\n",
       "    </tr>\n",
       "    <tr>\n",
       "      <th>PARA_MICRO_ONDAS</th>\n",
       "      <td>7918</td>\n",
       "      <td>47.5</td>\n",
       "    </tr>\n",
       "    <tr>\n",
       "      <th>TEMPO_GARANTIA</th>\n",
       "      <td>7713</td>\n",
       "      <td>46.3</td>\n",
       "    </tr>\n",
       "    <tr>\n",
       "      <th>ALTURA</th>\n",
       "      <td>4632</td>\n",
       "      <td>27.8</td>\n",
       "    </tr>\n",
       "    <tr>\n",
       "      <th>LARGURA</th>\n",
       "      <td>4632</td>\n",
       "      <td>27.8</td>\n",
       "    </tr>\n",
       "    <tr>\n",
       "      <th>PROFUNDIDADE</th>\n",
       "      <td>4632</td>\n",
       "      <td>27.8</td>\n",
       "    </tr>\n",
       "    <tr>\n",
       "      <th>ITEM_PRICE</th>\n",
       "      <td>2715</td>\n",
       "      <td>16.3</td>\n",
       "    </tr>\n",
       "  </tbody>\n",
       "</table>\n",
       "</div>"
      ],
      "text/plain": [
       "                  Frequencia de NANs  % Equivalente\n",
       "PESO                           10455           62.7\n",
       "CAPACIDADE_(L)                  9940           59.6\n",
       "PARA_MICRO_ONDAS                7918           47.5\n",
       "TEMPO_GARANTIA                  7713           46.3\n",
       "ALTURA                          4632           27.8\n",
       "LARGURA                         4632           27.8\n",
       "PROFUNDIDADE                    4632           27.8\n",
       "ITEM_PRICE                      2715           16.3"
      ]
     },
     "execution_count": 20,
     "metadata": {},
     "output_type": "execute_result"
    }
   ],
   "source": [
    "dim = dados_cacarola.shape\n",
    "funcao_dados_missing(dados_cacarola) #Identificando NAN's Dados Caçarola"
   ]
  },
  {
   "cell_type": "code",
   "execution_count": 21,
   "metadata": {},
   "outputs": [
    {
     "name": "stdout",
     "output_type": "stream",
     "text": [
      "(16672, 19),(13957, 8)\n"
     ]
    }
   ],
   "source": [
    "x= ['PESO','PARA_MICRO_ONDAS','CAPACIDADE_(L)','FORMATO', 'TEMPO_GARANTIA','COMPOSICAO','ALTURA','LARGURA','PROFUNDIDADE','TIPO_WOK','TIPO_PRODUTO']\n",
    "dados_cacarola = dados_cacarola.drop(columns=x)  #Retirando Vriáveis pelos excessivos NAN's \n",
    "dados_cacarola.dropna(inplace=True) #Retirando Linhas com NAN's \n",
    "newdim= dados_cacarola.shape\n",
    "print(dim,newdim, sep=\",\")"
   ]
  },
  {
   "cell_type": "code",
   "execution_count": 22,
   "metadata": {},
   "outputs": [
    {
     "name": "stdout",
     "output_type": "stream",
     "text": [
      "Your selected dataframe has 19 columns.\n",
      "There are 8 columns that have missing values.\n"
     ]
    },
    {
     "data": {
      "text/html": [
       "<div>\n",
       "<style scoped>\n",
       "    .dataframe tbody tr th:only-of-type {\n",
       "        vertical-align: middle;\n",
       "    }\n",
       "\n",
       "    .dataframe tbody tr th {\n",
       "        vertical-align: top;\n",
       "    }\n",
       "\n",
       "    .dataframe thead th {\n",
       "        text-align: right;\n",
       "    }\n",
       "</style>\n",
       "<table border=\"1\" class=\"dataframe\">\n",
       "  <thead>\n",
       "    <tr style=\"text-align: right;\">\n",
       "      <th></th>\n",
       "      <th>Frequencia de NANs</th>\n",
       "      <th>% Equivalente</th>\n",
       "    </tr>\n",
       "  </thead>\n",
       "  <tbody>\n",
       "    <tr>\n",
       "      <th>CAPACIDADE_(L)</th>\n",
       "      <td>13370</td>\n",
       "      <td>81.9</td>\n",
       "    </tr>\n",
       "    <tr>\n",
       "      <th>PESO</th>\n",
       "      <td>9685</td>\n",
       "      <td>59.3</td>\n",
       "    </tr>\n",
       "    <tr>\n",
       "      <th>PARA_MICRO_ONDAS</th>\n",
       "      <td>8659</td>\n",
       "      <td>53.0</td>\n",
       "    </tr>\n",
       "    <tr>\n",
       "      <th>TEMPO_GARANTIA</th>\n",
       "      <td>5893</td>\n",
       "      <td>36.1</td>\n",
       "    </tr>\n",
       "    <tr>\n",
       "      <th>ITEM_PRICE</th>\n",
       "      <td>2588</td>\n",
       "      <td>15.9</td>\n",
       "    </tr>\n",
       "    <tr>\n",
       "      <th>ALTURA</th>\n",
       "      <td>1633</td>\n",
       "      <td>10.0</td>\n",
       "    </tr>\n",
       "    <tr>\n",
       "      <th>LARGURA</th>\n",
       "      <td>1633</td>\n",
       "      <td>10.0</td>\n",
       "    </tr>\n",
       "    <tr>\n",
       "      <th>PROFUNDIDADE</th>\n",
       "      <td>1633</td>\n",
       "      <td>10.0</td>\n",
       "    </tr>\n",
       "  </tbody>\n",
       "</table>\n",
       "</div>"
      ],
      "text/plain": [
       "                  Frequencia de NANs  % Equivalente\n",
       "CAPACIDADE_(L)                 13370           81.9\n",
       "PESO                            9685           59.3\n",
       "PARA_MICRO_ONDAS                8659           53.0\n",
       "TEMPO_GARANTIA                  5893           36.1\n",
       "ITEM_PRICE                      2588           15.9\n",
       "ALTURA                          1633           10.0\n",
       "LARGURA                         1633           10.0\n",
       "PROFUNDIDADE                    1633           10.0"
      ]
     },
     "execution_count": 22,
     "metadata": {},
     "output_type": "execute_result"
    }
   ],
   "source": [
    "dim = dados_frigideira.shape\n",
    "funcao_dados_missing(dados_frigideira) #Identificando NAN's Dados Frigideira"
   ]
  },
  {
   "cell_type": "code",
   "execution_count": 23,
   "metadata": {},
   "outputs": [
    {
     "data": {
      "text/plain": [
       "0.0    14137\n",
       "1.0     2188\n",
       "Name: TEM_TAMPA, dtype: int64"
      ]
     },
     "execution_count": 23,
     "metadata": {},
     "output_type": "execute_result"
    }
   ],
   "source": [
    "dados_frigideira['TEM_TAMPA'].value_counts()  #Identificando Significancia da Tampa"
   ]
  },
  {
   "cell_type": "code",
   "execution_count": 24,
   "metadata": {},
   "outputs": [
    {
     "name": "stdout",
     "output_type": "stream",
     "text": [
      "(16325, 19),(12420, 11)\n"
     ]
    }
   ],
   "source": [
    "x= ['PESO','PARA_MICRO_ONDAS','CAPACIDADE_(L)','FORMATO', 'TEMPO_GARANTIA','COR','TIPO_WOK','TIPO_PRODUTO']\n",
    "dados_frigideira = dados_frigideira.drop(columns=x)  #Retirando Vriáveis pelos excessivos NAN's \n",
    "dados_frigideira.dropna(inplace=True) #Retirando Linhas com NAN's \n",
    "newdim= dados_frigideira.shape\n",
    "print(dim,newdim, sep=\",\")"
   ]
  },
  {
   "cell_type": "code",
   "execution_count": 25,
   "metadata": {},
   "outputs": [
    {
     "name": "stdout",
     "output_type": "stream",
     "text": [
      "Your selected dataframe has 19 columns.\n",
      "There are 8 columns that have missing values.\n"
     ]
    },
    {
     "data": {
      "text/html": [
       "<div>\n",
       "<style scoped>\n",
       "    .dataframe tbody tr th:only-of-type {\n",
       "        vertical-align: middle;\n",
       "    }\n",
       "\n",
       "    .dataframe tbody tr th {\n",
       "        vertical-align: top;\n",
       "    }\n",
       "\n",
       "    .dataframe thead th {\n",
       "        text-align: right;\n",
       "    }\n",
       "</style>\n",
       "<table border=\"1\" class=\"dataframe\">\n",
       "  <thead>\n",
       "    <tr style=\"text-align: right;\">\n",
       "      <th></th>\n",
       "      <th>Frequencia de NANs</th>\n",
       "      <th>% Equivalente</th>\n",
       "    </tr>\n",
       "  </thead>\n",
       "  <tbody>\n",
       "    <tr>\n",
       "      <th>CAPACIDADE_(L)</th>\n",
       "      <td>5235</td>\n",
       "      <td>64.9</td>\n",
       "    </tr>\n",
       "    <tr>\n",
       "      <th>PARA_MICRO_ONDAS</th>\n",
       "      <td>1474</td>\n",
       "      <td>18.3</td>\n",
       "    </tr>\n",
       "    <tr>\n",
       "      <th>PESO</th>\n",
       "      <td>1474</td>\n",
       "      <td>18.3</td>\n",
       "    </tr>\n",
       "    <tr>\n",
       "      <th>TEMPO_GARANTIA</th>\n",
       "      <td>688</td>\n",
       "      <td>8.5</td>\n",
       "    </tr>\n",
       "    <tr>\n",
       "      <th>ITEM_PRICE</th>\n",
       "      <td>367</td>\n",
       "      <td>4.6</td>\n",
       "    </tr>\n",
       "    <tr>\n",
       "      <th>ALTURA</th>\n",
       "      <td>63</td>\n",
       "      <td>0.8</td>\n",
       "    </tr>\n",
       "    <tr>\n",
       "      <th>LARGURA</th>\n",
       "      <td>63</td>\n",
       "      <td>0.8</td>\n",
       "    </tr>\n",
       "    <tr>\n",
       "      <th>PROFUNDIDADE</th>\n",
       "      <td>63</td>\n",
       "      <td>0.8</td>\n",
       "    </tr>\n",
       "  </tbody>\n",
       "</table>\n",
       "</div>"
      ],
      "text/plain": [
       "                  Frequencia de NANs  % Equivalente\n",
       "CAPACIDADE_(L)                  5235           64.9\n",
       "PARA_MICRO_ONDAS                1474           18.3\n",
       "PESO                            1474           18.3\n",
       "TEMPO_GARANTIA                   688            8.5\n",
       "ITEM_PRICE                       367            4.6\n",
       "ALTURA                            63            0.8\n",
       "LARGURA                           63            0.8\n",
       "PROFUNDIDADE                      63            0.8"
      ]
     },
     "execution_count": 25,
     "metadata": {},
     "output_type": "execute_result"
    }
   ],
   "source": [
    "dim = dados_espagueteira.shape\n",
    "funcao_dados_missing(dados_espagueteira) #Identificando NAN's Dados Espagueteira"
   ]
  },
  {
   "cell_type": "code",
   "execution_count": 26,
   "metadata": {},
   "outputs": [
    {
     "data": {
      "text/plain": [
       "1.0    7031\n",
       "0.0    1031\n",
       "Name: TEM_TAMPA, dtype: int64"
      ]
     },
     "execution_count": 26,
     "metadata": {},
     "output_type": "execute_result"
    }
   ],
   "source": [
    "dados_espagueteira['TEM_TAMPA'].value_counts()  #Identificando Significancia da Tampa"
   ]
  },
  {
   "cell_type": "code",
   "execution_count": 175,
   "metadata": {},
   "outputs": [
    {
     "name": "stdout",
     "output_type": "stream",
     "text": [
      "(88, 19),(7184, 13)\n"
     ]
    }
   ],
   "source": [
    "x= ['PESO','PARA_MICRO_ONDAS','CAPACIDADE_(L)','FORMATO','TIPO_WOK','TIPO_PRODUTO']\n",
    "dados_espagueteira = dados_espagueteira.drop(columns=x)  #Retirando Vriáveis pelos excessivos NAN's \n",
    "dados_espagueteira.dropna(inplace=True) #Retirando Linhas com NAN's \n",
    "newdim= dados_espagueteira.shape\n",
    "print(dim,newdim, sep=\",\")"
   ]
  },
  {
   "cell_type": "code",
   "execution_count": 28,
   "metadata": {},
   "outputs": [
    {
     "name": "stdout",
     "output_type": "stream",
     "text": [
      "Your selected dataframe has 19 columns.\n",
      "There are 8 columns that have missing values.\n"
     ]
    },
    {
     "data": {
      "text/html": [
       "<div>\n",
       "<style scoped>\n",
       "    .dataframe tbody tr th:only-of-type {\n",
       "        vertical-align: middle;\n",
       "    }\n",
       "\n",
       "    .dataframe tbody tr th {\n",
       "        vertical-align: top;\n",
       "    }\n",
       "\n",
       "    .dataframe thead th {\n",
       "        text-align: right;\n",
       "    }\n",
       "</style>\n",
       "<table border=\"1\" class=\"dataframe\">\n",
       "  <thead>\n",
       "    <tr style=\"text-align: right;\">\n",
       "      <th></th>\n",
       "      <th>Frequencia de NANs</th>\n",
       "      <th>% Equivalente</th>\n",
       "    </tr>\n",
       "  </thead>\n",
       "  <tbody>\n",
       "    <tr>\n",
       "      <th>CAPACIDADE_(L)</th>\n",
       "      <td>6882</td>\n",
       "      <td>99.7</td>\n",
       "    </tr>\n",
       "    <tr>\n",
       "      <th>PESO</th>\n",
       "      <td>2277</td>\n",
       "      <td>33.0</td>\n",
       "    </tr>\n",
       "    <tr>\n",
       "      <th>PARA_MICRO_ONDAS</th>\n",
       "      <td>1758</td>\n",
       "      <td>25.5</td>\n",
       "    </tr>\n",
       "    <tr>\n",
       "      <th>TEMPO_GARANTIA</th>\n",
       "      <td>1758</td>\n",
       "      <td>25.5</td>\n",
       "    </tr>\n",
       "    <tr>\n",
       "      <th>ALTURA</th>\n",
       "      <td>519</td>\n",
       "      <td>7.5</td>\n",
       "    </tr>\n",
       "    <tr>\n",
       "      <th>LARGURA</th>\n",
       "      <td>519</td>\n",
       "      <td>7.5</td>\n",
       "    </tr>\n",
       "    <tr>\n",
       "      <th>PROFUNDIDADE</th>\n",
       "      <td>519</td>\n",
       "      <td>7.5</td>\n",
       "    </tr>\n",
       "    <tr>\n",
       "      <th>ITEM_PRICE</th>\n",
       "      <td>105</td>\n",
       "      <td>1.5</td>\n",
       "    </tr>\n",
       "  </tbody>\n",
       "</table>\n",
       "</div>"
      ],
      "text/plain": [
       "                  Frequencia de NANs  % Equivalente\n",
       "CAPACIDADE_(L)                  6882           99.7\n",
       "PESO                            2277           33.0\n",
       "PARA_MICRO_ONDAS                1758           25.5\n",
       "TEMPO_GARANTIA                  1758           25.5\n",
       "ALTURA                           519            7.5\n",
       "LARGURA                          519            7.5\n",
       "PROFUNDIDADE                     519            7.5\n",
       "ITEM_PRICE                       105            1.5"
      ]
     },
     "execution_count": 28,
     "metadata": {},
     "output_type": "execute_result"
    }
   ],
   "source": [
    "dim = dados_cuscuzeira.shape\n",
    "funcao_dados_missing(dados_cuscuzeira) #Identificando NAN's Dados Cuscuzeira"
   ]
  },
  {
   "cell_type": "code",
   "execution_count": 29,
   "metadata": {},
   "outputs": [
    {
     "data": {
      "text/plain": [
       "0.0    6871\n",
       "1.0      30\n",
       "Name: TEM_TAMPA, dtype: int64"
      ]
     },
     "execution_count": 29,
     "metadata": {},
     "output_type": "execute_result"
    }
   ],
   "source": [
    "dados_cuscuzeira['TEM_TAMPA'].value_counts()  #Identificando Significancia da Tampa"
   ]
  },
  {
   "cell_type": "code",
   "execution_count": 30,
   "metadata": {},
   "outputs": [
    {
     "name": "stdout",
     "output_type": "stream",
     "text": [
      "(6901, 19),(6304, 12)\n"
     ]
    }
   ],
   "source": [
    "x= ['PESO','PARA_MICRO_ONDAS','CAPACIDADE_(L)','FORMATO','TEMPO_GARANTIA','TIPO_WOK','TIPO_PRODUTO']\n",
    "dados_cuscuzeira = dados_cuscuzeira.drop(columns=x)  #Retirando Vriáveis pelos excessivos NAN's \n",
    "dados_cuscuzeira.dropna(inplace=True) #Retirando Linhas com NAN's \n",
    "newdim= dados_cuscuzeira.shape\n",
    "print(dim,newdim, sep=\",\")"
   ]
  },
  {
   "cell_type": "code",
   "execution_count": 31,
   "metadata": {},
   "outputs": [
    {
     "name": "stdout",
     "output_type": "stream",
     "text": [
      "Your selected dataframe has 19 columns.\n",
      "There are 5 columns that have missing values.\n"
     ]
    },
    {
     "data": {
      "text/html": [
       "<div>\n",
       "<style scoped>\n",
       "    .dataframe tbody tr th:only-of-type {\n",
       "        vertical-align: middle;\n",
       "    }\n",
       "\n",
       "    .dataframe tbody tr th {\n",
       "        vertical-align: top;\n",
       "    }\n",
       "\n",
       "    .dataframe thead th {\n",
       "        text-align: right;\n",
       "    }\n",
       "</style>\n",
       "<table border=\"1\" class=\"dataframe\">\n",
       "  <thead>\n",
       "    <tr style=\"text-align: right;\">\n",
       "      <th></th>\n",
       "      <th>Frequencia de NANs</th>\n",
       "      <th>% Equivalente</th>\n",
       "    </tr>\n",
       "  </thead>\n",
       "  <tbody>\n",
       "    <tr>\n",
       "      <th>CAPACIDADE_(L)</th>\n",
       "      <td>5028</td>\n",
       "      <td>100.0</td>\n",
       "    </tr>\n",
       "    <tr>\n",
       "      <th>PARA_MICRO_ONDAS</th>\n",
       "      <td>5028</td>\n",
       "      <td>100.0</td>\n",
       "    </tr>\n",
       "    <tr>\n",
       "      <th>PESO</th>\n",
       "      <td>5028</td>\n",
       "      <td>100.0</td>\n",
       "    </tr>\n",
       "    <tr>\n",
       "      <th>TEMPO_GARANTIA</th>\n",
       "      <td>4821</td>\n",
       "      <td>95.9</td>\n",
       "    </tr>\n",
       "    <tr>\n",
       "      <th>ITEM_PRICE</th>\n",
       "      <td>659</td>\n",
       "      <td>13.1</td>\n",
       "    </tr>\n",
       "  </tbody>\n",
       "</table>\n",
       "</div>"
      ],
      "text/plain": [
       "                  Frequencia de NANs  % Equivalente\n",
       "CAPACIDADE_(L)                  5028          100.0\n",
       "PARA_MICRO_ONDAS                5028          100.0\n",
       "PESO                            5028          100.0\n",
       "TEMPO_GARANTIA                  4821           95.9\n",
       "ITEM_PRICE                       659           13.1"
      ]
     },
     "execution_count": 31,
     "metadata": {},
     "output_type": "execute_result"
    }
   ],
   "source": [
    "dim = dados_chapa.shape\n",
    "funcao_dados_missing(dados_chapa) #Identificando NAN's Dados Chapa"
   ]
  },
  {
   "cell_type": "code",
   "execution_count": 32,
   "metadata": {},
   "outputs": [
    {
     "data": {
      "text/plain": [
       "0.0    5028\n",
       "1.0       0\n",
       "Name: TEM_TAMPA, dtype: int64"
      ]
     },
     "execution_count": 32,
     "metadata": {},
     "output_type": "execute_result"
    }
   ],
   "source": [
    "dados_chapa['TEM_TAMPA'].value_counts()  #Identificando Significancia da Tampa"
   ]
  },
  {
   "cell_type": "code",
   "execution_count": 33,
   "metadata": {},
   "outputs": [
    {
     "name": "stdout",
     "output_type": "stream",
     "text": [
      "(5028, 19),(4369, 10)\n"
     ]
    }
   ],
   "source": [
    "x= ['PESO','PARA_MICRO_ONDAS','CAPACIDADE_(L)','FORMATO','TEMPO_GARANTIA','COMPOSICAO','TEM_TAMPA','TIPO_WOK','TIPO_PRODUTO']\n",
    "dados_chapa = dados_chapa.drop(columns=x)  #Retirando Vriáveis pelos excessivos NAN's \n",
    "dados_chapa.dropna(inplace=True) #Retirando Linhas com NAN's \n",
    "newdim= dados_chapa.shape\n",
    "print(dim,newdim, sep=\",\")"
   ]
  },
  {
   "cell_type": "code",
   "execution_count": 34,
   "metadata": {},
   "outputs": [
    {
     "name": "stdout",
     "output_type": "stream",
     "text": [
      "Your selected dataframe has 19 columns.\n",
      "There are 8 columns that have missing values.\n"
     ]
    },
    {
     "data": {
      "text/html": [
       "<div>\n",
       "<style scoped>\n",
       "    .dataframe tbody tr th:only-of-type {\n",
       "        vertical-align: middle;\n",
       "    }\n",
       "\n",
       "    .dataframe tbody tr th {\n",
       "        vertical-align: top;\n",
       "    }\n",
       "\n",
       "    .dataframe thead th {\n",
       "        text-align: right;\n",
       "    }\n",
       "</style>\n",
       "<table border=\"1\" class=\"dataframe\">\n",
       "  <thead>\n",
       "    <tr style=\"text-align: right;\">\n",
       "      <th></th>\n",
       "      <th>Frequencia de NANs</th>\n",
       "      <th>% Equivalente</th>\n",
       "    </tr>\n",
       "  </thead>\n",
       "  <tbody>\n",
       "    <tr>\n",
       "      <th>CAPACIDADE_(L)</th>\n",
       "      <td>4166</td>\n",
       "      <td>86.3</td>\n",
       "    </tr>\n",
       "    <tr>\n",
       "      <th>TEMPO_GARANTIA</th>\n",
       "      <td>2330</td>\n",
       "      <td>48.3</td>\n",
       "    </tr>\n",
       "    <tr>\n",
       "      <th>PARA_MICRO_ONDAS</th>\n",
       "      <td>1765</td>\n",
       "      <td>36.6</td>\n",
       "    </tr>\n",
       "    <tr>\n",
       "      <th>PESO</th>\n",
       "      <td>1765</td>\n",
       "      <td>36.6</td>\n",
       "    </tr>\n",
       "    <tr>\n",
       "      <th>ITEM_PRICE</th>\n",
       "      <td>1014</td>\n",
       "      <td>21.0</td>\n",
       "    </tr>\n",
       "    <tr>\n",
       "      <th>ALTURA</th>\n",
       "      <td>402</td>\n",
       "      <td>8.3</td>\n",
       "    </tr>\n",
       "    <tr>\n",
       "      <th>LARGURA</th>\n",
       "      <td>402</td>\n",
       "      <td>8.3</td>\n",
       "    </tr>\n",
       "    <tr>\n",
       "      <th>PROFUNDIDADE</th>\n",
       "      <td>402</td>\n",
       "      <td>8.3</td>\n",
       "    </tr>\n",
       "  </tbody>\n",
       "</table>\n",
       "</div>"
      ],
      "text/plain": [
       "                  Frequencia de NANs  % Equivalente\n",
       "CAPACIDADE_(L)                  4166           86.3\n",
       "TEMPO_GARANTIA                  2330           48.3\n",
       "PARA_MICRO_ONDAS                1765           36.6\n",
       "PESO                            1765           36.6\n",
       "ITEM_PRICE                      1014           21.0\n",
       "ALTURA                           402            8.3\n",
       "LARGURA                          402            8.3\n",
       "PROFUNDIDADE                     402            8.3"
      ]
     },
     "execution_count": 34,
     "metadata": {},
     "output_type": "execute_result"
    }
   ],
   "source": [
    "dim = dados_wok.shape\n",
    "funcao_dados_missing(dados_wok) #Identificando NAN's Dados Wok"
   ]
  },
  {
   "cell_type": "code",
   "execution_count": 35,
   "metadata": {},
   "outputs": [
    {
     "data": {
      "text/plain": [
       "1.0    4097\n",
       "0.0     732\n",
       "Name: TEM_TAMPA, dtype: int64"
      ]
     },
     "execution_count": 35,
     "metadata": {},
     "output_type": "execute_result"
    }
   ],
   "source": [
    "dados_wok['TEM_TAMPA'].value_counts()  #Identificando Significancia da Tampa"
   ]
  },
  {
   "cell_type": "code",
   "execution_count": 36,
   "metadata": {},
   "outputs": [
    {
     "name": "stdout",
     "output_type": "stream",
     "text": [
      "(4829, 19),(3477, 12)\n"
     ]
    }
   ],
   "source": [
    "x= ['PESO','PARA_MICRO_ONDAS','CAPACIDADE_(L)','FORMATO','TEMPO_GARANTIA','TIPO_WOK','TIPO_PRODUTO']\n",
    "dados_wok = dados_wok.drop(columns=x)  #Retirando Vriáveis pelos excessivos NAN's \n",
    "dados_wok.dropna(inplace=True) #Retirando Linhas com NAN's \n",
    "newdim= dados_wok.shape\n",
    "print(dim,newdim, sep=\",\")"
   ]
  },
  {
   "cell_type": "code",
   "execution_count": 37,
   "metadata": {},
   "outputs": [
    {
     "name": "stdout",
     "output_type": "stream",
     "text": [
      "Your selected dataframe has 19 columns.\n",
      "There are 5 columns that have missing values.\n"
     ]
    },
    {
     "data": {
      "text/html": [
       "<div>\n",
       "<style scoped>\n",
       "    .dataframe tbody tr th:only-of-type {\n",
       "        vertical-align: middle;\n",
       "    }\n",
       "\n",
       "    .dataframe tbody tr th {\n",
       "        vertical-align: top;\n",
       "    }\n",
       "\n",
       "    .dataframe thead th {\n",
       "        text-align: right;\n",
       "    }\n",
       "</style>\n",
       "<table border=\"1\" class=\"dataframe\">\n",
       "  <thead>\n",
       "    <tr style=\"text-align: right;\">\n",
       "      <th></th>\n",
       "      <th>Frequencia de NANs</th>\n",
       "      <th>% Equivalente</th>\n",
       "    </tr>\n",
       "  </thead>\n",
       "  <tbody>\n",
       "    <tr>\n",
       "      <th>TEMPO_GARANTIA</th>\n",
       "      <td>374</td>\n",
       "      <td>14.7</td>\n",
       "    </tr>\n",
       "    <tr>\n",
       "      <th>PARA_MICRO_ONDAS</th>\n",
       "      <td>337</td>\n",
       "      <td>13.3</td>\n",
       "    </tr>\n",
       "    <tr>\n",
       "      <th>PESO</th>\n",
       "      <td>337</td>\n",
       "      <td>13.3</td>\n",
       "    </tr>\n",
       "    <tr>\n",
       "      <th>CAPACIDADE_(L)</th>\n",
       "      <td>299</td>\n",
       "      <td>11.8</td>\n",
       "    </tr>\n",
       "    <tr>\n",
       "      <th>ITEM_PRICE</th>\n",
       "      <td>196</td>\n",
       "      <td>7.7</td>\n",
       "    </tr>\n",
       "  </tbody>\n",
       "</table>\n",
       "</div>"
      ],
      "text/plain": [
       "                  Frequencia de NANs  % Equivalente\n",
       "TEMPO_GARANTIA                   374           14.7\n",
       "PARA_MICRO_ONDAS                 337           13.3\n",
       "PESO                             337           13.3\n",
       "CAPACIDADE_(L)                   299           11.8\n",
       "ITEM_PRICE                       196            7.7"
      ]
     },
     "execution_count": 37,
     "metadata": {},
     "output_type": "execute_result"
    }
   ],
   "source": [
    "dim = dados_caldeirao.shape\n",
    "funcao_dados_missing(dados_caldeirao) #Identificando NAN's Dados Caldeirão"
   ]
  },
  {
   "cell_type": "code",
   "execution_count": 38,
   "metadata": {},
   "outputs": [
    {
     "data": {
      "text/plain": [
       "1.0    2131\n",
       "0.0     406\n",
       "Name: TEM_TAMPA, dtype: int64"
      ]
     },
     "execution_count": 38,
     "metadata": {},
     "output_type": "execute_result"
    }
   ],
   "source": [
    "dados_caldeirao['TEM_TAMPA'].value_counts()  #Identificando Significancia da Tampa"
   ]
  },
  {
   "cell_type": "code",
   "execution_count": 39,
   "metadata": {},
   "outputs": [
    {
     "name": "stdout",
     "output_type": "stream",
     "text": [
      "(2537, 19),(2341, 12)\n"
     ]
    }
   ],
   "source": [
    "x= ['PESO','PARA_MICRO_ONDAS','CAPACIDADE_(L)','FORMATO','TEMPO_GARANTIA','TIPO_WOK','TIPO_PRODUTO']\n",
    "dados_caldeirao = dados_caldeirao.drop(columns=x)  #Retirando Vriáveis pelos excessivos NAN's \n",
    "dados_caldeirao.dropna(inplace=True) #Retirando Linhas com NAN's \n",
    "newdim= dados_caldeirao.shape\n",
    "print(dim,newdim, sep=\",\")"
   ]
  },
  {
   "cell_type": "code",
   "execution_count": 40,
   "metadata": {},
   "outputs": [
    {
     "name": "stdout",
     "output_type": "stream",
     "text": [
      "Your selected dataframe has 19 columns.\n",
      "There are 8 columns that have missing values.\n"
     ]
    },
    {
     "data": {
      "text/html": [
       "<div>\n",
       "<style scoped>\n",
       "    .dataframe tbody tr th:only-of-type {\n",
       "        vertical-align: middle;\n",
       "    }\n",
       "\n",
       "    .dataframe tbody tr th {\n",
       "        vertical-align: top;\n",
       "    }\n",
       "\n",
       "    .dataframe thead th {\n",
       "        text-align: right;\n",
       "    }\n",
       "</style>\n",
       "<table border=\"1\" class=\"dataframe\">\n",
       "  <thead>\n",
       "    <tr style=\"text-align: right;\">\n",
       "      <th></th>\n",
       "      <th>Frequencia de NANs</th>\n",
       "      <th>% Equivalente</th>\n",
       "    </tr>\n",
       "  </thead>\n",
       "  <tbody>\n",
       "    <tr>\n",
       "      <th>TEMPO_GARANTIA</th>\n",
       "      <td>2400</td>\n",
       "      <td>100.0</td>\n",
       "    </tr>\n",
       "    <tr>\n",
       "      <th>CAPACIDADE_(L)</th>\n",
       "      <td>2236</td>\n",
       "      <td>93.2</td>\n",
       "    </tr>\n",
       "    <tr>\n",
       "      <th>PARA_MICRO_ONDAS</th>\n",
       "      <td>380</td>\n",
       "      <td>15.8</td>\n",
       "    </tr>\n",
       "    <tr>\n",
       "      <th>PESO</th>\n",
       "      <td>380</td>\n",
       "      <td>15.8</td>\n",
       "    </tr>\n",
       "    <tr>\n",
       "      <th>ITEM_PRICE</th>\n",
       "      <td>130</td>\n",
       "      <td>5.4</td>\n",
       "    </tr>\n",
       "    <tr>\n",
       "      <th>ALTURA</th>\n",
       "      <td>107</td>\n",
       "      <td>4.5</td>\n",
       "    </tr>\n",
       "    <tr>\n",
       "      <th>LARGURA</th>\n",
       "      <td>107</td>\n",
       "      <td>4.5</td>\n",
       "    </tr>\n",
       "    <tr>\n",
       "      <th>PROFUNDIDADE</th>\n",
       "      <td>107</td>\n",
       "      <td>4.5</td>\n",
       "    </tr>\n",
       "  </tbody>\n",
       "</table>\n",
       "</div>"
      ],
      "text/plain": [
       "                  Frequencia de NANs  % Equivalente\n",
       "TEMPO_GARANTIA                  2400          100.0\n",
       "CAPACIDADE_(L)                  2236           93.2\n",
       "PARA_MICRO_ONDAS                 380           15.8\n",
       "PESO                             380           15.8\n",
       "ITEM_PRICE                       130            5.4\n",
       "ALTURA                           107            4.5\n",
       "LARGURA                          107            4.5\n",
       "PROFUNDIDADE                     107            4.5"
      ]
     },
     "execution_count": 40,
     "metadata": {},
     "output_type": "execute_result"
    }
   ],
   "source": [
    "dim = dados_fervedor.shape\n",
    "funcao_dados_missing(dados_fervedor) #Identificando NAN's Dados Fervedor"
   ]
  },
  {
   "cell_type": "code",
   "execution_count": 41,
   "metadata": {},
   "outputs": [
    {
     "data": {
      "text/plain": [
       "0.0    2400\n",
       "1.0       0\n",
       "Name: TEM_TAMPA, dtype: int64"
      ]
     },
     "execution_count": 41,
     "metadata": {},
     "output_type": "execute_result"
    }
   ],
   "source": [
    "dados_fervedor['TEM_TAMPA'].value_counts()  #Identificando Significancia da Tampa"
   ]
  },
  {
   "cell_type": "code",
   "execution_count": 42,
   "metadata": {},
   "outputs": [
    {
     "name": "stdout",
     "output_type": "stream",
     "text": [
      "(2400, 19),(2188, 10)\n"
     ]
    }
   ],
   "source": [
    "x= ['PESO','PARA_MICRO_ONDAS','CAPACIDADE_(L)','FORMATO','TEMPO_GARANTIA','TEM_TAMPA','TIPO_WOK','COR','TIPO_PRODUTO']\n",
    "dados_fervedor = dados_fervedor.drop(columns=x)  #Retirando Vriáveis pelos excessivos NAN's \n",
    "dados_fervedor.dropna(inplace=True) #Retirando Linhas com NAN's \n",
    "newdim= dados_fervedor.shape\n",
    "print(dim,newdim, sep=\",\")"
   ]
  },
  {
   "cell_type": "code",
   "execution_count": 43,
   "metadata": {},
   "outputs": [
    {
     "name": "stdout",
     "output_type": "stream",
     "text": [
      "Your selected dataframe has 19 columns.\n",
      "There are 5 columns that have missing values.\n"
     ]
    },
    {
     "data": {
      "text/html": [
       "<div>\n",
       "<style scoped>\n",
       "    .dataframe tbody tr th:only-of-type {\n",
       "        vertical-align: middle;\n",
       "    }\n",
       "\n",
       "    .dataframe tbody tr th {\n",
       "        vertical-align: top;\n",
       "    }\n",
       "\n",
       "    .dataframe thead th {\n",
       "        text-align: right;\n",
       "    }\n",
       "</style>\n",
       "<table border=\"1\" class=\"dataframe\">\n",
       "  <thead>\n",
       "    <tr style=\"text-align: right;\">\n",
       "      <th></th>\n",
       "      <th>Frequencia de NANs</th>\n",
       "      <th>% Equivalente</th>\n",
       "    </tr>\n",
       "  </thead>\n",
       "  <tbody>\n",
       "    <tr>\n",
       "      <th>PARA_MICRO_ONDAS</th>\n",
       "      <td>1156</td>\n",
       "      <td>100.0</td>\n",
       "    </tr>\n",
       "    <tr>\n",
       "      <th>PESO</th>\n",
       "      <td>1124</td>\n",
       "      <td>97.2</td>\n",
       "    </tr>\n",
       "    <tr>\n",
       "      <th>TEMPO_GARANTIA</th>\n",
       "      <td>1083</td>\n",
       "      <td>93.7</td>\n",
       "    </tr>\n",
       "    <tr>\n",
       "      <th>ITEM_PRICE</th>\n",
       "      <td>204</td>\n",
       "      <td>17.6</td>\n",
       "    </tr>\n",
       "    <tr>\n",
       "      <th>CAPACIDADE_(L)</th>\n",
       "      <td>163</td>\n",
       "      <td>14.1</td>\n",
       "    </tr>\n",
       "  </tbody>\n",
       "</table>\n",
       "</div>"
      ],
      "text/plain": [
       "                  Frequencia de NANs  % Equivalente\n",
       "PARA_MICRO_ONDAS                1156          100.0\n",
       "PESO                            1124           97.2\n",
       "TEMPO_GARANTIA                  1083           93.7\n",
       "ITEM_PRICE                       204           17.6\n",
       "CAPACIDADE_(L)                   163           14.1"
      ]
     },
     "execution_count": 43,
     "metadata": {},
     "output_type": "execute_result"
    }
   ],
   "source": [
    "dim = dados_grill.shape\n",
    "funcao_dados_missing(dados_grill) #Identificando NAN's Dados Grill"
   ]
  },
  {
   "cell_type": "code",
   "execution_count": 44,
   "metadata": {},
   "outputs": [
    {
     "data": {
      "text/plain": [
       "0.0    1156\n",
       "1.0       0\n",
       "Name: TEM_TAMPA, dtype: int64"
      ]
     },
     "execution_count": 44,
     "metadata": {},
     "output_type": "execute_result"
    }
   ],
   "source": [
    "dados_grill['TEM_TAMPA'].value_counts()  #Identificando Significancia da Tampa"
   ]
  },
  {
   "cell_type": "code",
   "execution_count": 45,
   "metadata": {},
   "outputs": [
    {
     "name": "stdout",
     "output_type": "stream",
     "text": [
      "(1156, 19),(884, 13)\n"
     ]
    }
   ],
   "source": [
    "x= ['PESO','PARA_MICRO_ONDAS','TEMPO_GARANTIA','TEM_TAMPA','TIPO_WOK','TIPO_PRODUTO']\n",
    "dados_grill = dados_grill.drop(columns=x)  #Retirando Vriáveis pelos excessivos NAN's \n",
    "dados_grill.dropna(inplace=True) #Retirando Linhas com NAN's \n",
    "newdim= dados_grill.shape\n",
    "print(dim,newdim, sep=\",\")"
   ]
  },
  {
   "cell_type": "code",
   "execution_count": 46,
   "metadata": {},
   "outputs": [
    {
     "name": "stdout",
     "output_type": "stream",
     "text": [
      "Your selected dataframe has 19 columns.\n",
      "There are 5 columns that have missing values.\n"
     ]
    },
    {
     "data": {
      "text/html": [
       "<div>\n",
       "<style scoped>\n",
       "    .dataframe tbody tr th:only-of-type {\n",
       "        vertical-align: middle;\n",
       "    }\n",
       "\n",
       "    .dataframe tbody tr th {\n",
       "        vertical-align: top;\n",
       "    }\n",
       "\n",
       "    .dataframe thead th {\n",
       "        text-align: right;\n",
       "    }\n",
       "</style>\n",
       "<table border=\"1\" class=\"dataframe\">\n",
       "  <thead>\n",
       "    <tr style=\"text-align: right;\">\n",
       "      <th></th>\n",
       "      <th>Frequencia de NANs</th>\n",
       "      <th>% Equivalente</th>\n",
       "    </tr>\n",
       "  </thead>\n",
       "  <tbody>\n",
       "    <tr>\n",
       "      <th>TEMPO_GARANTIA</th>\n",
       "      <td>619</td>\n",
       "      <td>75.4</td>\n",
       "    </tr>\n",
       "    <tr>\n",
       "      <th>CAPACIDADE_(L)</th>\n",
       "      <td>517</td>\n",
       "      <td>63.0</td>\n",
       "    </tr>\n",
       "    <tr>\n",
       "      <th>ITEM_PRICE</th>\n",
       "      <td>262</td>\n",
       "      <td>31.9</td>\n",
       "    </tr>\n",
       "    <tr>\n",
       "      <th>PESO</th>\n",
       "      <td>210</td>\n",
       "      <td>25.6</td>\n",
       "    </tr>\n",
       "    <tr>\n",
       "      <th>PARA_MICRO_ONDAS</th>\n",
       "      <td>58</td>\n",
       "      <td>7.1</td>\n",
       "    </tr>\n",
       "  </tbody>\n",
       "</table>\n",
       "</div>"
      ],
      "text/plain": [
       "                  Frequencia de NANs  % Equivalente\n",
       "TEMPO_GARANTIA                   619           75.4\n",
       "CAPACIDADE_(L)                   517           63.0\n",
       "ITEM_PRICE                       262           31.9\n",
       "PESO                             210           25.6\n",
       "PARA_MICRO_ONDAS                  58            7.1"
      ]
     },
     "execution_count": 46,
     "metadata": {},
     "output_type": "execute_result"
    }
   ],
   "source": [
    "dim = dados_paellera.shape\n",
    "funcao_dados_missing(dados_paellera) #Identificando NAN's Dados Paellera"
   ]
  },
  {
   "cell_type": "code",
   "execution_count": 47,
   "metadata": {},
   "outputs": [
    {
     "data": {
      "text/plain": [
       "0.0    517\n",
       "1.0    304\n",
       "Name: TEM_TAMPA, dtype: int64"
      ]
     },
     "execution_count": 47,
     "metadata": {},
     "output_type": "execute_result"
    }
   ],
   "source": [
    "dados_paellera['TEM_TAMPA'].value_counts()  #Identificando Significancia da Tampa"
   ]
  },
  {
   "cell_type": "code",
   "execution_count": 48,
   "metadata": {},
   "outputs": [
    {
     "name": "stdout",
     "output_type": "stream",
     "text": [
      "(821, 19),(432, 13)\n"
     ]
    }
   ],
   "source": [
    "x= ['COR','FORMATO','TEMPO_GARANTIA','CAPACIDADE_(L)','TIPO_WOK','TIPO_PRODUTO']\n",
    "dados_paellera = dados_paellera.drop(columns=x)  #Retirando Vriáveis pelos excessivos NAN's \n",
    "dados_paellera.dropna(inplace=True) #Retirando Linhas com NAN's \n",
    "newdim= dados_paellera.shape\n",
    "print(dim,newdim, sep=\",\")"
   ]
  },
  {
   "cell_type": "code",
   "execution_count": 49,
   "metadata": {},
   "outputs": [
    {
     "name": "stdout",
     "output_type": "stream",
     "text": [
      "Your selected dataframe has 19 columns.\n",
      "There are 5 columns that have missing values.\n"
     ]
    },
    {
     "data": {
      "text/html": [
       "<div>\n",
       "<style scoped>\n",
       "    .dataframe tbody tr th:only-of-type {\n",
       "        vertical-align: middle;\n",
       "    }\n",
       "\n",
       "    .dataframe tbody tr th {\n",
       "        vertical-align: top;\n",
       "    }\n",
       "\n",
       "    .dataframe thead th {\n",
       "        text-align: right;\n",
       "    }\n",
       "</style>\n",
       "<table border=\"1\" class=\"dataframe\">\n",
       "  <thead>\n",
       "    <tr style=\"text-align: right;\">\n",
       "      <th></th>\n",
       "      <th>Frequencia de NANs</th>\n",
       "      <th>% Equivalente</th>\n",
       "    </tr>\n",
       "  </thead>\n",
       "  <tbody>\n",
       "    <tr>\n",
       "      <th>CAPACIDADE_(L)</th>\n",
       "      <td>745</td>\n",
       "      <td>100.0</td>\n",
       "    </tr>\n",
       "    <tr>\n",
       "      <th>PARA_MICRO_ONDAS</th>\n",
       "      <td>745</td>\n",
       "      <td>100.0</td>\n",
       "    </tr>\n",
       "    <tr>\n",
       "      <th>PESO</th>\n",
       "      <td>745</td>\n",
       "      <td>100.0</td>\n",
       "    </tr>\n",
       "    <tr>\n",
       "      <th>TEMPO_GARANTIA</th>\n",
       "      <td>745</td>\n",
       "      <td>100.0</td>\n",
       "    </tr>\n",
       "    <tr>\n",
       "      <th>ITEM_PRICE</th>\n",
       "      <td>88</td>\n",
       "      <td>11.8</td>\n",
       "    </tr>\n",
       "  </tbody>\n",
       "</table>\n",
       "</div>"
      ],
      "text/plain": [
       "                  Frequencia de NANs  % Equivalente\n",
       "CAPACIDADE_(L)                   745          100.0\n",
       "PARA_MICRO_ONDAS                 745          100.0\n",
       "PESO                             745          100.0\n",
       "TEMPO_GARANTIA                   745          100.0\n",
       "ITEM_PRICE                        88           11.8"
      ]
     },
     "execution_count": 49,
     "metadata": {},
     "output_type": "execute_result"
    }
   ],
   "source": [
    "dim = dados_bifeteira.shape\n",
    "funcao_dados_missing(dados_bifeteira) #Identificando NAN's Dados Bifeteira"
   ]
  },
  {
   "cell_type": "code",
   "execution_count": 50,
   "metadata": {},
   "outputs": [
    {
     "data": {
      "text/plain": [
       "0.0    745\n",
       "1.0      0\n",
       "Name: TEM_TAMPA, dtype: int64"
      ]
     },
     "execution_count": 50,
     "metadata": {},
     "output_type": "execute_result"
    }
   ],
   "source": [
    "dados_bifeteira['TEM_TAMPA'].value_counts()  #Identificando Significancia da Tampa"
   ]
  },
  {
   "cell_type": "code",
   "execution_count": 51,
   "metadata": {},
   "outputs": [
    {
     "name": "stdout",
     "output_type": "stream",
     "text": [
      "(745, 19),(657, 11)\n"
     ]
    }
   ],
   "source": [
    "x= ['PESO','COMPOSICAO','PARA_MICRO_ONDAS','TEMPO_GARANTIA','CAPACIDADE_(L)','TEM_TAMPA','TIPO_WOK','TIPO_PRODUTO']\n",
    "dados_bifeteira = dados_bifeteira.drop(columns=x)  #Retirando Vriáveis pelos excessivos NAN's \n",
    "dados_bifeteira.dropna(inplace=True) #Retirando Linhas com NAN's \n",
    "newdim= dados_bifeteira.shape\n",
    "print(dim,newdim, sep=\",\")"
   ]
  },
  {
   "cell_type": "code",
   "execution_count": 52,
   "metadata": {},
   "outputs": [
    {
     "name": "stdout",
     "output_type": "stream",
     "text": [
      "Your selected dataframe has 19 columns.\n",
      "There are 5 columns that have missing values.\n"
     ]
    },
    {
     "data": {
      "text/html": [
       "<div>\n",
       "<style scoped>\n",
       "    .dataframe tbody tr th:only-of-type {\n",
       "        vertical-align: middle;\n",
       "    }\n",
       "\n",
       "    .dataframe tbody tr th {\n",
       "        vertical-align: top;\n",
       "    }\n",
       "\n",
       "    .dataframe thead th {\n",
       "        text-align: right;\n",
       "    }\n",
       "</style>\n",
       "<table border=\"1\" class=\"dataframe\">\n",
       "  <thead>\n",
       "    <tr style=\"text-align: right;\">\n",
       "      <th></th>\n",
       "      <th>Frequencia de NANs</th>\n",
       "      <th>% Equivalente</th>\n",
       "    </tr>\n",
       "  </thead>\n",
       "  <tbody>\n",
       "    <tr>\n",
       "      <th>ITEM_PRICE</th>\n",
       "      <td>154</td>\n",
       "      <td>20.7</td>\n",
       "    </tr>\n",
       "    <tr>\n",
       "      <th>ALTURA</th>\n",
       "      <td>104</td>\n",
       "      <td>14.0</td>\n",
       "    </tr>\n",
       "    <tr>\n",
       "      <th>LARGURA</th>\n",
       "      <td>104</td>\n",
       "      <td>14.0</td>\n",
       "    </tr>\n",
       "    <tr>\n",
       "      <th>PESO</th>\n",
       "      <td>104</td>\n",
       "      <td>14.0</td>\n",
       "    </tr>\n",
       "    <tr>\n",
       "      <th>PROFUNDIDADE</th>\n",
       "      <td>104</td>\n",
       "      <td>14.0</td>\n",
       "    </tr>\n",
       "  </tbody>\n",
       "</table>\n",
       "</div>"
      ],
      "text/plain": [
       "              Frequencia de NANs  % Equivalente\n",
       "ITEM_PRICE                   154           20.7\n",
       "ALTURA                       104           14.0\n",
       "LARGURA                      104           14.0\n",
       "PESO                         104           14.0\n",
       "PROFUNDIDADE                 104           14.0"
      ]
     },
     "execution_count": 52,
     "metadata": {},
     "output_type": "execute_result"
    }
   ],
   "source": [
    "dim = dados_bule.shape\n",
    "funcao_dados_missing(dados_bule) #Identificando NAN's Dados Bule"
   ]
  },
  {
   "cell_type": "code",
   "execution_count": 53,
   "metadata": {},
   "outputs": [
    {
     "data": {
      "text/plain": [
       "0.0    744\n",
       "1.0      0\n",
       "Name: TEM_TAMPA, dtype: int64"
      ]
     },
     "execution_count": 53,
     "metadata": {},
     "output_type": "execute_result"
    }
   ],
   "source": [
    "dados_bule['TEM_TAMPA'].value_counts()  #Identificando Significancia da Tampa"
   ]
  },
  {
   "cell_type": "code",
   "execution_count": 54,
   "metadata": {},
   "outputs": [
    {
     "name": "stdout",
     "output_type": "stream",
     "text": [
      "(744, 19),(525, 15)\n"
     ]
    }
   ],
   "source": [
    "x= ['FORMATO','TEM_TAMPA','TIPO_WOK','TIPO_PRODUTO']\n",
    "dados_bule = dados_bule.drop(columns=x)  #Retirando Vriáveis pelos excessivos NAN's \n",
    "dados_bule.dropna(inplace=True) #Retirando Linhas com NAN's \n",
    "newdim= dados_bule.shape\n",
    "print(dim,newdim, sep=\",\")"
   ]
  },
  {
   "cell_type": "code",
   "execution_count": 55,
   "metadata": {},
   "outputs": [
    {
     "name": "stdout",
     "output_type": "stream",
     "text": [
      "Your selected dataframe has 19 columns.\n",
      "There are 8 columns that have missing values.\n"
     ]
    },
    {
     "data": {
      "text/html": [
       "<div>\n",
       "<style scoped>\n",
       "    .dataframe tbody tr th:only-of-type {\n",
       "        vertical-align: middle;\n",
       "    }\n",
       "\n",
       "    .dataframe tbody tr th {\n",
       "        vertical-align: top;\n",
       "    }\n",
       "\n",
       "    .dataframe thead th {\n",
       "        text-align: right;\n",
       "    }\n",
       "</style>\n",
       "<table border=\"1\" class=\"dataframe\">\n",
       "  <thead>\n",
       "    <tr style=\"text-align: right;\">\n",
       "      <th></th>\n",
       "      <th>Frequencia de NANs</th>\n",
       "      <th>% Equivalente</th>\n",
       "    </tr>\n",
       "  </thead>\n",
       "  <tbody>\n",
       "    <tr>\n",
       "      <th>CAPACIDADE_(L)</th>\n",
       "      <td>703</td>\n",
       "      <td>100.0</td>\n",
       "    </tr>\n",
       "    <tr>\n",
       "      <th>PARA_MICRO_ONDAS</th>\n",
       "      <td>388</td>\n",
       "      <td>55.2</td>\n",
       "    </tr>\n",
       "    <tr>\n",
       "      <th>PESO</th>\n",
       "      <td>388</td>\n",
       "      <td>55.2</td>\n",
       "    </tr>\n",
       "    <tr>\n",
       "      <th>TEMPO_GARANTIA</th>\n",
       "      <td>388</td>\n",
       "      <td>55.2</td>\n",
       "    </tr>\n",
       "    <tr>\n",
       "      <th>ITEM_PRICE</th>\n",
       "      <td>97</td>\n",
       "      <td>13.8</td>\n",
       "    </tr>\n",
       "    <tr>\n",
       "      <th>ALTURA</th>\n",
       "      <td>64</td>\n",
       "      <td>9.1</td>\n",
       "    </tr>\n",
       "    <tr>\n",
       "      <th>LARGURA</th>\n",
       "      <td>64</td>\n",
       "      <td>9.1</td>\n",
       "    </tr>\n",
       "    <tr>\n",
       "      <th>PROFUNDIDADE</th>\n",
       "      <td>64</td>\n",
       "      <td>9.1</td>\n",
       "    </tr>\n",
       "  </tbody>\n",
       "</table>\n",
       "</div>"
      ],
      "text/plain": [
       "                  Frequencia de NANs  % Equivalente\n",
       "CAPACIDADE_(L)                   703          100.0\n",
       "PARA_MICRO_ONDAS                 388           55.2\n",
       "PESO                             388           55.2\n",
       "TEMPO_GARANTIA                   388           55.2\n",
       "ITEM_PRICE                        97           13.8\n",
       "ALTURA                            64            9.1\n",
       "LARGURA                           64            9.1\n",
       "PROFUNDIDADE                      64            9.1"
      ]
     },
     "execution_count": 55,
     "metadata": {},
     "output_type": "execute_result"
    }
   ],
   "source": [
    "dim = dados_panquequeira.shape\n",
    "funcao_dados_missing(dados_panquequeira) #Identificando NAN's Dados Panquequeira"
   ]
  },
  {
   "cell_type": "code",
   "execution_count": 56,
   "metadata": {},
   "outputs": [
    {
     "data": {
      "text/plain": [
       "0.0    703\n",
       "1.0      0\n",
       "Name: TEM_TAMPA, dtype: int64"
      ]
     },
     "execution_count": 56,
     "metadata": {},
     "output_type": "execute_result"
    }
   ],
   "source": [
    "dados_panquequeira['TEM_TAMPA'].value_counts()  #Identificando Significancia da Tampa"
   ]
  },
  {
   "cell_type": "code",
   "execution_count": 57,
   "metadata": {},
   "outputs": [
    {
     "name": "stdout",
     "output_type": "stream",
     "text": [
      "(703, 19),(568, 10)\n"
     ]
    }
   ],
   "source": [
    "x= ['FORMATO','CAPACIDADE_(L)','PARA_MICRO_ONDAS','PESO','TEMPO_GARANTIA','COR','TEM_TAMPA','TIPO_WOK','TIPO_PRODUTO']\n",
    "dados_panquequeira = dados_panquequeira.drop(columns=x)  #Retirando Vriáveis pelos excessivos NAN's \n",
    "dados_panquequeira.dropna(inplace=True) #Retirando Linhas com NAN's \n",
    "newdim= dados_panquequeira.shape\n",
    "print(dim,newdim, sep=\",\")"
   ]
  },
  {
   "cell_type": "code",
   "execution_count": 58,
   "metadata": {},
   "outputs": [
    {
     "name": "stdout",
     "output_type": "stream",
     "text": [
      "Your selected dataframe has 19 columns.\n",
      "There are 5 columns that have missing values.\n"
     ]
    },
    {
     "data": {
      "text/html": [
       "<div>\n",
       "<style scoped>\n",
       "    .dataframe tbody tr th:only-of-type {\n",
       "        vertical-align: middle;\n",
       "    }\n",
       "\n",
       "    .dataframe tbody tr th {\n",
       "        vertical-align: top;\n",
       "    }\n",
       "\n",
       "    .dataframe thead th {\n",
       "        text-align: right;\n",
       "    }\n",
       "</style>\n",
       "<table border=\"1\" class=\"dataframe\">\n",
       "  <thead>\n",
       "    <tr style=\"text-align: right;\">\n",
       "      <th></th>\n",
       "      <th>Frequencia de NANs</th>\n",
       "      <th>% Equivalente</th>\n",
       "    </tr>\n",
       "  </thead>\n",
       "  <tbody>\n",
       "    <tr>\n",
       "      <th>CAPACIDADE_(L)</th>\n",
       "      <td>223</td>\n",
       "      <td>32.1</td>\n",
       "    </tr>\n",
       "    <tr>\n",
       "      <th>PARA_MICRO_ONDAS</th>\n",
       "      <td>222</td>\n",
       "      <td>31.9</td>\n",
       "    </tr>\n",
       "    <tr>\n",
       "      <th>PESO</th>\n",
       "      <td>222</td>\n",
       "      <td>31.9</td>\n",
       "    </tr>\n",
       "    <tr>\n",
       "      <th>TEMPO_GARANTIA</th>\n",
       "      <td>222</td>\n",
       "      <td>31.9</td>\n",
       "    </tr>\n",
       "    <tr>\n",
       "      <th>ITEM_PRICE</th>\n",
       "      <td>63</td>\n",
       "      <td>9.1</td>\n",
       "    </tr>\n",
       "  </tbody>\n",
       "</table>\n",
       "</div>"
      ],
      "text/plain": [
       "                  Frequencia de NANs  % Equivalente\n",
       "CAPACIDADE_(L)                   223           32.1\n",
       "PARA_MICRO_ONDAS                 222           31.9\n",
       "PESO                             222           31.9\n",
       "TEMPO_GARANTIA                   222           31.9\n",
       "ITEM_PRICE                        63            9.1"
      ]
     },
     "execution_count": 58,
     "metadata": {},
     "output_type": "execute_result"
    }
   ],
   "source": [
    "dim = dados_leiteira.shape\n",
    "funcao_dados_missing(dados_leiteira) #Identificando NAN's Dados Leiteira"
   ]
  },
  {
   "cell_type": "code",
   "execution_count": 59,
   "metadata": {},
   "outputs": [
    {
     "data": {
      "text/plain": [
       "0.0    694\n",
       "1.0      1\n",
       "Name: TEM_TAMPA, dtype: int64"
      ]
     },
     "execution_count": 59,
     "metadata": {},
     "output_type": "execute_result"
    }
   ],
   "source": [
    "dados_leiteira['TEM_TAMPA'].value_counts()  #Identificando Significancia da Tampa"
   ]
  },
  {
   "cell_type": "code",
   "execution_count": 60,
   "metadata": {},
   "outputs": [
    {
     "name": "stdout",
     "output_type": "stream",
     "text": [
      "(695, 19),(632, 11)\n"
     ]
    }
   ],
   "source": [
    "x= ['FORMATO','CAPACIDADE_(L)','PARA_MICRO_ONDAS','PESO','TEMPO_GARANTIA','TEM_TAMPA','TIPO_WOK','TIPO_PRODUTO']\n",
    "dados_leiteira = dados_leiteira.drop(columns=x)  #Retirando Vriáveis pelos excessivos NAN's \n",
    "dados_leiteira.dropna(inplace=True) #Retirando Linhas com NAN's \n",
    "newdim= dados_leiteira.shape\n",
    "print(dim,newdim, sep=\",\")"
   ]
  },
  {
   "cell_type": "code",
   "execution_count": 61,
   "metadata": {},
   "outputs": [
    {
     "name": "stdout",
     "output_type": "stream",
     "text": [
      "Your selected dataframe has 19 columns.\n",
      "There are 5 columns that have missing values.\n"
     ]
    },
    {
     "data": {
      "text/html": [
       "<div>\n",
       "<style scoped>\n",
       "    .dataframe tbody tr th:only-of-type {\n",
       "        vertical-align: middle;\n",
       "    }\n",
       "\n",
       "    .dataframe tbody tr th {\n",
       "        vertical-align: top;\n",
       "    }\n",
       "\n",
       "    .dataframe thead th {\n",
       "        text-align: right;\n",
       "    }\n",
       "</style>\n",
       "<table border=\"1\" class=\"dataframe\">\n",
       "  <thead>\n",
       "    <tr style=\"text-align: right;\">\n",
       "      <th></th>\n",
       "      <th>Frequencia de NANs</th>\n",
       "      <th>% Equivalente</th>\n",
       "    </tr>\n",
       "  </thead>\n",
       "  <tbody>\n",
       "    <tr>\n",
       "      <th>CAPACIDADE_(L)</th>\n",
       "      <td>608</td>\n",
       "      <td>100.0</td>\n",
       "    </tr>\n",
       "    <tr>\n",
       "      <th>PARA_MICRO_ONDAS</th>\n",
       "      <td>605</td>\n",
       "      <td>99.5</td>\n",
       "    </tr>\n",
       "    <tr>\n",
       "      <th>PESO</th>\n",
       "      <td>605</td>\n",
       "      <td>99.5</td>\n",
       "    </tr>\n",
       "    <tr>\n",
       "      <th>TEMPO_GARANTIA</th>\n",
       "      <td>605</td>\n",
       "      <td>99.5</td>\n",
       "    </tr>\n",
       "    <tr>\n",
       "      <th>ITEM_PRICE</th>\n",
       "      <td>86</td>\n",
       "      <td>14.1</td>\n",
       "    </tr>\n",
       "  </tbody>\n",
       "</table>\n",
       "</div>"
      ],
      "text/plain": [
       "                  Frequencia de NANs  % Equivalente\n",
       "CAPACIDADE_(L)                   608          100.0\n",
       "PARA_MICRO_ONDAS                 605           99.5\n",
       "PESO                             605           99.5\n",
       "TEMPO_GARANTIA                   605           99.5\n",
       "ITEM_PRICE                        86           14.1"
      ]
     },
     "execution_count": 61,
     "metadata": {},
     "output_type": "execute_result"
    }
   ],
   "source": [
    "dim = dados_forma.shape\n",
    "funcao_dados_missing(dados_forma) #Identificando NAN's Dados Forma"
   ]
  },
  {
   "cell_type": "code",
   "execution_count": 62,
   "metadata": {},
   "outputs": [
    {
     "data": {
      "text/plain": [
       "0.0    574\n",
       "1.0     34\n",
       "Name: TEM_TAMPA, dtype: int64"
      ]
     },
     "execution_count": 62,
     "metadata": {},
     "output_type": "execute_result"
    }
   ],
   "source": [
    "dados_forma['TEM_TAMPA'].value_counts()  #Identificando Significancia da Tampa"
   ]
  },
  {
   "cell_type": "code",
   "execution_count": 63,
   "metadata": {},
   "outputs": [
    {
     "name": "stdout",
     "output_type": "stream",
     "text": [
      "(608, 19),(522, 11)\n"
     ]
    }
   ],
   "source": [
    "x= ['COMPOSICAO','FORMATO','CAPACIDADE_(L)','PARA_MICRO_ONDAS','PESO','TEMPO_GARANTIA','TIPO_WOK','TIPO_PRODUTO']\n",
    "dados_forma = dados_forma.drop(columns=x)  #Retirando Vriáveis pelos excessivos NAN's \n",
    "dados_forma.dropna(inplace=True) #Retirando Linhas com NAN's \n",
    "newdim= dados_forma.shape\n",
    "print(dim,newdim, sep=\",\")"
   ]
  },
  {
   "cell_type": "code",
   "execution_count": 64,
   "metadata": {
    "scrolled": false
   },
   "outputs": [
    {
     "name": "stdout",
     "output_type": "stream",
     "text": [
      "Your selected dataframe has 19 columns.\n",
      "There are 5 columns that have missing values.\n"
     ]
    },
    {
     "data": {
      "text/html": [
       "<div>\n",
       "<style scoped>\n",
       "    .dataframe tbody tr th:only-of-type {\n",
       "        vertical-align: middle;\n",
       "    }\n",
       "\n",
       "    .dataframe tbody tr th {\n",
       "        vertical-align: top;\n",
       "    }\n",
       "\n",
       "    .dataframe thead th {\n",
       "        text-align: right;\n",
       "    }\n",
       "</style>\n",
       "<table border=\"1\" class=\"dataframe\">\n",
       "  <thead>\n",
       "    <tr style=\"text-align: right;\">\n",
       "      <th></th>\n",
       "      <th>Frequencia de NANs</th>\n",
       "      <th>% Equivalente</th>\n",
       "    </tr>\n",
       "  </thead>\n",
       "  <tbody>\n",
       "    <tr>\n",
       "      <th>CAPACIDADE_(L)</th>\n",
       "      <td>552</td>\n",
       "      <td>100.0</td>\n",
       "    </tr>\n",
       "    <tr>\n",
       "      <th>PARA_MICRO_ONDAS</th>\n",
       "      <td>552</td>\n",
       "      <td>100.0</td>\n",
       "    </tr>\n",
       "    <tr>\n",
       "      <th>PESO</th>\n",
       "      <td>552</td>\n",
       "      <td>100.0</td>\n",
       "    </tr>\n",
       "    <tr>\n",
       "      <th>TEMPO_GARANTIA</th>\n",
       "      <td>552</td>\n",
       "      <td>100.0</td>\n",
       "    </tr>\n",
       "    <tr>\n",
       "      <th>ITEM_PRICE</th>\n",
       "      <td>64</td>\n",
       "      <td>11.6</td>\n",
       "    </tr>\n",
       "  </tbody>\n",
       "</table>\n",
       "</div>"
      ],
      "text/plain": [
       "                  Frequencia de NANs  % Equivalente\n",
       "CAPACIDADE_(L)                   552          100.0\n",
       "PARA_MICRO_ONDAS                 552          100.0\n",
       "PESO                             552          100.0\n",
       "TEMPO_GARANTIA                   552          100.0\n",
       "ITEM_PRICE                        64           11.6"
      ]
     },
     "execution_count": 64,
     "metadata": {},
     "output_type": "execute_result"
    }
   ],
   "source": [
    "dim = dados_fritadeira.shape\n",
    "funcao_dados_missing(dados_fritadeira) #Identificando NAN's Dados Forma"
   ]
  },
  {
   "cell_type": "code",
   "execution_count": 65,
   "metadata": {},
   "outputs": [
    {
     "data": {
      "text/plain": [
       "0.0    552\n",
       "1.0      0\n",
       "Name: TEM_TAMPA, dtype: int64"
      ]
     },
     "execution_count": 65,
     "metadata": {},
     "output_type": "execute_result"
    }
   ],
   "source": [
    "dados_fritadeira['TEM_TAMPA'].value_counts()  #Identificando Significancia da Tampa"
   ]
  },
  {
   "cell_type": "code",
   "execution_count": 66,
   "metadata": {},
   "outputs": [
    {
     "name": "stdout",
     "output_type": "stream",
     "text": [
      "(552, 19),(488, 11)\n"
     ]
    }
   ],
   "source": [
    "x= ['FORMATO','CAPACIDADE_(L)','PARA_MICRO_ONDAS','PESO','TEMPO_GARANTIA','TEM_TAMPA','TIPO_WOK','TIPO_PRODUTO']\n",
    "dados_fritadeira = dados_fritadeira.drop(columns=x)  #Retirando Vriáveis pelos excessivos NAN's \n",
    "dados_fritadeira.dropna(inplace=True) #Retirando Linhas com NAN's \n",
    "newdim= dados_fritadeira.shape\n",
    "print(dim,newdim, sep=\",\")"
   ]
  },
  {
   "cell_type": "code",
   "execution_count": 67,
   "metadata": {},
   "outputs": [
    {
     "name": "stdout",
     "output_type": "stream",
     "text": [
      "Your selected dataframe has 19 columns.\n",
      "There are 5 columns that have missing values.\n"
     ]
    },
    {
     "data": {
      "text/html": [
       "<div>\n",
       "<style scoped>\n",
       "    .dataframe tbody tr th:only-of-type {\n",
       "        vertical-align: middle;\n",
       "    }\n",
       "\n",
       "    .dataframe tbody tr th {\n",
       "        vertical-align: top;\n",
       "    }\n",
       "\n",
       "    .dataframe thead th {\n",
       "        text-align: right;\n",
       "    }\n",
       "</style>\n",
       "<table border=\"1\" class=\"dataframe\">\n",
       "  <thead>\n",
       "    <tr style=\"text-align: right;\">\n",
       "      <th></th>\n",
       "      <th>Frequencia de NANs</th>\n",
       "      <th>% Equivalente</th>\n",
       "    </tr>\n",
       "  </thead>\n",
       "  <tbody>\n",
       "    <tr>\n",
       "      <th>PARA_MICRO_ONDAS</th>\n",
       "      <td>504</td>\n",
       "      <td>100.0</td>\n",
       "    </tr>\n",
       "    <tr>\n",
       "      <th>PESO</th>\n",
       "      <td>504</td>\n",
       "      <td>100.0</td>\n",
       "    </tr>\n",
       "    <tr>\n",
       "      <th>TEMPO_GARANTIA</th>\n",
       "      <td>504</td>\n",
       "      <td>100.0</td>\n",
       "    </tr>\n",
       "    <tr>\n",
       "      <th>CAPACIDADE_(L)</th>\n",
       "      <td>186</td>\n",
       "      <td>36.9</td>\n",
       "    </tr>\n",
       "    <tr>\n",
       "      <th>ITEM_PRICE</th>\n",
       "      <td>82</td>\n",
       "      <td>16.3</td>\n",
       "    </tr>\n",
       "  </tbody>\n",
       "</table>\n",
       "</div>"
      ],
      "text/plain": [
       "                  Frequencia de NANs  % Equivalente\n",
       "PARA_MICRO_ONDAS                 504          100.0\n",
       "PESO                             504          100.0\n",
       "TEMPO_GARANTIA                   504          100.0\n",
       "CAPACIDADE_(L)                   186           36.9\n",
       "ITEM_PRICE                        82           16.3"
      ]
     },
     "execution_count": 67,
     "metadata": {},
     "output_type": "execute_result"
    }
   ],
   "source": [
    "dim = dados_omeleteira.shape\n",
    "funcao_dados_missing(dados_omeleteira) #Identificando NAN's Dados Omeleteira"
   ]
  },
  {
   "cell_type": "code",
   "execution_count": 68,
   "metadata": {},
   "outputs": [
    {
     "data": {
      "text/plain": [
       "0.0    504\n",
       "1.0      0\n",
       "Name: TEM_TAMPA, dtype: int64"
      ]
     },
     "execution_count": 68,
     "metadata": {},
     "output_type": "execute_result"
    }
   ],
   "source": [
    "dados_omeleteira['TEM_TAMPA'].value_counts()  #Identificando Significancia da Tampa"
   ]
  },
  {
   "cell_type": "code",
   "execution_count": 69,
   "metadata": {},
   "outputs": [
    {
     "name": "stdout",
     "output_type": "stream",
     "text": [
      "(504, 19),(422, 11)\n"
     ]
    }
   ],
   "source": [
    "x= ['FORMATO','CAPACIDADE_(L)','PARA_MICRO_ONDAS','PESO','TEMPO_GARANTIA','TEM_TAMPA','TIPO_WOK','TIPO_PRODUTO']\n",
    "dados_omeleteira = dados_omeleteira.drop(columns=x)  #Retirando Vriáveis pelos excessivos NAN's \n",
    "dados_omeleteira.dropna(inplace=True) #Retirando Linhas com NAN's \n",
    "newdim= dados_omeleteira.shape\n",
    "print(dim,newdim, sep=\",\")"
   ]
  },
  {
   "cell_type": "code",
   "execution_count": 70,
   "metadata": {},
   "outputs": [
    {
     "name": "stdout",
     "output_type": "stream",
     "text": [
      "Your selected dataframe has 19 columns.\n",
      "There are 6 columns that have missing values.\n"
     ]
    },
    {
     "data": {
      "text/html": [
       "<div>\n",
       "<style scoped>\n",
       "    .dataframe tbody tr th:only-of-type {\n",
       "        vertical-align: middle;\n",
       "    }\n",
       "\n",
       "    .dataframe tbody tr th {\n",
       "        vertical-align: top;\n",
       "    }\n",
       "\n",
       "    .dataframe thead th {\n",
       "        text-align: right;\n",
       "    }\n",
       "</style>\n",
       "<table border=\"1\" class=\"dataframe\">\n",
       "  <thead>\n",
       "    <tr style=\"text-align: right;\">\n",
       "      <th></th>\n",
       "      <th>Frequencia de NANs</th>\n",
       "      <th>% Equivalente</th>\n",
       "    </tr>\n",
       "  </thead>\n",
       "  <tbody>\n",
       "    <tr>\n",
       "      <th>ITEM_PRICE</th>\n",
       "      <td>113</td>\n",
       "      <td>22.8</td>\n",
       "    </tr>\n",
       "    <tr>\n",
       "      <th>ALTURA</th>\n",
       "      <td>76</td>\n",
       "      <td>15.3</td>\n",
       "    </tr>\n",
       "    <tr>\n",
       "      <th>LARGURA</th>\n",
       "      <td>76</td>\n",
       "      <td>15.3</td>\n",
       "    </tr>\n",
       "    <tr>\n",
       "      <th>PESO</th>\n",
       "      <td>76</td>\n",
       "      <td>15.3</td>\n",
       "    </tr>\n",
       "    <tr>\n",
       "      <th>PROFUNDIDADE</th>\n",
       "      <td>76</td>\n",
       "      <td>15.3</td>\n",
       "    </tr>\n",
       "    <tr>\n",
       "      <th>TEMPO_GARANTIA</th>\n",
       "      <td>76</td>\n",
       "      <td>15.3</td>\n",
       "    </tr>\n",
       "  </tbody>\n",
       "</table>\n",
       "</div>"
      ],
      "text/plain": [
       "                Frequencia de NANs  % Equivalente\n",
       "ITEM_PRICE                     113           22.8\n",
       "ALTURA                          76           15.3\n",
       "LARGURA                         76           15.3\n",
       "PESO                            76           15.3\n",
       "PROFUNDIDADE                    76           15.3\n",
       "TEMPO_GARANTIA                  76           15.3"
      ]
     },
     "execution_count": 70,
     "metadata": {},
     "output_type": "execute_result"
    }
   ],
   "source": [
    "dim = dados_cozi_vapore.shape\n",
    "funcao_dados_missing(dados_cozi_vapore) #Identificando NAN's Dados Cozi Vapor"
   ]
  },
  {
   "cell_type": "code",
   "execution_count": 71,
   "metadata": {},
   "outputs": [
    {
     "data": {
      "text/plain": [
       "0.0    496\n",
       "1.0      0\n",
       "Name: TEM_TAMPA, dtype: int64"
      ]
     },
     "execution_count": 71,
     "metadata": {},
     "output_type": "execute_result"
    }
   ],
   "source": [
    "dados_cozi_vapore['TEM_TAMPA'].value_counts()  #Identificando Significancia da Tampa"
   ]
  },
  {
   "cell_type": "code",
   "execution_count": 72,
   "metadata": {},
   "outputs": [
    {
     "name": "stdout",
     "output_type": "stream",
     "text": [
      "(496, 19),(379, 15)\n"
     ]
    }
   ],
   "source": [
    "x= ['FORMATO','TEM_TAMPA','TIPO_WOK','TIPO_PRODUTO']\n",
    "dados_cozi_vapore = dados_cozi_vapore.drop(columns=x)  #Retirando Vriáveis pelos excessivos NAN's \n",
    "dados_cozi_vapore.dropna(inplace=True) #Retirando Linhas com NAN's \n",
    "newdim= dados_cozi_vapore.shape\n",
    "print(dim,newdim, sep=\",\")"
   ]
  },
  {
   "cell_type": "code",
   "execution_count": 73,
   "metadata": {},
   "outputs": [
    {
     "name": "stdout",
     "output_type": "stream",
     "text": [
      "Your selected dataframe has 19 columns.\n",
      "There are 5 columns that have missing values.\n"
     ]
    },
    {
     "data": {
      "text/html": [
       "<div>\n",
       "<style scoped>\n",
       "    .dataframe tbody tr th:only-of-type {\n",
       "        vertical-align: middle;\n",
       "    }\n",
       "\n",
       "    .dataframe tbody tr th {\n",
       "        vertical-align: top;\n",
       "    }\n",
       "\n",
       "    .dataframe thead th {\n",
       "        text-align: right;\n",
       "    }\n",
       "</style>\n",
       "<table border=\"1\" class=\"dataframe\">\n",
       "  <thead>\n",
       "    <tr style=\"text-align: right;\">\n",
       "      <th></th>\n",
       "      <th>Frequencia de NANs</th>\n",
       "      <th>% Equivalente</th>\n",
       "    </tr>\n",
       "  </thead>\n",
       "  <tbody>\n",
       "    <tr>\n",
       "      <th>CAPACIDADE_(L)</th>\n",
       "      <td>421</td>\n",
       "      <td>100.0</td>\n",
       "    </tr>\n",
       "    <tr>\n",
       "      <th>PARA_MICRO_ONDAS</th>\n",
       "      <td>421</td>\n",
       "      <td>100.0</td>\n",
       "    </tr>\n",
       "    <tr>\n",
       "      <th>PESO</th>\n",
       "      <td>421</td>\n",
       "      <td>100.0</td>\n",
       "    </tr>\n",
       "    <tr>\n",
       "      <th>TEMPO_GARANTIA</th>\n",
       "      <td>421</td>\n",
       "      <td>100.0</td>\n",
       "    </tr>\n",
       "    <tr>\n",
       "      <th>ITEM_PRICE</th>\n",
       "      <td>186</td>\n",
       "      <td>44.2</td>\n",
       "    </tr>\n",
       "  </tbody>\n",
       "</table>\n",
       "</div>"
      ],
      "text/plain": [
       "                  Frequencia de NANs  % Equivalente\n",
       "CAPACIDADE_(L)                   421          100.0\n",
       "PARA_MICRO_ONDAS                 421          100.0\n",
       "PESO                             421          100.0\n",
       "TEMPO_GARANTIA                   421          100.0\n",
       "ITEM_PRICE                       186           44.2"
      ]
     },
     "execution_count": 73,
     "metadata": {},
     "output_type": "execute_result"
    }
   ],
   "source": [
    "dim = dados_fogareiro.shape\n",
    "funcao_dados_missing(dados_fogareiro) #Identificando NAN's Dados Fogareiro"
   ]
  },
  {
   "cell_type": "code",
   "execution_count": 74,
   "metadata": {},
   "outputs": [
    {
     "data": {
      "text/plain": [
       "0.0    421\n",
       "1.0      0\n",
       "Name: TEM_TAMPA, dtype: int64"
      ]
     },
     "execution_count": 74,
     "metadata": {},
     "output_type": "execute_result"
    }
   ],
   "source": [
    "dados_fogareiro['TEM_TAMPA'].value_counts()  #Identificando Significancia da Tampa"
   ]
  },
  {
   "cell_type": "code",
   "execution_count": 75,
   "metadata": {},
   "outputs": [
    {
     "name": "stdout",
     "output_type": "stream",
     "text": [
      "(421, 19),(235, 11)\n"
     ]
    }
   ],
   "source": [
    "x= ['CAPACIDADE_(L)','COMPOSICAO','PARA_MICRO_ONDAS','PESO','TEMPO_GARANTIA','TEM_TAMPA','TIPO_WOK','TIPO_PRODUTO']\n",
    "dados_fogareiro = dados_fogareiro.drop(columns=x)  #Retirando Vriáveis pelos excessivos NAN's \n",
    "dados_fogareiro.dropna(inplace=True) #Retirando Linhas com NAN's \n",
    "newdim= dados_fogareiro.shape\n",
    "print(dim,newdim, sep=\",\")"
   ]
  },
  {
   "cell_type": "code",
   "execution_count": 76,
   "metadata": {},
   "outputs": [
    {
     "name": "stdout",
     "output_type": "stream",
     "text": [
      "Your selected dataframe has 19 columns.\n",
      "There are 5 columns that have missing values.\n"
     ]
    },
    {
     "data": {
      "text/html": [
       "<div>\n",
       "<style scoped>\n",
       "    .dataframe tbody tr th:only-of-type {\n",
       "        vertical-align: middle;\n",
       "    }\n",
       "\n",
       "    .dataframe tbody tr th {\n",
       "        vertical-align: top;\n",
       "    }\n",
       "\n",
       "    .dataframe thead th {\n",
       "        text-align: right;\n",
       "    }\n",
       "</style>\n",
       "<table border=\"1\" class=\"dataframe\">\n",
       "  <thead>\n",
       "    <tr style=\"text-align: right;\">\n",
       "      <th></th>\n",
       "      <th>Frequencia de NANs</th>\n",
       "      <th>% Equivalente</th>\n",
       "    </tr>\n",
       "  </thead>\n",
       "  <tbody>\n",
       "    <tr>\n",
       "      <th>CAPACIDADE_(L)</th>\n",
       "      <td>371</td>\n",
       "      <td>100.0</td>\n",
       "    </tr>\n",
       "    <tr>\n",
       "      <th>PARA_MICRO_ONDAS</th>\n",
       "      <td>371</td>\n",
       "      <td>100.0</td>\n",
       "    </tr>\n",
       "    <tr>\n",
       "      <th>PESO</th>\n",
       "      <td>371</td>\n",
       "      <td>100.0</td>\n",
       "    </tr>\n",
       "    <tr>\n",
       "      <th>TEMPO_GARANTIA</th>\n",
       "      <td>371</td>\n",
       "      <td>100.0</td>\n",
       "    </tr>\n",
       "    <tr>\n",
       "      <th>ITEM_PRICE</th>\n",
       "      <td>114</td>\n",
       "      <td>30.7</td>\n",
       "    </tr>\n",
       "  </tbody>\n",
       "</table>\n",
       "</div>"
      ],
      "text/plain": [
       "                  Frequencia de NANs  % Equivalente\n",
       "CAPACIDADE_(L)                   371          100.0\n",
       "PARA_MICRO_ONDAS                 371          100.0\n",
       "PESO                             371          100.0\n",
       "TEMPO_GARANTIA                   371          100.0\n",
       "ITEM_PRICE                       114           30.7"
      ]
     },
     "execution_count": 76,
     "metadata": {},
     "output_type": "execute_result"
    }
   ],
   "source": [
    "dim = dados_assadeira.shape\n",
    "funcao_dados_missing(dados_assadeira) #Identificando NAN's Dados Assadeira"
   ]
  },
  {
   "cell_type": "code",
   "execution_count": 77,
   "metadata": {},
   "outputs": [
    {
     "data": {
      "text/plain": [
       "0.0    321\n",
       "1.0     50\n",
       "Name: TEM_TAMPA, dtype: int64"
      ]
     },
     "execution_count": 77,
     "metadata": {},
     "output_type": "execute_result"
    }
   ],
   "source": [
    "dados_assadeira['TEM_TAMPA'].value_counts()  #Identificando Significancia da Tampa"
   ]
  },
  {
   "cell_type": "code",
   "execution_count": 78,
   "metadata": {},
   "outputs": [
    {
     "name": "stdout",
     "output_type": "stream",
     "text": [
      "(371, 19),(257, 12)\n"
     ]
    }
   ],
   "source": [
    "x= ['CAPACIDADE_(L)','COMPOSICAO','PARA_MICRO_ONDAS','PESO','TEMPO_GARANTIA','TIPO_WOK','TIPO_PRODUTO']\n",
    "dados_assadeira = dados_assadeira.drop(columns=x)  #Retirando Vriáveis pelos excessivos NAN's \n",
    "dados_assadeira.dropna(inplace=True) #Retirando Linhas com NAN's \n",
    "newdim= dados_assadeira.shape\n",
    "print(dim,newdim, sep=\",\")"
   ]
  },
  {
   "cell_type": "code",
   "execution_count": 79,
   "metadata": {},
   "outputs": [
    {
     "name": "stdout",
     "output_type": "stream",
     "text": [
      "Your selected dataframe has 19 columns.\n",
      "There are 4 columns that have missing values.\n"
     ]
    },
    {
     "data": {
      "text/html": [
       "<div>\n",
       "<style scoped>\n",
       "    .dataframe tbody tr th:only-of-type {\n",
       "        vertical-align: middle;\n",
       "    }\n",
       "\n",
       "    .dataframe tbody tr th {\n",
       "        vertical-align: top;\n",
       "    }\n",
       "\n",
       "    .dataframe thead th {\n",
       "        text-align: right;\n",
       "    }\n",
       "</style>\n",
       "<table border=\"1\" class=\"dataframe\">\n",
       "  <thead>\n",
       "    <tr style=\"text-align: right;\">\n",
       "      <th></th>\n",
       "      <th>Frequencia de NANs</th>\n",
       "      <th>% Equivalente</th>\n",
       "    </tr>\n",
       "  </thead>\n",
       "  <tbody>\n",
       "    <tr>\n",
       "      <th>CAPACIDADE_(L)</th>\n",
       "      <td>354</td>\n",
       "      <td>100.0</td>\n",
       "    </tr>\n",
       "    <tr>\n",
       "      <th>PARA_MICRO_ONDAS</th>\n",
       "      <td>354</td>\n",
       "      <td>100.0</td>\n",
       "    </tr>\n",
       "    <tr>\n",
       "      <th>PESO</th>\n",
       "      <td>354</td>\n",
       "      <td>100.0</td>\n",
       "    </tr>\n",
       "    <tr>\n",
       "      <th>ITEM_PRICE</th>\n",
       "      <td>102</td>\n",
       "      <td>28.8</td>\n",
       "    </tr>\n",
       "  </tbody>\n",
       "</table>\n",
       "</div>"
      ],
      "text/plain": [
       "                  Frequencia de NANs  % Equivalente\n",
       "CAPACIDADE_(L)                   354          100.0\n",
       "PARA_MICRO_ONDAS                 354          100.0\n",
       "PESO                             354          100.0\n",
       "ITEM_PRICE                       102           28.8"
      ]
     },
     "execution_count": 79,
     "metadata": {},
     "output_type": "execute_result"
    }
   ],
   "source": [
    "dim = dados_mini_cacarola.shape\n",
    "funcao_dados_missing(dados_mini_cacarola) #Identificando NAN's Dados Mini Caçarola"
   ]
  },
  {
   "cell_type": "code",
   "execution_count": 80,
   "metadata": {},
   "outputs": [
    {
     "data": {
      "text/plain": [
       "0.0    354\n",
       "1.0      0\n",
       "Name: TEM_TAMPA, dtype: int64"
      ]
     },
     "execution_count": 80,
     "metadata": {},
     "output_type": "execute_result"
    }
   ],
   "source": [
    "dados_mini_cacarola['TEM_TAMPA'].value_counts()  #Identificando Significancia da Tampa"
   ]
  },
  {
   "cell_type": "code",
   "execution_count": 81,
   "metadata": {},
   "outputs": [
    {
     "name": "stdout",
     "output_type": "stream",
     "text": [
      "(354, 19),(252, 12)\n"
     ]
    }
   ],
   "source": [
    "x= ['CAPACIDADE_(L)','COMPOSICAO','PARA_MICRO_ONDAS','PESO','TEM_TAMPA','TIPO_WOK','TIPO_PRODUTO']\n",
    "dados_mini_cacarola = dados_mini_cacarola.drop(columns=x)  #Retirando Vriáveis pelos excessivos NAN's \n",
    "dados_mini_cacarola.dropna(inplace=True) #Retirando Linhas com NAN's \n",
    "newdim= dados_mini_cacarola.shape\n",
    "print(dim,newdim, sep=\",\")"
   ]
  },
  {
   "cell_type": "code",
   "execution_count": 82,
   "metadata": {},
   "outputs": [
    {
     "name": "stdout",
     "output_type": "stream",
     "text": [
      "Your selected dataframe has 19 columns.\n",
      "There are 7 columns that have missing values.\n"
     ]
    },
    {
     "data": {
      "text/html": [
       "<div>\n",
       "<style scoped>\n",
       "    .dataframe tbody tr th:only-of-type {\n",
       "        vertical-align: middle;\n",
       "    }\n",
       "\n",
       "    .dataframe tbody tr th {\n",
       "        vertical-align: top;\n",
       "    }\n",
       "\n",
       "    .dataframe thead th {\n",
       "        text-align: right;\n",
       "    }\n",
       "</style>\n",
       "<table border=\"1\" class=\"dataframe\">\n",
       "  <thead>\n",
       "    <tr style=\"text-align: right;\">\n",
       "      <th></th>\n",
       "      <th>Frequencia de NANs</th>\n",
       "      <th>% Equivalente</th>\n",
       "    </tr>\n",
       "  </thead>\n",
       "  <tbody>\n",
       "    <tr>\n",
       "      <th>ALTURA</th>\n",
       "      <td>303</td>\n",
       "      <td>100.0</td>\n",
       "    </tr>\n",
       "    <tr>\n",
       "      <th>LARGURA</th>\n",
       "      <td>303</td>\n",
       "      <td>100.0</td>\n",
       "    </tr>\n",
       "    <tr>\n",
       "      <th>PESO</th>\n",
       "      <td>303</td>\n",
       "      <td>100.0</td>\n",
       "    </tr>\n",
       "    <tr>\n",
       "      <th>PROFUNDIDADE</th>\n",
       "      <td>303</td>\n",
       "      <td>100.0</td>\n",
       "    </tr>\n",
       "    <tr>\n",
       "      <th>TEMPO_GARANTIA</th>\n",
       "      <td>303</td>\n",
       "      <td>100.0</td>\n",
       "    </tr>\n",
       "    <tr>\n",
       "      <th>ITEM_PRICE</th>\n",
       "      <td>95</td>\n",
       "      <td>31.4</td>\n",
       "    </tr>\n",
       "    <tr>\n",
       "      <th>CAPACIDADE_(L)</th>\n",
       "      <td>3</td>\n",
       "      <td>1.0</td>\n",
       "    </tr>\n",
       "  </tbody>\n",
       "</table>\n",
       "</div>"
      ],
      "text/plain": [
       "                Frequencia de NANs  % Equivalente\n",
       "ALTURA                         303          100.0\n",
       "LARGURA                        303          100.0\n",
       "PESO                           303          100.0\n",
       "PROFUNDIDADE                   303          100.0\n",
       "TEMPO_GARANTIA                 303          100.0\n",
       "ITEM_PRICE                      95           31.4\n",
       "CAPACIDADE_(L)                   3            1.0"
      ]
     },
     "execution_count": 82,
     "metadata": {},
     "output_type": "execute_result"
    }
   ],
   "source": [
    "dim = dados_cremeria.shape\n",
    "funcao_dados_missing(dados_cremeria) #Identificando NAN's Dados Cremeira"
   ]
  },
  {
   "cell_type": "code",
   "execution_count": 83,
   "metadata": {},
   "outputs": [
    {
     "data": {
      "text/plain": [
       "0.0    303\n",
       "1.0      0\n",
       "Name: TEM_TAMPA, dtype: int64"
      ]
     },
     "execution_count": 83,
     "metadata": {},
     "output_type": "execute_result"
    }
   ],
   "source": [
    "dados_cremeria['TEM_TAMPA'].value_counts()  #Identificando Significancia da Tampa"
   ]
  },
  {
   "cell_type": "code",
   "execution_count": 84,
   "metadata": {},
   "outputs": [
    {
     "name": "stdout",
     "output_type": "stream",
     "text": [
      "(303, 19),(207, 10)\n"
     ]
    }
   ],
   "source": [
    "x= ['ALTURA','FORMATO','LARGURA','PESO','PROFUNDIDADE','TEMPO_GARANTIA','TEM_TAMPA','TIPO_WOK','TIPO_PRODUTO']\n",
    "dados_cremeria = dados_cremeria.drop(columns=x)  #Retirando Vriáveis pelos excessivos NAN's \n",
    "dados_cremeria.dropna(inplace=True) #Retirando Linhas com NAN's \n",
    "newdim= dados_cremeria.shape\n",
    "print(dim,newdim, sep=\",\")"
   ]
  },
  {
   "cell_type": "code",
   "execution_count": 85,
   "metadata": {},
   "outputs": [
    {
     "name": "stdout",
     "output_type": "stream",
     "text": [
      "Your selected dataframe has 19 columns.\n",
      "There are 5 columns that have missing values.\n"
     ]
    },
    {
     "data": {
      "text/html": [
       "<div>\n",
       "<style scoped>\n",
       "    .dataframe tbody tr th:only-of-type {\n",
       "        vertical-align: middle;\n",
       "    }\n",
       "\n",
       "    .dataframe tbody tr th {\n",
       "        vertical-align: top;\n",
       "    }\n",
       "\n",
       "    .dataframe thead th {\n",
       "        text-align: right;\n",
       "    }\n",
       "</style>\n",
       "<table border=\"1\" class=\"dataframe\">\n",
       "  <thead>\n",
       "    <tr style=\"text-align: right;\">\n",
       "      <th></th>\n",
       "      <th>Frequencia de NANs</th>\n",
       "      <th>% Equivalente</th>\n",
       "    </tr>\n",
       "  </thead>\n",
       "  <tbody>\n",
       "    <tr>\n",
       "      <th>CAPACIDADE_(L)</th>\n",
       "      <td>242</td>\n",
       "      <td>100.0</td>\n",
       "    </tr>\n",
       "    <tr>\n",
       "      <th>PARA_MICRO_ONDAS</th>\n",
       "      <td>242</td>\n",
       "      <td>100.0</td>\n",
       "    </tr>\n",
       "    <tr>\n",
       "      <th>PESO</th>\n",
       "      <td>242</td>\n",
       "      <td>100.0</td>\n",
       "    </tr>\n",
       "    <tr>\n",
       "      <th>TEMPO_GARANTIA</th>\n",
       "      <td>242</td>\n",
       "      <td>100.0</td>\n",
       "    </tr>\n",
       "    <tr>\n",
       "      <th>ITEM_PRICE</th>\n",
       "      <td>75</td>\n",
       "      <td>31.0</td>\n",
       "    </tr>\n",
       "  </tbody>\n",
       "</table>\n",
       "</div>"
      ],
      "text/plain": [
       "                  Frequencia de NANs  % Equivalente\n",
       "CAPACIDADE_(L)                   242          100.0\n",
       "PARA_MICRO_ONDAS                 242          100.0\n",
       "PESO                             242          100.0\n",
       "TEMPO_GARANTIA                   242          100.0\n",
       "ITEM_PRICE                        75           31.0"
      ]
     },
     "execution_count": 85,
     "metadata": {},
     "output_type": "execute_result"
    }
   ],
   "source": [
    "dim = dados_sanduicheira.shape\n",
    "funcao_dados_missing(dados_sanduicheira) #Identificando NAN's Dados Sanduicheira"
   ]
  },
  {
   "cell_type": "code",
   "execution_count": 86,
   "metadata": {},
   "outputs": [
    {
     "data": {
      "text/plain": [
       "0.0    242\n",
       "1.0      0\n",
       "Name: TEM_TAMPA, dtype: int64"
      ]
     },
     "execution_count": 86,
     "metadata": {},
     "output_type": "execute_result"
    }
   ],
   "source": [
    "dados_sanduicheira['TEM_TAMPA'].value_counts()  #Identificando Significancia da Tampa"
   ]
  },
  {
   "cell_type": "code",
   "execution_count": 87,
   "metadata": {},
   "outputs": [
    {
     "name": "stdout",
     "output_type": "stream",
     "text": [
      "(242, 19),(167, 11)\n"
     ]
    }
   ],
   "source": [
    "x= ['CAPACIDADE_(L)','COMPOSICAO','PARA_MICRO_ONDAS','PESO','TEMPO_GARANTIA','TEM_TAMPA','TIPO_WOK','TIPO_PRODUTO']\n",
    "dados_sanduicheira = dados_sanduicheira.drop(columns=x)  #Retirando Vriáveis pelos excessivos NAN's \n",
    "dados_sanduicheira.dropna(inplace=True) #Retirando Linhas com NAN's \n",
    "newdim= dados_sanduicheira.shape\n",
    "print(dim,newdim, sep=\",\")"
   ]
  },
  {
   "cell_type": "code",
   "execution_count": 88,
   "metadata": {},
   "outputs": [
    {
     "name": "stdout",
     "output_type": "stream",
     "text": [
      "Your selected dataframe has 19 columns.\n",
      "There are 4 columns that have missing values.\n"
     ]
    },
    {
     "data": {
      "text/html": [
       "<div>\n",
       "<style scoped>\n",
       "    .dataframe tbody tr th:only-of-type {\n",
       "        vertical-align: middle;\n",
       "    }\n",
       "\n",
       "    .dataframe tbody tr th {\n",
       "        vertical-align: top;\n",
       "    }\n",
       "\n",
       "    .dataframe thead th {\n",
       "        text-align: right;\n",
       "    }\n",
       "</style>\n",
       "<table border=\"1\" class=\"dataframe\">\n",
       "  <thead>\n",
       "    <tr style=\"text-align: right;\">\n",
       "      <th></th>\n",
       "      <th>Frequencia de NANs</th>\n",
       "      <th>% Equivalente</th>\n",
       "    </tr>\n",
       "  </thead>\n",
       "  <tbody>\n",
       "    <tr>\n",
       "      <th>CAPACIDADE_(L)</th>\n",
       "      <td>185</td>\n",
       "      <td>100.0</td>\n",
       "    </tr>\n",
       "    <tr>\n",
       "      <th>PARA_MICRO_ONDAS</th>\n",
       "      <td>185</td>\n",
       "      <td>100.0</td>\n",
       "    </tr>\n",
       "    <tr>\n",
       "      <th>PESO</th>\n",
       "      <td>185</td>\n",
       "      <td>100.0</td>\n",
       "    </tr>\n",
       "    <tr>\n",
       "      <th>ITEM_PRICE</th>\n",
       "      <td>39</td>\n",
       "      <td>21.1</td>\n",
       "    </tr>\n",
       "  </tbody>\n",
       "</table>\n",
       "</div>"
      ],
      "text/plain": [
       "                  Frequencia de NANs  % Equivalente\n",
       "CAPACIDADE_(L)                   185          100.0\n",
       "PARA_MICRO_ONDAS                 185          100.0\n",
       "PESO                             185          100.0\n",
       "ITEM_PRICE                        39           21.1"
      ]
     },
     "execution_count": 88,
     "metadata": {},
     "output_type": "execute_result"
    }
   ],
   "source": [
    "dim = dados_tampa.shape\n",
    "funcao_dados_missing(dados_tampa) #Identificando NAN's Dados Tampa"
   ]
  },
  {
   "cell_type": "code",
   "execution_count": 89,
   "metadata": {},
   "outputs": [
    {
     "data": {
      "text/plain": [
       "1.0    185\n",
       "0.0      0\n",
       "Name: TEM_TAMPA, dtype: int64"
      ]
     },
     "execution_count": 89,
     "metadata": {},
     "output_type": "execute_result"
    }
   ],
   "source": [
    "dados_tampa['TEM_TAMPA'].value_counts()  #Identificando Significancia da Tampa"
   ]
  },
  {
   "cell_type": "code",
   "execution_count": 90,
   "metadata": {},
   "outputs": [
    {
     "name": "stdout",
     "output_type": "stream",
     "text": [
      "(185, 19),(146, 13)\n"
     ]
    }
   ],
   "source": [
    "x= ['CAPACIDADE_(L)','PARA_MICRO_ONDAS','PESO','TEM_TAMPA','TIPO_WOK','TIPO_PRODUTO']\n",
    "dados_tampa = dados_tampa.drop(columns=x)  #Retirando Vriáveis pelos excessivos NAN's \n",
    "dados_tampa.dropna(inplace=True) #Retirando Linhas com NAN's \n",
    "newdim= dados_tampa.shape\n",
    "print(dim,newdim, sep=\",\")"
   ]
  },
  {
   "cell_type": "code",
   "execution_count": 91,
   "metadata": {},
   "outputs": [
    {
     "name": "stdout",
     "output_type": "stream",
     "text": [
      "Your selected dataframe has 19 columns.\n",
      "There are 5 columns that have missing values.\n"
     ]
    },
    {
     "data": {
      "text/html": [
       "<div>\n",
       "<style scoped>\n",
       "    .dataframe tbody tr th:only-of-type {\n",
       "        vertical-align: middle;\n",
       "    }\n",
       "\n",
       "    .dataframe tbody tr th {\n",
       "        vertical-align: top;\n",
       "    }\n",
       "\n",
       "    .dataframe thead th {\n",
       "        text-align: right;\n",
       "    }\n",
       "</style>\n",
       "<table border=\"1\" class=\"dataframe\">\n",
       "  <thead>\n",
       "    <tr style=\"text-align: right;\">\n",
       "      <th></th>\n",
       "      <th>Frequencia de NANs</th>\n",
       "      <th>% Equivalente</th>\n",
       "    </tr>\n",
       "  </thead>\n",
       "  <tbody>\n",
       "    <tr>\n",
       "      <th>CAPACIDADE_(L)</th>\n",
       "      <td>141</td>\n",
       "      <td>100.0</td>\n",
       "    </tr>\n",
       "    <tr>\n",
       "      <th>PARA_MICRO_ONDAS</th>\n",
       "      <td>141</td>\n",
       "      <td>100.0</td>\n",
       "    </tr>\n",
       "    <tr>\n",
       "      <th>PESO</th>\n",
       "      <td>141</td>\n",
       "      <td>100.0</td>\n",
       "    </tr>\n",
       "    <tr>\n",
       "      <th>TEMPO_GARANTIA</th>\n",
       "      <td>141</td>\n",
       "      <td>100.0</td>\n",
       "    </tr>\n",
       "    <tr>\n",
       "      <th>ITEM_PRICE</th>\n",
       "      <td>51</td>\n",
       "      <td>36.2</td>\n",
       "    </tr>\n",
       "  </tbody>\n",
       "</table>\n",
       "</div>"
      ],
      "text/plain": [
       "                  Frequencia de NANs  % Equivalente\n",
       "CAPACIDADE_(L)                   141          100.0\n",
       "PARA_MICRO_ONDAS                 141          100.0\n",
       "PESO                             141          100.0\n",
       "TEMPO_GARANTIA                   141          100.0\n",
       "ITEM_PRICE                        51           36.2"
      ]
     },
     "execution_count": 91,
     "metadata": {},
     "output_type": "execute_result"
    }
   ],
   "source": [
    "dim = dados_founde.shape\n",
    "funcao_dados_missing(dados_founde) #Identificando NAN's Dados Founde"
   ]
  },
  {
   "cell_type": "code",
   "execution_count": 92,
   "metadata": {},
   "outputs": [
    {
     "data": {
      "text/plain": [
       "0.0    141\n",
       "1.0      0\n",
       "Name: TEM_TAMPA, dtype: int64"
      ]
     },
     "execution_count": 92,
     "metadata": {},
     "output_type": "execute_result"
    }
   ],
   "source": [
    "dados_founde['TEM_TAMPA'].value_counts()  #Identificando Significancia da Tampa"
   ]
  },
  {
   "cell_type": "code",
   "execution_count": 93,
   "metadata": {},
   "outputs": [
    {
     "name": "stdout",
     "output_type": "stream",
     "text": [
      "(141, 19),(90, 11)\n"
     ]
    }
   ],
   "source": [
    "x= ['CAPACIDADE_(L)','COMPOSICAO','PARA_MICRO_ONDAS','PESO','TEMPO_GARANTIA','TEM_TAMPA','TIPO_WOK','TIPO_PRODUTO']\n",
    "dados_founde = dados_founde.drop(columns=x)  #Retirando Vriáveis pelos excessivos NAN's \n",
    "dados_founde.dropna(inplace=True) #Retirando Linhas com NAN's \n",
    "newdim= dados_founde.shape\n",
    "print(dim,newdim, sep=\",\")"
   ]
  },
  {
   "cell_type": "code",
   "execution_count": 94,
   "metadata": {},
   "outputs": [
    {
     "name": "stdout",
     "output_type": "stream",
     "text": [
      "Your selected dataframe has 19 columns.\n",
      "There are 5 columns that have missing values.\n"
     ]
    },
    {
     "data": {
      "text/html": [
       "<div>\n",
       "<style scoped>\n",
       "    .dataframe tbody tr th:only-of-type {\n",
       "        vertical-align: middle;\n",
       "    }\n",
       "\n",
       "    .dataframe tbody tr th {\n",
       "        vertical-align: top;\n",
       "    }\n",
       "\n",
       "    .dataframe thead th {\n",
       "        text-align: right;\n",
       "    }\n",
       "</style>\n",
       "<table border=\"1\" class=\"dataframe\">\n",
       "  <thead>\n",
       "    <tr style=\"text-align: right;\">\n",
       "      <th></th>\n",
       "      <th>Frequencia de NANs</th>\n",
       "      <th>% Equivalente</th>\n",
       "    </tr>\n",
       "  </thead>\n",
       "  <tbody>\n",
       "    <tr>\n",
       "      <th>CAPACIDADE_(L)</th>\n",
       "      <td>119</td>\n",
       "      <td>100.0</td>\n",
       "    </tr>\n",
       "    <tr>\n",
       "      <th>PARA_MICRO_ONDAS</th>\n",
       "      <td>119</td>\n",
       "      <td>100.0</td>\n",
       "    </tr>\n",
       "    <tr>\n",
       "      <th>PESO</th>\n",
       "      <td>119</td>\n",
       "      <td>100.0</td>\n",
       "    </tr>\n",
       "    <tr>\n",
       "      <th>TEMPO_GARANTIA</th>\n",
       "      <td>119</td>\n",
       "      <td>100.0</td>\n",
       "    </tr>\n",
       "    <tr>\n",
       "      <th>ITEM_PRICE</th>\n",
       "      <td>47</td>\n",
       "      <td>39.5</td>\n",
       "    </tr>\n",
       "  </tbody>\n",
       "</table>\n",
       "</div>"
      ],
      "text/plain": [
       "                  Frequencia de NANs  % Equivalente\n",
       "CAPACIDADE_(L)                   119          100.0\n",
       "PARA_MICRO_ONDAS                 119          100.0\n",
       "PESO                             119          100.0\n",
       "TEMPO_GARANTIA                   119          100.0\n",
       "ITEM_PRICE                        47           39.5"
      ]
     },
     "execution_count": 94,
     "metadata": {},
     "output_type": "execute_result"
    }
   ],
   "source": [
    "dim = dados_cumbuca.shape\n",
    "funcao_dados_missing(dados_cumbuca) #Identificando NAN's Dados Cumbuca"
   ]
  },
  {
   "cell_type": "code",
   "execution_count": 95,
   "metadata": {},
   "outputs": [
    {
     "data": {
      "text/plain": [
       "1.0    119\n",
       "0.0      0\n",
       "Name: TEM_TAMPA, dtype: int64"
      ]
     },
     "execution_count": 95,
     "metadata": {},
     "output_type": "execute_result"
    }
   ],
   "source": [
    "dados_cumbuca['TEM_TAMPA'].value_counts()  #Identificando Significancia da Tampa"
   ]
  },
  {
   "cell_type": "code",
   "execution_count": 96,
   "metadata": {},
   "outputs": [
    {
     "name": "stdout",
     "output_type": "stream",
     "text": [
      "(119, 19),(72, 11)\n"
     ]
    }
   ],
   "source": [
    "x= ['CAPACIDADE_(L)','COMPOSICAO','PARA_MICRO_ONDAS','PESO','TEMPO_GARANTIA','TEM_TAMPA','TIPO_WOK','TIPO_PRODUTO']\n",
    "dados_cumbuca = dados_cumbuca.drop(columns=x)  #Retirando Vriáveis pelos excessivos NAN's \n",
    "dados_cumbuca.dropna(inplace=True) #Retirando Linhas com NAN's \n",
    "newdim= dados_cumbuca.shape\n",
    "print(dim,newdim, sep=\",\")"
   ]
  },
  {
   "cell_type": "code",
   "execution_count": 97,
   "metadata": {},
   "outputs": [
    {
     "name": "stdout",
     "output_type": "stream",
     "text": [
      "Your selected dataframe has 19 columns.\n",
      "There are 5 columns that have missing values.\n"
     ]
    },
    {
     "data": {
      "text/html": [
       "<div>\n",
       "<style scoped>\n",
       "    .dataframe tbody tr th:only-of-type {\n",
       "        vertical-align: middle;\n",
       "    }\n",
       "\n",
       "    .dataframe tbody tr th {\n",
       "        vertical-align: top;\n",
       "    }\n",
       "\n",
       "    .dataframe thead th {\n",
       "        text-align: right;\n",
       "    }\n",
       "</style>\n",
       "<table border=\"1\" class=\"dataframe\">\n",
       "  <thead>\n",
       "    <tr style=\"text-align: right;\">\n",
       "      <th></th>\n",
       "      <th>Frequencia de NANs</th>\n",
       "      <th>% Equivalente</th>\n",
       "    </tr>\n",
       "  </thead>\n",
       "  <tbody>\n",
       "    <tr>\n",
       "      <th>CAPACIDADE_(L)</th>\n",
       "      <td>102</td>\n",
       "      <td>100.0</td>\n",
       "    </tr>\n",
       "    <tr>\n",
       "      <th>PARA_MICRO_ONDAS</th>\n",
       "      <td>102</td>\n",
       "      <td>100.0</td>\n",
       "    </tr>\n",
       "    <tr>\n",
       "      <th>PESO</th>\n",
       "      <td>102</td>\n",
       "      <td>100.0</td>\n",
       "    </tr>\n",
       "    <tr>\n",
       "      <th>TEMPO_GARANTIA</th>\n",
       "      <td>102</td>\n",
       "      <td>100.0</td>\n",
       "    </tr>\n",
       "    <tr>\n",
       "      <th>ITEM_PRICE</th>\n",
       "      <td>25</td>\n",
       "      <td>24.5</td>\n",
       "    </tr>\n",
       "  </tbody>\n",
       "</table>\n",
       "</div>"
      ],
      "text/plain": [
       "                  Frequencia de NANs  % Equivalente\n",
       "CAPACIDADE_(L)                   102          100.0\n",
       "PARA_MICRO_ONDAS                 102          100.0\n",
       "PESO                             102          100.0\n",
       "TEMPO_GARANTIA                   102          100.0\n",
       "ITEM_PRICE                        25           24.5"
      ]
     },
     "execution_count": 97,
     "metadata": {},
     "output_type": "execute_result"
    }
   ],
   "source": [
    "dim = dados_prensador.shape\n",
    "funcao_dados_missing(dados_prensador) #Identificando NAN's Dados Prensador"
   ]
  },
  {
   "cell_type": "code",
   "execution_count": 98,
   "metadata": {},
   "outputs": [
    {
     "data": {
      "text/plain": [
       "0.0    102\n",
       "1.0      0\n",
       "Name: TEM_TAMPA, dtype: int64"
      ]
     },
     "execution_count": 98,
     "metadata": {},
     "output_type": "execute_result"
    }
   ],
   "source": [
    "dados_prensador['TEM_TAMPA'].value_counts()  #Identificando Significancia da Tampa"
   ]
  },
  {
   "cell_type": "code",
   "execution_count": 99,
   "metadata": {},
   "outputs": [
    {
     "data": {
      "text/plain": [
       "0.0    102\n",
       "1.0      0\n",
       "Name: TEM_TAMPA, dtype: int64"
      ]
     },
     "execution_count": 99,
     "metadata": {},
     "output_type": "execute_result"
    }
   ],
   "source": [
    "dados_prensador['TEM_TAMPA'].value_counts()  #Identificando Significancia da Tampa"
   ]
  },
  {
   "cell_type": "code",
   "execution_count": 100,
   "metadata": {},
   "outputs": [
    {
     "name": "stdout",
     "output_type": "stream",
     "text": [
      "(102, 19),(77, 11)\n"
     ]
    }
   ],
   "source": [
    "x= ['CAPACIDADE_(L)','COMPOSICAO','PARA_MICRO_ONDAS','PESO','TEMPO_GARANTIA','TEM_TAMPA','TIPO_WOK','TIPO_PRODUTO']\n",
    "dados_prensador = dados_prensador.drop(columns=x)  #Retirando Vriáveis pelos excessivos NAN's \n",
    "dados_prensador.dropna(inplace=True) #Retirando Linhas com NAN's \n",
    "newdim= dados_prensador.shape\n",
    "print(dim,newdim, sep=\",\")"
   ]
  },
  {
   "cell_type": "code",
   "execution_count": 101,
   "metadata": {},
   "outputs": [
    {
     "name": "stdout",
     "output_type": "stream",
     "text": [
      "Your selected dataframe has 19 columns.\n",
      "There are 5 columns that have missing values.\n"
     ]
    },
    {
     "data": {
      "text/html": [
       "<div>\n",
       "<style scoped>\n",
       "    .dataframe tbody tr th:only-of-type {\n",
       "        vertical-align: middle;\n",
       "    }\n",
       "\n",
       "    .dataframe tbody tr th {\n",
       "        vertical-align: top;\n",
       "    }\n",
       "\n",
       "    .dataframe thead th {\n",
       "        text-align: right;\n",
       "    }\n",
       "</style>\n",
       "<table border=\"1\" class=\"dataframe\">\n",
       "  <thead>\n",
       "    <tr style=\"text-align: right;\">\n",
       "      <th></th>\n",
       "      <th>Frequencia de NANs</th>\n",
       "      <th>% Equivalente</th>\n",
       "    </tr>\n",
       "  </thead>\n",
       "  <tbody>\n",
       "    <tr>\n",
       "      <th>CAPACIDADE_(L)</th>\n",
       "      <td>88</td>\n",
       "      <td>100.0</td>\n",
       "    </tr>\n",
       "    <tr>\n",
       "      <th>PARA_MICRO_ONDAS</th>\n",
       "      <td>88</td>\n",
       "      <td>100.0</td>\n",
       "    </tr>\n",
       "    <tr>\n",
       "      <th>PESO</th>\n",
       "      <td>88</td>\n",
       "      <td>100.0</td>\n",
       "    </tr>\n",
       "    <tr>\n",
       "      <th>TEMPO_GARANTIA</th>\n",
       "      <td>88</td>\n",
       "      <td>100.0</td>\n",
       "    </tr>\n",
       "    <tr>\n",
       "      <th>ITEM_PRICE</th>\n",
       "      <td>28</td>\n",
       "      <td>31.8</td>\n",
       "    </tr>\n",
       "  </tbody>\n",
       "</table>\n",
       "</div>"
      ],
      "text/plain": [
       "                  Frequencia de NANs  % Equivalente\n",
       "CAPACIDADE_(L)                    88          100.0\n",
       "PARA_MICRO_ONDAS                  88          100.0\n",
       "PESO                              88          100.0\n",
       "TEMPO_GARANTIA                    88          100.0\n",
       "ITEM_PRICE                        28           31.8"
      ]
     },
     "execution_count": 101,
     "metadata": {},
     "output_type": "execute_result"
    }
   ],
   "source": [
    "dim = dados_forno.shape\n",
    "funcao_dados_missing(dados_forno) #Identificando NAN's Dados Prensador"
   ]
  },
  {
   "cell_type": "code",
   "execution_count": 102,
   "metadata": {},
   "outputs": [
    {
     "data": {
      "text/plain": [
       "1.0    88\n",
       "0.0     0\n",
       "Name: TEM_TAMPA, dtype: int64"
      ]
     },
     "execution_count": 102,
     "metadata": {},
     "output_type": "execute_result"
    }
   ],
   "source": [
    "dados_forno['TEM_TAMPA'].value_counts()  #Identificando Significancia da Tampa"
   ]
  },
  {
   "cell_type": "code",
   "execution_count": 103,
   "metadata": {},
   "outputs": [
    {
     "name": "stdout",
     "output_type": "stream",
     "text": [
      "(88, 19),(60, 11)\n"
     ]
    }
   ],
   "source": [
    "x= ['CAPACIDADE_(L)','COMPOSICAO','PARA_MICRO_ONDAS','PESO','TEMPO_GARANTIA','TEM_TAMPA','TIPO_WOK','TIPO_PRODUTO']\n",
    "dados_forno = dados_forno.drop(columns=x)  #Retirando Vriáveis pelos excessivos NAN's \n",
    "dados_forno.dropna(inplace=True) #Retirando Linhas com NAN's \n",
    "newdim= dados_forno.shape\n",
    "print(dim,newdim, sep=\",\")"
   ]
  },
  {
   "cell_type": "markdown",
   "metadata": {},
   "source": [
    "### 2. Criando os Modelos Preditivos"
   ]
  },
  {
   "cell_type": "markdown",
   "metadata": {},
   "source": [
    "#### 2.0 Função de Desempenho pela F1-Score"
   ]
  },
  {
   "cell_type": "code",
   "execution_count": 150,
   "metadata": {},
   "outputs": [],
   "source": [
    "    def funcao_desempenho(X,Y):\n",
    "        warnings.filterwarnings(\"ignore\")\n",
    "        Resultados= [[] for i in range(9)]\n",
    "        Resultados[0]= [nome_dados]\n",
    "        Resultados[1]= [\"Modelo\", \"Desempenho\"]\n",
    "        MODELO =  LogisticRegression()\n",
    "        Nome_modelo = 'Regressao Logistica'\n",
    "# Amostra 70-30 (Holdout)\n",
    "\n",
    "        X_TREINO,X_TESTE,Y_TREINO, Y_TESTE = train_test_split(X, Y, test_size = 0.3)\n",
    "        MODELO.fit(X_TREINO,Y_TREINO)\n",
    "        Y_PRED = MODELO.predict(X_TESTE)\n",
    "        mc = confusion_matrix(Y_TESTE,Y_PRED)\n",
    "        tp = mc[0,0]\n",
    "        tn = mc[1,1]\n",
    "        fn = mc[1,0]\n",
    "        fp = mc[0,1]\n",
    "        prec = tp/(tp+fp)\n",
    "        rec = tp/(tp+fn)\n",
    "# f1-Score: Dado ao desequilíbrio entre categorias de resposta.\n",
    "        f1 = (2*prec*rec)/(prec+rec)\n",
    "        f1 = round(f1,4)\n",
    "        Resultados[2] = [Nome_modelo, f1]\n",
    "################################################\n",
    "        MODELO =  LinearDiscriminantAnalysis()\n",
    "        Nome_modelo = 'LDA'\n",
    "# Amostra 70-30 (Holdout)\n",
    "        X_TREINO,X_TESTE,Y_TREINO, Y_TESTE = train_test_split(X, Y, test_size = 0.3)\n",
    "        MODELO.fit(X_TREINO,Y_TREINO)\n",
    "        Y_PRED = MODELO.predict(X_TESTE)\n",
    "        mc = confusion_matrix(Y_TESTE,Y_PRED)\n",
    "        tp = mc[0,0]\n",
    "        tn = mc[1,1]\n",
    "        fn = mc[1,0]\n",
    "        fp = mc[0,1]\n",
    "        prec = tp/(tp+fp)\n",
    "        rec = tp/(tp+fn)\n",
    "# f1-Score: Dado ao desequilíbrio entre categorias de resposta.\n",
    "        f1 = (2*prec*rec)/(prec+rec)\n",
    "        f1 = round(f1,4)\n",
    "        Resultados[3] = [Nome_modelo, f1]\n",
    "################################################\n",
    "        MODELO = KNeighborsClassifier()\n",
    "        Nome_modelo = 'KNN'\n",
    "# Amostra 70-30 (Holdout)\n",
    "        X_TREINO,X_TESTE,Y_TREINO, Y_TESTE = train_test_split(X, Y, test_size = 0.3)\n",
    "        MODELO.fit(X_TREINO,Y_TREINO)\n",
    "        Y_PRED = MODELO.predict(X_TESTE)\n",
    "        mc = confusion_matrix(Y_TESTE,Y_PRED)\n",
    "        tp = mc[0,0]\n",
    "        tn = mc[1,1]\n",
    "        fn = mc[1,0]\n",
    "        fp = mc[0,1]\n",
    "        prec = tp/(tp+fp)\n",
    "        rec = tp/(tp+fn)\n",
    "# f1-Score: Dado ao desequilíbrio entre categorias de resposta.\n",
    "        f1 = (2*prec*rec)/(prec+rec)\n",
    "        f1 = round(f1,4)\n",
    "        Resultados[4] = [Nome_modelo, f1]\n",
    "################################################\n",
    "        MODELO =  DecisionTreeClassifier()\n",
    "        Nome_modelo = 'Arvore de Decisão'\n",
    "# Amostra 70-30 (Holdout)\n",
    "        X_TREINO,X_TESTE,Y_TREINO, Y_TESTE = train_test_split(X, Y, test_size = 0.3)\n",
    "        MODELO.fit(X_TREINO,Y_TREINO)\n",
    "        Y_PRED = MODELO.predict(X_TESTE)\n",
    "        mc = confusion_matrix(Y_TESTE,Y_PRED)\n",
    "        tp = mc[0,0]\n",
    "        tn = mc[1,1]\n",
    "        fn = mc[1,0]\n",
    "        fp = mc[0,1]\n",
    "        prec = tp/(tp+fp)\n",
    "        rec = tp/(tp+fn)\n",
    "# f1-Score: Dado ao desequilíbrio entre categorias de resposta.\n",
    "        f1 = (2*prec*rec)/(prec+rec)\n",
    "        f1 = round(f1,4)\n",
    "        Resultados[5] = [Nome_modelo, f1]\n",
    "################################################\n",
    "        MODELO =  GaussianNB()\n",
    "        Nome_modelo = 'Naive Bayes'\n",
    "# Amostra 70-30 (Holdout)\n",
    "        X_TREINO,X_TESTE,Y_TREINO, Y_TESTE = train_test_split(X, Y, test_size = 0.3)\n",
    "        MODELO.fit(X_TREINO,Y_TREINO)\n",
    "        Y_PRED = MODELO.predict(X_TESTE)\n",
    "        mc = confusion_matrix(Y_TESTE,Y_PRED)\n",
    "        tp = mc[0,0]\n",
    "        tn = mc[1,1]\n",
    "        fn = mc[1,0]\n",
    "        fp = mc[0,1]\n",
    "        prec = tp/(tp+fp)\n",
    "        rec = tp/(tp+fn)\n",
    "# f1-Score: Dado ao desequilíbrio entre categorias de resposta.\n",
    "        f1 = (2*prec*rec)/(prec+rec)\n",
    "        f1 = round(f1,4)\n",
    "        Resultados[6] = [Nome_modelo, f1]\n",
    "################################################\n",
    "        MODELO =  SVC(kernel = 'rbf')\n",
    "        Nome_modelo = 'SVM - Gaussiano '\n",
    "# Amostra 70-30 (Holdout)\n",
    "        X_TREINO,X_TESTE,Y_TREINO, Y_TESTE = train_test_split(X, Y, test_size = 0.3)\n",
    "        MODELO.fit(X_TREINO,Y_TREINO)\n",
    "        Y_PRED = MODELO.predict(X_TESTE)\n",
    "        mc = confusion_matrix(Y_TESTE,Y_PRED)\n",
    "        tp = mc[0,0]\n",
    "        tn = mc[1,1]\n",
    "        fn = mc[1,0]\n",
    "        fp = mc[0,1]\n",
    "        prec = tp/(tp+fp)\n",
    "        rec = tp/(tp+fn)\n",
    "# f1-Score: Dado ao desequilíbrio entre categorias de resposta.\n",
    "        f1 = (2*prec*rec)/(prec+rec)\n",
    "        f1 = round(f1,4)\n",
    "        Resultados[7] = [Nome_modelo, f1]\n",
    "################################################\n",
    "        MODELO =  RandomForestClassifier()\n",
    "        Nome_modelo = 'Floresta Aleatoria'\n",
    "# Amostra 70-30 (Holdout)\n",
    "        X_TREINO,X_TESTE,Y_TREINO, Y_TESTE = train_test_split(X, Y, test_size = 0.3)\n",
    "        MODELO.fit(X_TREINO,Y_TREINO)\n",
    "        Y_PRED = MODELO.predict(X_TESTE)\n",
    "        mc = confusion_matrix(Y_TESTE,Y_PRED)\n",
    "        tp = mc[0,0]\n",
    "        tn = mc[1,1]\n",
    "        fn = mc[1,0]\n",
    "        fp = mc[0,1]\n",
    "        prec = tp/(tp+fp)\n",
    "        rec = tp/(tp+fn)\n",
    "# f1-Score: Dado ao desequilíbrio entre categorias de resposta.\n",
    "        f1 = (2*prec*rec)/(prec+rec)\n",
    "        f1 = round(f1,4)\n",
    "        Resultados[8] = [Nome_modelo, f1]\n",
    "        return Resultados"
   ]
  },
  {
   "cell_type": "markdown",
   "metadata": {},
   "source": [
    "#### 2.1 Modelo - Produto Tipo : \"Panela\""
   ]
  },
  {
   "cell_type": "code",
   "execution_count": 151,
   "metadata": {},
   "outputs": [
    {
     "data": {
      "text/plain": [
       "[[['dados_panela']],\n",
       " ['Modelo', 'Desempenho'],\n",
       " ['Regressao Logistica', 0.9542],\n",
       " ['LDA', 0.9527],\n",
       " ['KNN', 0.9488],\n",
       " ['Arvore de Decisão', 0.9585],\n",
       " ['Naive Bayes', 0.9518],\n",
       " ['SVM - Gaussiano ', 0.9565],\n",
       " ['Floresta Aleatoria', 0.9577]]"
      ]
     },
     "execution_count": 151,
     "metadata": {},
     "output_type": "execute_result"
    }
   ],
   "source": [
    "\n",
    "###### Funções Auxiliares\n",
    "nome_dados = ['dados_panela']\n",
    "X = dados_panela.loc [:, dados_panela.columns != 'INTERESTED'] \n",
    "Y = dados_panela.loc [:, dados_panela.columns == 'INTERESTED']\n",
    "n = dados_panela.shape[0]\n",
    "desempenho_panela= funcao_desempenho(X,Y)\n",
    "desempenho_panela"
   ]
  },
  {
   "cell_type": "markdown",
   "metadata": {},
   "source": [
    "#### 2.2 Modelo - Produto Tipo : \"Pipoqueira\""
   ]
  },
  {
   "cell_type": "code",
   "execution_count": 152,
   "metadata": {},
   "outputs": [
    {
     "data": {
      "text/plain": [
       "[[['dados_pipoqueira']],\n",
       " ['Modelo', 'Desempenho'],\n",
       " ['Regressao Logistica', 0.9476],\n",
       " ['LDA', 0.9463],\n",
       " ['KNN', 0.9842],\n",
       " ['Arvore de Decisão', 0.9821],\n",
       " ['Naive Bayes', 0.9427],\n",
       " ['SVM - Gaussiano ', 0.9496],\n",
       " ['Floresta Aleatoria', 0.9842]]"
      ]
     },
     "execution_count": 152,
     "metadata": {},
     "output_type": "execute_result"
    }
   ],
   "source": [
    "###### Funções Auxiliares\n",
    "nome_dados = ['dados_pipoqueira']\n",
    "X = dados_pipoqueira.loc [:, dados_pipoqueira.columns != 'INTERESTED'] \n",
    "Y = dados_pipoqueira.loc [:, dados_pipoqueira.columns == 'INTERESTED']\n",
    "n = dados_pipoqueira.shape[0]\n",
    "desempenho_pipoqueira= funcao_desempenho(X,Y)\n",
    "desempenho_pipoqueira"
   ]
  },
  {
   "cell_type": "markdown",
   "metadata": {},
   "source": [
    "#### 2.3 Modelo - Produto Tipo : \"Chaleira\""
   ]
  },
  {
   "cell_type": "code",
   "execution_count": 153,
   "metadata": {},
   "outputs": [
    {
     "data": {
      "text/plain": [
       "[[['dados_chaleira']],\n",
       " ['Modelo', 'Desempenho'],\n",
       " ['Regressao Logistica', 0.9377],\n",
       " ['LDA', 0.9389],\n",
       " ['KNN', 0.9341],\n",
       " ['Arvore de Decisão', 0.9439],\n",
       " ['Naive Bayes', 0.9215],\n",
       " ['SVM - Gaussiano ', 0.9395],\n",
       " ['Floresta Aleatoria', 0.9387]]"
      ]
     },
     "execution_count": 153,
     "metadata": {},
     "output_type": "execute_result"
    }
   ],
   "source": [
    "###### Funções Auxiliares\n",
    "nome_dados = ['dados_chaleira']\n",
    "X = dados_chaleira.loc [:, dados_chaleira.columns != 'INTERESTED'] \n",
    "Y = dados_chaleira.loc [:, dados_chaleira.columns == 'INTERESTED']\n",
    "n = dados_chaleira.shape[0]\n",
    "desempenho_chaleira= funcao_desempenho(X,Y)\n",
    "desempenho_chaleira"
   ]
  },
  {
   "cell_type": "markdown",
   "metadata": {},
   "source": [
    "#### 2.4 Modelo - Produto Tipo : \"Caçarola\""
   ]
  },
  {
   "cell_type": "code",
   "execution_count": 154,
   "metadata": {},
   "outputs": [
    {
     "data": {
      "text/plain": [
       "[[['dados_cacarola']],\n",
       " ['Modelo', 'Desempenho'],\n",
       " ['Regressao Logistica', 0.9458],\n",
       " ['LDA', 0.9406],\n",
       " ['KNN', 0.933],\n",
       " ['Arvore de Decisão', 0.9441],\n",
       " ['Naive Bayes', 0.9423],\n",
       " ['SVM - Gaussiano ', 0.9453],\n",
       " ['Floresta Aleatoria', 0.9407]]"
      ]
     },
     "execution_count": 154,
     "metadata": {},
     "output_type": "execute_result"
    }
   ],
   "source": [
    "###### Funções Auxiliares\n",
    "nome_dados = ['dados_cacarola']\n",
    "X = dados_cacarola.loc [:, dados_cacarola.columns != 'INTERESTED'] \n",
    "Y = dados_cacarola.loc [:, dados_cacarola.columns == 'INTERESTED']\n",
    "n = dados_cacarola.shape[0]\n",
    "desempenho_cacarola= funcao_desempenho(X,Y)\n",
    "desempenho_cacarola"
   ]
  },
  {
   "cell_type": "markdown",
   "metadata": {},
   "source": [
    "#### 2.5 Modelo - Produto Tipo : \"Frigideira\""
   ]
  },
  {
   "cell_type": "code",
   "execution_count": 177,
   "metadata": {},
   "outputs": [
    {
     "data": {
      "text/plain": [
       "[[['dados_frigideira']],\n",
       " ['Modelo', 'Desempenho'],\n",
       " ['Regressao Logistica', 0.9513],\n",
       " ['LDA', 0.9541],\n",
       " ['KNN', 0.9484],\n",
       " ['Arvore de Decisão', 0.9528],\n",
       " ['Naive Bayes', 0.9497],\n",
       " ['SVM - Gaussiano ', 0.9528],\n",
       " ['Floresta Aleatoria', 0.9503]]"
      ]
     },
     "execution_count": 177,
     "metadata": {},
     "output_type": "execute_result"
    }
   ],
   "source": [
    "###### Funções Auxiliares\n",
    "nome_dados = ['dados_frigideira']\n",
    "X = dados_frigideira.loc [:, dados_frigideira.columns != 'INTERESTED'] \n",
    "Y = dados_frigideira.loc [:, dados_frigideira.columns == 'INTERESTED']\n",
    "n = dados_frigideira.shape[0]\n",
    "desempenho_frigideira= funcao_desempenho(X,Y)\n",
    "desempenho_frigideira"
   ]
  },
  {
   "cell_type": "markdown",
   "metadata": {},
   "source": [
    "#### 2.6 Modelo - Produto Tipo : \"Espagueteira\""
   ]
  },
  {
   "cell_type": "code",
   "execution_count": 176,
   "metadata": {},
   "outputs": [
    {
     "data": {
      "text/plain": [
       "[[['dados_espagueteira']],\n",
       " ['Modelo', 'Desempenho'],\n",
       " ['Regressao Logistica', 0.961],\n",
       " ['LDA', 0.9607],\n",
       " ['KNN', 0.9644],\n",
       " ['Arvore de Decisão', 0.9619],\n",
       " ['Naive Bayes', 0.9615],\n",
       " ['SVM - Gaussiano ', 0.966],\n",
       " ['Floresta Aleatoria', 0.9642]]"
      ]
     },
     "execution_count": 176,
     "metadata": {},
     "output_type": "execute_result"
    }
   ],
   "source": [
    "###### Funções Auxiliares\n",
    "nome_dados = ['dados_espagueteira']\n",
    "X = dados_espagueteira.loc [:, dados_espagueteira.columns != 'INTERESTED'] \n",
    "Y = dados_espagueteira.loc [:, dados_espagueteira.columns == 'INTERESTED']\n",
    "n = dados_espagueteira.shape[0]\n",
    "desempenho_espagueteira= funcao_desempenho(X,Y)\n",
    "desempenho_espagueteira"
   ]
  },
  {
   "cell_type": "markdown",
   "metadata": {},
   "source": [
    "#### 2.7 Modelo - Produto Tipo : \"Cuscuzeira\"\n"
   ]
  },
  {
   "cell_type": "code",
   "execution_count": 178,
   "metadata": {},
   "outputs": [
    {
     "data": {
      "text/plain": [
       "[[['dados_cuscuzeira']],\n",
       " ['Modelo', 'Desempenho'],\n",
       " ['Regressao Logistica', 0.9627],\n",
       " ['LDA', 0.9639],\n",
       " ['KNN', 0.9606],\n",
       " ['Arvore de Decisão', 0.9612],\n",
       " ['Naive Bayes', 0.9641],\n",
       " ['SVM - Gaussiano ', 0.9598],\n",
       " ['Floresta Aleatoria', 0.9623]]"
      ]
     },
     "execution_count": 178,
     "metadata": {},
     "output_type": "execute_result"
    }
   ],
   "source": [
    "###### Funções Auxiliares\n",
    "nome_dados = ['dados_cuscuzeira']\n",
    "X = dados_cuscuzeira.loc [:, dados_cuscuzeira.columns != 'INTERESTED'] \n",
    "Y = dados_cuscuzeira.loc [:, dados_cuscuzeira.columns == 'INTERESTED']\n",
    "n = dados_cuscuzeira.shape[0]\n",
    "desempenho_cuscuzeira= funcao_desempenho(X,Y)\n",
    "desempenho_cuscuzeira"
   ]
  },
  {
   "cell_type": "markdown",
   "metadata": {},
   "source": [
    "#### 2.8 Modelo - Produto Tipo : \"Chapa\""
   ]
  },
  {
   "cell_type": "code",
   "execution_count": 179,
   "metadata": {},
   "outputs": [
    {
     "data": {
      "text/plain": [
       "[[['dados_chapa']],\n",
       " ['Modelo', 'Desempenho'],\n",
       " ['Regressao Logistica', 0.9677],\n",
       " ['LDA', 0.9726],\n",
       " ['KNN', 0.9632],\n",
       " ['Arvore de Decisão', 0.9665],\n",
       " ['Naive Bayes', 0.9673],\n",
       " ['SVM - Gaussiano ', 0.975],\n",
       " ['Floresta Aleatoria', 0.9706]]"
      ]
     },
     "execution_count": 179,
     "metadata": {},
     "output_type": "execute_result"
    }
   ],
   "source": [
    "###### Funções Auxiliares\n",
    "nome_dados = ['dados_chapa']\n",
    "X = dados_chapa.loc [:, dados_chapa.columns != 'INTERESTED'] \n",
    "Y = dados_chapa.loc [:, dados_chapa.columns == 'INTERESTED']\n",
    "n = dados_chapa.shape[0]\n",
    "desempenho_chapa= funcao_desempenho(X,Y)\n",
    "desempenho_chapa"
   ]
  },
  {
   "cell_type": "markdown",
   "metadata": {},
   "source": [
    "#### 2.9 Modelo - Produto Tipo : \"WOK\""
   ]
  },
  {
   "cell_type": "code",
   "execution_count": 180,
   "metadata": {},
   "outputs": [
    {
     "data": {
      "text/plain": [
       "[[['dados_wok']],\n",
       " ['Modelo', 'Desempenho'],\n",
       " ['Regressao Logistica', 0.9674],\n",
       " ['LDA', 0.9689],\n",
       " ['KNN', 0.951],\n",
       " ['Arvore de Decisão', 0.9642],\n",
       " ['Naive Bayes', 0.9684],\n",
       " ['SVM - Gaussiano ', 0.9663],\n",
       " ['Floresta Aleatoria', 0.9658]]"
      ]
     },
     "execution_count": 180,
     "metadata": {},
     "output_type": "execute_result"
    }
   ],
   "source": [
    "###### Funções Auxiliares\n",
    "nome_dados = ['dados_wok']\n",
    "X = dados_wok.loc [:, dados_wok.columns != 'INTERESTED'] \n",
    "Y = dados_wok.loc [:, dados_wok.columns == 'INTERESTED']\n",
    "n = dados_wok.shape[0]\n",
    "desempenho_wok= funcao_desempenho(X,Y)\n",
    "desempenho_wok"
   ]
  },
  {
   "cell_type": "markdown",
   "metadata": {},
   "source": [
    "#### 2.10 Modelo - Produto Tipo : \"Caldeirão\""
   ]
  },
  {
   "cell_type": "code",
   "execution_count": 181,
   "metadata": {},
   "outputs": [
    {
     "data": {
      "text/plain": [
       "[[['dados_caldeirao']],\n",
       " ['Modelo', 'Desempenho'],\n",
       " ['Regressao Logistica', 0.9218],\n",
       " ['LDA', 0.9259],\n",
       " ['KNN', 0.8026],\n",
       " ['Arvore de Decisão', 0.923],\n",
       " ['Naive Bayes', 0.4856],\n",
       " ['SVM - Gaussiano ', 0.92],\n",
       " ['Floresta Aleatoria', 0.9296]]"
      ]
     },
     "execution_count": 181,
     "metadata": {},
     "output_type": "execute_result"
    }
   ],
   "source": [
    "###### Funções Auxiliares\n",
    "nome_dados = ['dados_caldeirao']\n",
    "X = dados_caldeirao.loc [:, dados_caldeirao.columns != 'INTERESTED'] \n",
    "Y = dados_caldeirao.loc [:, dados_caldeirao.columns == 'INTERESTED']\n",
    "n = dados_caldeirao.shape[0]\n",
    "desempenho_caldeirao= funcao_desempenho(X,Y)\n",
    "desempenho_caldeirao"
   ]
  },
  {
   "cell_type": "markdown",
   "metadata": {},
   "source": [
    "#### 2.11 Modelo - Produto Tipo : \"Ferverdor\""
   ]
  },
  {
   "cell_type": "code",
   "execution_count": 182,
   "metadata": {},
   "outputs": [
    {
     "data": {
      "text/plain": [
       "[[['dados_fervedor']],\n",
       " ['Modelo', 'Desempenho'],\n",
       " ['Regressao Logistica', 0.9282],\n",
       " ['LDA', 0.9291],\n",
       " ['KNN', 0.9172],\n",
       " ['Arvore de Decisão', 0.9382],\n",
       " ['Naive Bayes', 0.0036],\n",
       " ['SVM - Gaussiano ', 0.9221],\n",
       " ['Floresta Aleatoria', 0.9261]]"
      ]
     },
     "execution_count": 182,
     "metadata": {},
     "output_type": "execute_result"
    }
   ],
   "source": [
    "###### Funções Auxiliares\n",
    "nome_dados = ['dados_fervedor']\n",
    "X = dados_fervedor.loc [:, dados_fervedor.columns != 'INTERESTED'] \n",
    "Y = dados_fervedor.loc [:, dados_fervedor.columns == 'INTERESTED']\n",
    "n = dados_fervedor.shape[0]\n",
    "desempenho_ferverdor= funcao_desempenho(X,Y)\n",
    "desempenho_ferverdor"
   ]
  },
  {
   "cell_type": "markdown",
   "metadata": {},
   "source": [
    "#### 2.12 Modelo - Produto Tipo : \"Grill\""
   ]
  },
  {
   "cell_type": "code",
   "execution_count": 183,
   "metadata": {},
   "outputs": [
    {
     "data": {
      "text/plain": [
       "[[['dados_grill']],\n",
       " ['Modelo', 'Desempenho'],\n",
       " ['Regressao Logistica', 0.9905],\n",
       " ['LDA', 0.9962],\n",
       " ['KNN', 0.9924],\n",
       " ['Arvore de Decisão', 0.9962],\n",
       " ['Naive Bayes', 0.9924],\n",
       " ['SVM - Gaussiano ', 0.9943],\n",
       " ['Floresta Aleatoria', 0.9886]]"
      ]
     },
     "execution_count": 183,
     "metadata": {},
     "output_type": "execute_result"
    }
   ],
   "source": [
    "###### Funções Auxiliares\n",
    "nome_dados = ['dados_grill']\n",
    "X = dados_grill.loc [:, dados_grill.columns != 'INTERESTED'] \n",
    "Y = dados_grill.loc [:, dados_grill.columns == 'INTERESTED']\n",
    "n = dados_grill.shape[0]\n",
    "desempenho_grill= funcao_desempenho(X,Y)\n",
    "desempenho_grill"
   ]
  },
  {
   "cell_type": "markdown",
   "metadata": {},
   "source": [
    "#### 2.13 Modelo - Produto Tipo : \"Paellera\""
   ]
  },
  {
   "cell_type": "code",
   "execution_count": 184,
   "metadata": {},
   "outputs": [
    {
     "data": {
      "text/plain": [
       "[[['dados_paellera']],\n",
       " ['Modelo', 'Desempenho'],\n",
       " ['Regressao Logistica', 0.9558],\n",
       " ['LDA', 0.9683],\n",
       " ['KNN', 0.9683],\n",
       " ['Arvore de Decisão', 0.9516],\n",
       " ['Naive Bayes', 0.5943],\n",
       " ['SVM - Gaussiano ', 0.9388],\n",
       " ['Floresta Aleatoria', 0.9683]]"
      ]
     },
     "execution_count": 184,
     "metadata": {},
     "output_type": "execute_result"
    }
   ],
   "source": [
    "###### Funções Auxiliares\n",
    "nome_dados = ['dados_paellera']\n",
    "X = dados_paellera.loc [:, dados_paellera.columns != 'INTERESTED'] \n",
    "Y = dados_paellera.loc [:, dados_paellera.columns == 'INTERESTED']\n",
    "n = dados_paellera.shape[0]\n",
    "desempenho_paellera= funcao_desempenho(X,Y)\n",
    "desempenho_paellera"
   ]
  },
  {
   "cell_type": "markdown",
   "metadata": {},
   "source": [
    "#### 2.14 Modelo - Produto Tipo : \"Bifeteira\""
   ]
  },
  {
   "cell_type": "code",
   "execution_count": 185,
   "metadata": {},
   "outputs": [
    {
     "data": {
      "text/plain": [
       "[[['dados_bifeteira']],\n",
       " ['Modelo', 'Desempenho'],\n",
       " ['Regressao Logistica', 0.944],\n",
       " ['LDA', 0.9606],\n",
       " ['KNN', 0.9794],\n",
       " ['Arvore de Decisão', 0.9714],\n",
       " ['Naive Bayes', 0.9661],\n",
       " ['SVM - Gaussiano ', 0.9606],\n",
       " ['Floresta Aleatoria', 0.9767]]"
      ]
     },
     "execution_count": 185,
     "metadata": {},
     "output_type": "execute_result"
    }
   ],
   "source": [
    "###### Funções Auxiliares\n",
    "nome_dados = ['dados_bifeteira']\n",
    "X = dados_bifeteira.loc [:, dados_bifeteira.columns != 'INTERESTED'] \n",
    "Y = dados_bifeteira.loc [:, dados_bifeteira.columns == 'INTERESTED']\n",
    "n = dados_bifeteira.shape[0]\n",
    "desempenho_bifeteira= funcao_desempenho(X,Y)\n",
    "desempenho_bifeteira"
   ]
  },
  {
   "cell_type": "markdown",
   "metadata": {},
   "source": [
    "#### 2.15 Modelo - Produto Tipo : \"Bule\""
   ]
  },
  {
   "cell_type": "code",
   "execution_count": 186,
   "metadata": {},
   "outputs": [
    {
     "data": {
      "text/plain": [
       "[[['dados_bule']],\n",
       " ['Modelo', 'Desempenho'],\n",
       " ['Regressao Logistica', 0.9806],\n",
       " ['LDA', 0.9839],\n",
       " ['KNN', 0.974],\n",
       " ['Arvore de Decisão', 0.9707],\n",
       " ['Naive Bayes', 0.9739],\n",
       " ['SVM - Gaussiano ', 0.974],\n",
       " ['Floresta Aleatoria', 0.974]]"
      ]
     },
     "execution_count": 186,
     "metadata": {},
     "output_type": "execute_result"
    }
   ],
   "source": [
    "###### Funções Auxiliares\n",
    "nome_dados = ['dados_bule']\n",
    "X = dados_bule.loc [:, dados_bule.columns != 'INTERESTED'] \n",
    "Y = dados_bule.loc [:, dados_bule.columns == 'INTERESTED']\n",
    "n = dados_bule.shape[0]\n",
    "desempenho_bule= funcao_desempenho(X,Y)\n",
    "desempenho_bule"
   ]
  },
  {
   "cell_type": "markdown",
   "metadata": {},
   "source": [
    "#### 2.16 Modelo - Produto Tipo : \"Panquequeira\""
   ]
  },
  {
   "cell_type": "code",
   "execution_count": 187,
   "metadata": {},
   "outputs": [
    {
     "data": {
      "text/plain": [
       "[[['dados_panquequeira']],\n",
       " ['Modelo', 'Desempenho'],\n",
       " ['Regressao Logistica', 0.9573],\n",
       " ['LDA', 0.9605],\n",
       " ['KNN', 0.9477],\n",
       " ['Arvore de Decisão', 0.9467],\n",
       " ['Naive Bayes', 0.9573],\n",
       " ['SVM - Gaussiano ', 0.9477],\n",
       " ['Floresta Aleatoria', 0.9697]]"
      ]
     },
     "execution_count": 187,
     "metadata": {},
     "output_type": "execute_result"
    }
   ],
   "source": [
    "###### Funções Auxiliares\n",
    "nome_dados = ['dados_panquequeira']\n",
    "X = dados_panquequeira.loc [:, dados_panquequeira.columns != 'INTERESTED'] \n",
    "Y = dados_panquequeira.loc [:, dados_panquequeira.columns == 'INTERESTED']\n",
    "n = dados_panquequeira.shape[0]\n",
    "desempenho_panquequeira= funcao_desempenho(X,Y)\n",
    "desempenho_panquequeira"
   ]
  },
  {
   "cell_type": "markdown",
   "metadata": {},
   "source": [
    "#### 2.17 Modelo - Produto Tipo : \"Leiteira\""
   ]
  },
  {
   "cell_type": "code",
   "execution_count": 188,
   "metadata": {},
   "outputs": [
    {
     "data": {
      "text/plain": [
       "[[['dados_leiteira']],\n",
       " ['Modelo', 'Desempenho'],\n",
       " ['Regressao Logistica', 0.9444],\n",
       " ['LDA', 0.9503],\n",
       " ['KNN', 0.9356],\n",
       " ['Arvore de Decisão', 0.9474],\n",
       " ['Naive Bayes', 0.2985],\n",
       " ['SVM - Gaussiano ', 0.9326],\n",
       " ['Floresta Aleatoria', 0.9356]]"
      ]
     },
     "execution_count": 188,
     "metadata": {},
     "output_type": "execute_result"
    }
   ],
   "source": [
    "###### Funções Auxiliares\n",
    "nome_dados = ['dados_leiteira']\n",
    "X = dados_leiteira.loc [:, dados_leiteira.columns != 'INTERESTED'] \n",
    "Y = dados_leiteira.loc [:, dados_leiteira.columns == 'INTERESTED']\n",
    "n = dados_leiteira.shape[0]\n",
    "desempenho_leiteira= funcao_desempenho(X,Y)\n",
    "desempenho_leiteira"
   ]
  },
  {
   "cell_type": "markdown",
   "metadata": {},
   "source": [
    "#### 2.18 Modelo - Produto Tipo : \"Forma\""
   ]
  },
  {
   "cell_type": "code",
   "execution_count": 189,
   "metadata": {},
   "outputs": [
    {
     "data": {
      "text/plain": [
       "[[['dados_forma']],\n",
       " ['Modelo', 'Desempenho'],\n",
       " ['Regressao Logistica', 0.921],\n",
       " ['LDA', 0.9135],\n",
       " ['KNN', 0.816],\n",
       " ['Arvore de Decisão', 0.9283],\n",
       " ['Naive Bayes', 0.1268],\n",
       " ['SVM - Gaussiano ', 0.921],\n",
       " ['Floresta Aleatoria', 0.9247]]"
      ]
     },
     "execution_count": 189,
     "metadata": {},
     "output_type": "execute_result"
    }
   ],
   "source": [
    "###### Funções Auxiliares\n",
    "nome_dados = ['dados_forma']\n",
    "X = dados_forma.loc [:, dados_forma.columns != 'INTERESTED'] \n",
    "Y = dados_forma.loc [:, dados_forma.columns == 'INTERESTED']\n",
    "n = dados_forma.shape[0]\n",
    "desempenho_forma= funcao_desempenho(X,Y)\n",
    "desempenho_forma"
   ]
  },
  {
   "cell_type": "markdown",
   "metadata": {},
   "source": [
    "#### 2.19 Modelo - Produto Tipo : \"Fritadeira\""
   ]
  },
  {
   "cell_type": "code",
   "execution_count": 190,
   "metadata": {},
   "outputs": [
    {
     "data": {
      "text/plain": [
       "[[['dados_paellera']],\n",
       " ['Modelo', 'Desempenho'],\n",
       " ['Regressao Logistica', 0.9792],\n",
       " ['LDA', 0.9574],\n",
       " ['KNN', 0.95],\n",
       " ['Arvore de Decisão', 0.9754],\n",
       " ['Naive Bayes', 0.9265],\n",
       " ['SVM - Gaussiano ', 0.9684],\n",
       " ['Floresta Aleatoria', 0.9648]]"
      ]
     },
     "execution_count": 190,
     "metadata": {},
     "output_type": "execute_result"
    }
   ],
   "source": [
    "###### Funções Auxiliares\n",
    "nome_dados = ['dados_paellera']\n",
    "X = dados_fritadeira.loc [:, dados_fritadeira.columns != 'INTERESTED'] \n",
    "Y = dados_fritadeira.loc [:, dados_fritadeira.columns == 'INTERESTED']\n",
    "n = dados_fritadeira.shape[0]\n",
    "desempenho_fritadeira= funcao_desempenho(X,Y)\n",
    "desempenho_fritadeira"
   ]
  },
  {
   "cell_type": "markdown",
   "metadata": {},
   "source": [
    "#### 2.20 Modelo - Produto Tipo : \"Omeleteira\""
   ]
  },
  {
   "cell_type": "code",
   "execution_count": 192,
   "metadata": {},
   "outputs": [
    {
     "data": {
      "text/plain": [
       "[[['dados_paellera']],\n",
       " ['Modelo', 'Desempenho'],\n",
       " ['Regressao Logistica', 0.9372],\n",
       " ['LDA', 0.8899],\n",
       " ['KNN', 0.9417],\n",
       " ['Arvore de Decisão', 0.9547],\n",
       " ['Naive Bayes', 0.8858],\n",
       " ['SVM - Gaussiano ', 0.9547],\n",
       " ['Floresta Aleatoria', 0.9322]]"
      ]
     },
     "execution_count": 192,
     "metadata": {},
     "output_type": "execute_result"
    }
   ],
   "source": [
    "###### Funções Auxiliares\n",
    "nome_dados = ['dados_paellera']\n",
    "X = dados_omeleteira.loc [:, dados_omeleteira.columns != 'INTERESTED'] \n",
    "Y = dados_omeleteira.loc [:, dados_omeleteira.columns == 'INTERESTED']\n",
    "n = dados_omeleteira.shape[0]\n",
    "desempenho_omeleteira= funcao_desempenho(X,Y)\n",
    "desempenho_omeleteira"
   ]
  },
  {
   "cell_type": "markdown",
   "metadata": {},
   "source": [
    "#### 2.21 Modelo - Produto Tipo : \"Cozi Vapore\""
   ]
  },
  {
   "cell_type": "code",
   "execution_count": 193,
   "metadata": {},
   "outputs": [
    {
     "data": {
      "text/plain": [
       "[[['dados_paellera']],\n",
       " ['Modelo', 'Desempenho'],\n",
       " ['Regressao Logistica', 0.9493],\n",
       " ['LDA', 0.9493],\n",
       " ['KNN', 0.9395],\n",
       " ['Arvore de Decisão', 0.9444],\n",
       " ['Naive Bayes', 0.9346],\n",
       " ['SVM - Gaussiano ', 0.9636],\n",
       " ['Floresta Aleatoria', 0.9541]]"
      ]
     },
     "execution_count": 193,
     "metadata": {},
     "output_type": "execute_result"
    }
   ],
   "source": [
    "###### Funções Auxiliares\n",
    "nome_dados = ['dados_paellera']\n",
    "X = dados_cozi_vapore.loc [:, dados_cozi_vapore.columns != 'INTERESTED'] \n",
    "Y = dados_cozi_vapore.loc [:, dados_cozi_vapore.columns == 'INTERESTED']\n",
    "n = dados_cozi_vapore.shape[0]\n",
    "desempenho_cozi_vapore= funcao_desempenho(X,Y)\n",
    "desempenho_cozi_vapore"
   ]
  },
  {
   "cell_type": "markdown",
   "metadata": {},
   "source": [
    "#### 2.22 Modelo - Produto Tipo : \"Fogareiro\""
   ]
  },
  {
   "cell_type": "code",
   "execution_count": 194,
   "metadata": {},
   "outputs": [
    {
     "data": {
      "text/plain": [
       "[[['dados_fogareiro']],\n",
       " ['Modelo', 'Desempenho'],\n",
       " ['Regressao Logistica', 0.9559],\n",
       " ['LDA', 0.9481],\n",
       " ['KNN', 0.9559],\n",
       " ['Arvore de Decisão', 0.9403],\n",
       " ['Naive Bayes', 0.9219],\n",
       " ['SVM - Gaussiano ', 0.9147],\n",
       " ['Floresta Aleatoria', 0.9403]]"
      ]
     },
     "execution_count": 194,
     "metadata": {},
     "output_type": "execute_result"
    }
   ],
   "source": [
    "###### Funções Auxiliares\n",
    "nome_dados = ['dados_fogareiro']\n",
    "X = dados_fogareiro.loc [:, dados_fogareiro.columns != 'INTERESTED'] \n",
    "Y = dados_fogareiro.loc [:, dados_fogareiro.columns == 'INTERESTED']\n",
    "n = dados_fogareiro.shape[0]\n",
    "desempenho_fogareiro= funcao_desempenho(X,Y)\n",
    "desempenho_fogareiro"
   ]
  },
  {
   "cell_type": "markdown",
   "metadata": {},
   "source": [
    "#### 2.23 Modelo - Produto Tipo : \"Assadeira\""
   ]
  },
  {
   "cell_type": "code",
   "execution_count": 195,
   "metadata": {},
   "outputs": [
    {
     "data": {
      "text/plain": [
       "[[['dados_assadeira']],\n",
       " ['Modelo', 'Desempenho'],\n",
       " ['Regressao Logistica', 0.9167],\n",
       " ['LDA', 0.9014],\n",
       " ['KNN', 0.9014],\n",
       " ['Arvore de Decisão', 0.9091],\n",
       " ['Naive Bayes', 0.9315],\n",
       " ['SVM - Gaussiano ', 0.8777],\n",
       " ['Floresta Aleatoria', 0.8777]]"
      ]
     },
     "execution_count": 195,
     "metadata": {},
     "output_type": "execute_result"
    }
   ],
   "source": [
    "###### Funções Auxiliares\n",
    "nome_dados = ['dados_assadeira']\n",
    "X = dados_assadeira.loc [:, dados_assadeira.columns != 'INTERESTED'] \n",
    "Y = dados_assadeira.loc [:, dados_assadeira.columns == 'INTERESTED']\n",
    "n = dados_assadeira.shape[0]\n",
    "desempenho_assadeira= funcao_desempenho(X,Y)\n",
    "desempenho_assadeira"
   ]
  },
  {
   "cell_type": "markdown",
   "metadata": {},
   "source": [
    "#### 2.24 Modelo - Produto Tipo : \"Mini Caçarola\""
   ]
  },
  {
   "cell_type": "code",
   "execution_count": 196,
   "metadata": {},
   "outputs": [
    {
     "data": {
      "text/plain": [
       "[[['dados_mini_cacarola']],\n",
       " ['Modelo', 'Desempenho'],\n",
       " ['Regressao Logistica', 0.9867],\n",
       " ['LDA', 0.9589],\n",
       " ['KNN', 0.9934],\n",
       " ['Arvore de Decisão', 0.973],\n",
       " ['Naive Bayes', 0.9371],\n",
       " ['SVM - Gaussiano ', 0.9934],\n",
       " ['Floresta Aleatoria', 0.9799]]"
      ]
     },
     "execution_count": 196,
     "metadata": {},
     "output_type": "execute_result"
    }
   ],
   "source": [
    "###### Funções Auxiliares\n",
    "nome_dados = ['dados_mini_cacarola']\n",
    "X = dados_mini_cacarola.loc [:, dados_mini_cacarola.columns != 'INTERESTED'] \n",
    "Y = dados_mini_cacarola.loc [:, dados_mini_cacarola.columns == 'INTERESTED']\n",
    "n = dados_mini_cacarola.shape[0]\n",
    "desempenho_mini_cacarola= funcao_desempenho(X,Y)\n",
    "desempenho_mini_cacarola"
   ]
  },
  {
   "cell_type": "markdown",
   "metadata": {},
   "source": [
    "#### 2.25 Modelo - Produto Tipo : \"Cremeira\""
   ]
  },
  {
   "cell_type": "code",
   "execution_count": 197,
   "metadata": {},
   "outputs": [
    {
     "data": {
      "text/plain": [
       "[[['dados_cremeria']],\n",
       " ['Modelo', 'Desempenho'],\n",
       " ['Regressao Logistica', 0.9756],\n",
       " ['LDA', 0.9756],\n",
       " ['KNN', 0.9672],\n",
       " ['Arvore de Decisão', 0.9672],\n",
       " ['Naive Bayes', 0.9839],\n",
       " ['SVM - Gaussiano ', 0.9756],\n",
       " ['Floresta Aleatoria', 0.9756]]"
      ]
     },
     "execution_count": 197,
     "metadata": {},
     "output_type": "execute_result"
    }
   ],
   "source": [
    "###### Funções Auxiliares\n",
    "nome_dados = ['dados_cremeria']\n",
    "X = dados_cremeria.loc [:, dados_cremeria.columns != 'INTERESTED'] \n",
    "Y = dados_cremeria.loc [:, dados_cremeria.columns == 'INTERESTED']\n",
    "n = dados_cremeria.shape[0]\n",
    "desempenho_cremeria= funcao_desempenho(X,Y)\n",
    "desempenho_cremeria"
   ]
  },
  {
   "cell_type": "markdown",
   "metadata": {},
   "source": [
    "#### 2.26 Modelo - Produto Tipo : \"Sanduicheira\""
   ]
  },
  {
   "cell_type": "code",
   "execution_count": 198,
   "metadata": {},
   "outputs": [
    {
     "data": {
      "text/plain": [
       "[[['dados_sanduicheira']],\n",
       " ['Modelo', 'Desempenho'],\n",
       " ['Regressao Logistica', 0.9263],\n",
       " ['LDA', 0.9485],\n",
       " ['KNN', 0.9263],\n",
       " ['Arvore de Decisão', 0.9485],\n",
       " ['Naive Bayes', 0.9263],\n",
       " ['SVM - Gaussiano ', 0.9592],\n",
       " ['Floresta Aleatoria', 0.9485]]"
      ]
     },
     "execution_count": 198,
     "metadata": {},
     "output_type": "execute_result"
    }
   ],
   "source": [
    "###### Funções Auxiliares\n",
    "nome_dados = ['dados_sanduicheira']\n",
    "X = dados_sanduicheira.loc [:, dados_sanduicheira.columns != 'INTERESTED'] \n",
    "Y = dados_sanduicheira.loc [:, dados_sanduicheira.columns == 'INTERESTED']\n",
    "n = dados_sanduicheira.shape[0]\n",
    "desempenho_sanduicheira= funcao_desempenho(X,Y)\n",
    "desempenho_sanduicheira"
   ]
  },
  {
   "cell_type": "markdown",
   "metadata": {},
   "source": [
    "#### 2.27 Modelo - Produto Tipo : \"Tampa\""
   ]
  },
  {
   "cell_type": "code",
   "execution_count": 200,
   "metadata": {},
   "outputs": [
    {
     "data": {
      "text/plain": [
       "[[['dados_tampa']],\n",
       " ['Modelo', 'Desempenho'],\n",
       " ['Regressao Logistica', 0.9524],\n",
       " ['LDA', 0.9767],\n",
       " ['KNN', 0.9647],\n",
       " ['Arvore de Decisão', 0.9136],\n",
       " ['Naive Bayes', 0.8571],\n",
       " ['SVM - Gaussiano ', 0.9647],\n",
       " ['Floresta Aleatoria', 0.9885]]"
      ]
     },
     "execution_count": 200,
     "metadata": {},
     "output_type": "execute_result"
    }
   ],
   "source": [
    "###### Funções Auxiliares\n",
    "nome_dados = ['dados_tampa']\n",
    "X = dados_tampa.loc [:, dados_tampa.columns != 'INTERESTED'] \n",
    "Y = dados_tampa.loc [:, dados_tampa.columns == 'INTERESTED']\n",
    "n = dados_tampa.shape[0]\n",
    "desempenho_tampa= funcao_desempenho(X,Y)\n",
    "desempenho_tampa"
   ]
  },
  {
   "cell_type": "markdown",
   "metadata": {},
   "source": [
    "#### 2.28 Modelo - Produto Tipo : \"Founde\""
   ]
  },
  {
   "cell_type": "code",
   "execution_count": 201,
   "metadata": {},
   "outputs": [
    {
     "data": {
      "text/plain": [
       "[[['dados_founde']],\n",
       " ['Modelo', 'Desempenho'],\n",
       " ['Regressao Logistica', 0.898],\n",
       " ['LDA', 0.9412],\n",
       " ['KNN', 0.92],\n",
       " ['Arvore de Decisão', 0.92],\n",
       " ['Naive Bayes', 0.9412],\n",
       " ['SVM - Gaussiano ', 0.9615],\n",
       " ['Floresta Aleatoria', 0.9811]]"
      ]
     },
     "execution_count": 201,
     "metadata": {},
     "output_type": "execute_result"
    }
   ],
   "source": [
    "###### Funções Auxiliares\n",
    "nome_dados = ['dados_founde']\n",
    "X = dados_founde.loc [:, dados_founde.columns != 'INTERESTED'] \n",
    "Y = dados_founde.loc [:, dados_founde.columns == 'INTERESTED']\n",
    "n = dados_founde.shape[0]\n",
    "desempenho_founde= funcao_desempenho(X,Y)\n",
    "desempenho_founde"
   ]
  },
  {
   "cell_type": "markdown",
   "metadata": {},
   "source": [
    "#### 2.29 Modelo - Produto Tipo : \"Cumbuca\""
   ]
  },
  {
   "cell_type": "code",
   "execution_count": 202,
   "metadata": {},
   "outputs": [
    {
     "data": {
      "text/plain": [
       "[[['dados_cumbuca']],\n",
       " ['Modelo', 'Desempenho'],\n",
       " ['Regressao Logistica', 0.8649],\n",
       " ['LDA', 0.9],\n",
       " ['KNN', 0.8125],\n",
       " ['Arvore de Decisão', 0.9268],\n",
       " ['Naive Bayes', 0.9524],\n",
       " ['SVM - Gaussiano ', 0.8421],\n",
       " ['Floresta Aleatoria', 0.8421]]"
      ]
     },
     "execution_count": 202,
     "metadata": {},
     "output_type": "execute_result"
    }
   ],
   "source": [
    "###### Funções Auxiliares\n",
    "nome_dados = ['dados_cumbuca']\n",
    "X = dados_cumbuca.loc [:, dados_cumbuca.columns != 'INTERESTED'] \n",
    "Y = dados_cumbuca.loc [:, dados_cumbuca.columns == 'INTERESTED']\n",
    "n = dados_cumbuca.shape[0]\n",
    "desempenho_cumbuca= funcao_desempenho(X,Y)\n",
    "desempenho_cumbuca"
   ]
  },
  {
   "cell_type": "markdown",
   "metadata": {},
   "source": [
    "#### 2.30 Modelo - Produto Tipo : \"Prensador\""
   ]
  },
  {
   "cell_type": "code",
   "execution_count": 203,
   "metadata": {},
   "outputs": [
    {
     "data": {
      "text/plain": [
       "[[['dados_prensador']],\n",
       " ['Modelo', 'Desempenho'],\n",
       " ['Regressao Logistica', 0.8],\n",
       " ['LDA', 0.8571],\n",
       " ['KNN', 0.85],\n",
       " ['Arvore de Decisão', 0.8205],\n",
       " ['Naive Bayes', 0.878],\n",
       " ['SVM - Gaussiano ', 0.8571],\n",
       " ['Floresta Aleatoria', 0.9048]]"
      ]
     },
     "execution_count": 203,
     "metadata": {},
     "output_type": "execute_result"
    }
   ],
   "source": [
    "###### Funções Auxiliares\n",
    "nome_dados = ['dados_prensador']\n",
    "X = dados_prensador.loc [:, dados_prensador.columns != 'INTERESTED'] \n",
    "Y = dados_prensador.loc [:, dados_prensador.columns == 'INTERESTED']\n",
    "n = dados_prensador.shape[0]\n",
    "desempenho_prensador= funcao_desempenho(X,Y)\n",
    "desempenho_prensador"
   ]
  },
  {
   "cell_type": "markdown",
   "metadata": {},
   "source": [
    "#### RESUMO DOS RESULTADOS"
   ]
  },
  {
   "cell_type": "code",
   "execution_count": 250,
   "metadata": {},
   "outputs": [],
   "source": [
    " RESUMO= [[] for i in range(32)]"
   ]
  },
  {
   "cell_type": "code",
   "execution_count": 251,
   "metadata": {},
   "outputs": [],
   "source": [
    "RESUMO[0] = [\"RESUMO DOS RESULTADOS\"]\n",
    "RESUMO[1] = [\"PRODUTO\",\"MELHOR MODELO\", \"DESEMPENHO\"]"
   ]
  },
  {
   "cell_type": "code",
   "execution_count": 403,
   "metadata": {},
   "outputs": [
    {
     "data": {
      "text/plain": [
       "[['RESUMO DOS RESULTADOS'],\n",
       " ['PRODUTO', 'MELHOR MODELO', 'DESEMPENHO'],\n",
       " [[['dados_panela']], ['SVM - Gaussiano ', 0.9565]],\n",
       " [[['dados_pipoqueira']], ['Floresta Aleatoria', 0.9842]],\n",
       " [[['dados_chaleira']], ['KNN', 0.9341]],\n",
       " [[['dados_cacarola']], ['Regressao Logistica', 0.9458]],\n",
       " [[['dados_frigideira']], ['LDA', 0.9541]],\n",
       " [[['dados_espagueteira']], ['SVM - Gaussiano ', 0.966]],\n",
       " [[['dados_cuscuzeira']], ['Naive Bayes', 0.9641]],\n",
       " [[['dados_chapa']], ['SVM - Gaussiano ', 0.975]],\n",
       " [[['dados_wok']], ['LDA', 0.9689]],\n",
       " [[['dados_caldeirao']], ['Floresta Aleatoria', 0.9296]],\n",
       " [[['dados_fervedor']], ['LDA', 0.9291]],\n",
       " [[['dados_grill']], ['LDA', 0.9962]],\n",
       " [[['dados_paellera']], ['Floresta Aleatoria', 0.9683]],\n",
       " [[['dados_bifeteira']], ['KNN', 0.9794]],\n",
       " [[['dados_bule']], ['LDA', 0.9839]],\n",
       " [[['dados_panquequeira']], ['Floresta Aleatoria', 0.9697]],\n",
       " [[['dados_leiteira']], ['KNN', 0.9356]],\n",
       " [[['dados_forma']], ['Floresta Aleatoria', 0.9247]],\n",
       " [[['dados_paellera']], ['Arvore de Decisão', 0.9754]],\n",
       " [[['dados_paellera']], ['SVM - Gaussiano ', 0.9547]],\n",
       " [[['dados_paellera']], ['Floresta Aleatoria', 0.9541]],\n",
       " [[['dados_fogareiro']], ['Regressao Logistica', 0.9559]],\n",
       " [[['dados_assadeira']], ['Regressao Logistica', 0.9167]],\n",
       " [[['dados_mini_cacarola']], ['SVM - Gaussiano ', 0.9934]],\n",
       " [[['dados_cremeria']], ['Floresta Aleatoria', 0.9756]],\n",
       " [[['dados_sanduicheira']], ['SVM - Gaussiano ', 0.9592]],\n",
       " [[['dados_tampa']], ['Floresta Aleatoria', 0.9885]],\n",
       " [[['dados_founde']], ['Floresta Aleatoria', 0.9811]],\n",
       " [[['dados_cumbuca']], ['Naive Bayes', 0.9524]],\n",
       " [[['dados_prensador']], ['Floresta Aleatoria', 0.9048]],\n",
       " []]"
      ]
     },
     "execution_count": 403,
     "metadata": {},
     "output_type": "execute_result"
    }
   ],
   "source": [
    "RESUMO[2] =[desempenho_panela[0],desempenho_panela[7]]\n",
    "RESUMO[3] =[desempenho_pipoqueira[0],desempenho_pipoqueira[8]]\n",
    "RESUMO[4] =[desempenho_chaleira[0],desempenho_chaleira[4]]\n",
    "RESUMO[5] =[desempenho_cacarola[0],desempenho_cacarola[2]]\n",
    "RESUMO[6] =[desempenho_frigideira[0],desempenho_frigideira[3]]\n",
    "RESUMO[7] =[desempenho_espagueteira[0],desempenho_espagueteira[7]]\n",
    "RESUMO[8] =[desempenho_cuscuzeira[0],desempenho_cuscuzeira[6]]\n",
    "RESUMO[9] =[desempenho_chapa[0],desempenho_chapa[7]]\n",
    "RESUMO[10] =[desempenho_wok[0],desempenho_wok[3]]\n",
    "RESUMO[11] =[desempenho_caldeirao[0],desempenho_caldeirao[8]]\n",
    "RESUMO[12] =[desempenho_ferverdor[0],desempenho_ferverdor[3]]\n",
    "RESUMO[13] =[desempenho_grill[0],desempenho_grill[3]]\n",
    "RESUMO[14] =[desempenho_paellera[0],desempenho_paellera[8]]\n",
    "RESUMO[15] =[desempenho_bifeteira[0],desempenho_bifeteira[4]]\n",
    "RESUMO[16] =[desempenho_bule[0],desempenho_bule[3]]\n",
    "RESUMO[17] =[desempenho_panquequeira[0],desempenho_panquequeira[8]]\n",
    "RESUMO[18] =[desempenho_leiteira[0],desempenho_leiteira[4]]\n",
    "RESUMO[19] =[desempenho_forma[0],desempenho_forma[8]]\n",
    "RESUMO[20] =[desempenho_fritadeira[0],desempenho_fritadeira[5]]\n",
    "RESUMO[21] =[desempenho_omeleteira[0],desempenho_omeleteira[7]]\n",
    "RESUMO[22] =[desempenho_cozi_vapore[0],desempenho_cozi_vapore[8]]\n",
    "RESUMO[23] =[desempenho_fogareiro[0],desempenho_fogareiro[2]]\n",
    "RESUMO[24] =[desempenho_assadeira[0],desempenho_assadeira[2]]\n",
    "RESUMO[25] =[desempenho_mini_cacarola[0],desempenho_mini_cacarola[7]]\n",
    "RESUMO[26] =[desempenho_cremeria[0],desempenho_cremeria[8]]\n",
    "RESUMO[27] =[desempenho_sanduicheira[0],desempenho_sanduicheira[7]]\n",
    "RESUMO[28] =[desempenho_tampa[0],desempenho_tampa[8]]\n",
    "RESUMO[29] =[desempenho_founde[0],desempenho_founde[8]]\n",
    "RESUMO[30] =[desempenho_cumbuca[0],desempenho_cumbuca[6]]\n",
    "RESUMO[31] =[desempenho_prensador[0],desempenho_prensador[8]]\n",
    "RESUMO"
   ]
  },
  {
   "cell_type": "markdown",
   "metadata": {},
   "source": [
    "##### Tabela de Resumo do desempenho dos modelos selecionados:\n",
    "    \n",
    "Perceba que apesar do processo de data splitting ter ocorrido de maneira simplória, \n",
    "dado ao volume dos dados e pouco tempo disponível, ainda assim foi possível verificar a bondade dos ajustes."
   ]
  },
  {
   "cell_type": "markdown",
   "metadata": {},
   "source": [
    "### 3. IMPORTÂNCIA DAS VARIÁVEIS EXPLICATIVAS PARA CADA TIPO DE PRODUTO"
   ]
  },
  {
   "cell_type": "markdown",
   "metadata": {},
   "source": [
    "Para observar a importância das variáveis em cada banco, utilizei o Método Árvores Extra."
   ]
  },
  {
   "cell_type": "markdown",
   "metadata": {},
   "source": [
    "#### Função de Verificação de Importância"
   ]
  },
  {
   "cell_type": "code",
   "execution_count": 372,
   "metadata": {},
   "outputs": [],
   "source": [
    " def funcao_variaveis_importantes(DADOS):\n",
    "        X = DADOS.loc [:, DADOS.columns != 'INTERESTED'] \n",
    "        Y = DADOS.loc [:, DADOS.columns == 'INTERESTED']\n",
    "        warnings.filterwarnings(\"ignore\")\n",
    "        model = ExtraTreesClassifier()\n",
    "        model.fit(X,Y)\n",
    "        ind = X.shape[1]\n",
    "        variaveis = X.columns[0:ind]\n",
    "        importancia = pd.DataFrame(variaveis)\n",
    "        features = pd.DataFrame(model.feature_importances_)\n",
    "        importancia['Importancia']= features\n",
    "        importancia = importancia.rename(columns = {0:\"Variáveis\",\"Importancia\":\"Importancia\"})\n",
    "        return importancia.sort_values(['Importancia'], ascending=False)"
   ]
  },
  {
   "cell_type": "markdown",
   "metadata": {},
   "source": [
    "#### 3.1 Produto Tipo \"Panela\""
   ]
  },
  {
   "cell_type": "code",
   "execution_count": 373,
   "metadata": {
    "scrolled": true
   },
   "outputs": [
    {
     "data": {
      "text/html": [
       "<div>\n",
       "<style scoped>\n",
       "    .dataframe tbody tr th:only-of-type {\n",
       "        vertical-align: middle;\n",
       "    }\n",
       "\n",
       "    .dataframe tbody tr th {\n",
       "        vertical-align: top;\n",
       "    }\n",
       "\n",
       "    .dataframe thead th {\n",
       "        text-align: right;\n",
       "    }\n",
       "</style>\n",
       "<table border=\"1\" class=\"dataframe\">\n",
       "  <thead>\n",
       "    <tr style=\"text-align: right;\">\n",
       "      <th></th>\n",
       "      <th>Variáveis</th>\n",
       "      <th>Importancia</th>\n",
       "    </tr>\n",
       "  </thead>\n",
       "  <tbody>\n",
       "    <tr>\n",
       "      <th>10</th>\n",
       "      <td>ITEM_PRICE</td>\n",
       "      <td>0.969611</td>\n",
       "    </tr>\n",
       "    <tr>\n",
       "      <th>2</th>\n",
       "      <td>COR</td>\n",
       "      <td>0.007912</td>\n",
       "    </tr>\n",
       "    <tr>\n",
       "      <th>0</th>\n",
       "      <td>ALTURA</td>\n",
       "      <td>0.007090</td>\n",
       "    </tr>\n",
       "    <tr>\n",
       "      <th>6</th>\n",
       "      <td>PROFUNDIDADE</td>\n",
       "      <td>0.003462</td>\n",
       "    </tr>\n",
       "    <tr>\n",
       "      <th>3</th>\n",
       "      <td>LARGURA</td>\n",
       "      <td>0.003417</td>\n",
       "    </tr>\n",
       "    <tr>\n",
       "      <th>7</th>\n",
       "      <td>TEMPO_GARANTIA</td>\n",
       "      <td>0.003200</td>\n",
       "    </tr>\n",
       "    <tr>\n",
       "      <th>9</th>\n",
       "      <td>TEM_GRELHA</td>\n",
       "      <td>0.001475</td>\n",
       "    </tr>\n",
       "    <tr>\n",
       "      <th>4</th>\n",
       "      <td>MARCA</td>\n",
       "      <td>0.001468</td>\n",
       "    </tr>\n",
       "    <tr>\n",
       "      <th>8</th>\n",
       "      <td>TEM_FERRO_FUNDIDO</td>\n",
       "      <td>0.001131</td>\n",
       "    </tr>\n",
       "    <tr>\n",
       "      <th>1</th>\n",
       "      <td>COMPOSICAO</td>\n",
       "      <td>0.001104</td>\n",
       "    </tr>\n",
       "    <tr>\n",
       "      <th>5</th>\n",
       "      <td>PARA_LAVA_LOUCAS</td>\n",
       "      <td>0.000130</td>\n",
       "    </tr>\n",
       "  </tbody>\n",
       "</table>\n",
       "</div>"
      ],
      "text/plain": [
       "            Variáveis  Importancia\n",
       "10         ITEM_PRICE     0.969611\n",
       "2                 COR     0.007912\n",
       "0              ALTURA     0.007090\n",
       "6        PROFUNDIDADE     0.003462\n",
       "3             LARGURA     0.003417\n",
       "7      TEMPO_GARANTIA     0.003200\n",
       "9          TEM_GRELHA     0.001475\n",
       "4               MARCA     0.001468\n",
       "8   TEM_FERRO_FUNDIDO     0.001131\n",
       "1          COMPOSICAO     0.001104\n",
       "5    PARA_LAVA_LOUCAS     0.000130"
      ]
     },
     "execution_count": 373,
     "metadata": {},
     "output_type": "execute_result"
    }
   ],
   "source": [
    "funcao_variaveis_importantes(dados_panela)"
   ]
  },
  {
   "cell_type": "markdown",
   "metadata": {},
   "source": [
    "#### 3.2 Produto Tipo \"Pipoqueira\""
   ]
  },
  {
   "cell_type": "code",
   "execution_count": 374,
   "metadata": {},
   "outputs": [
    {
     "data": {
      "text/html": [
       "<div>\n",
       "<style scoped>\n",
       "    .dataframe tbody tr th:only-of-type {\n",
       "        vertical-align: middle;\n",
       "    }\n",
       "\n",
       "    .dataframe tbody tr th {\n",
       "        vertical-align: top;\n",
       "    }\n",
       "\n",
       "    .dataframe thead th {\n",
       "        text-align: right;\n",
       "    }\n",
       "</style>\n",
       "<table border=\"1\" class=\"dataframe\">\n",
       "  <thead>\n",
       "    <tr style=\"text-align: right;\">\n",
       "      <th></th>\n",
       "      <th>Variáveis</th>\n",
       "      <th>Importancia</th>\n",
       "    </tr>\n",
       "  </thead>\n",
       "  <tbody>\n",
       "    <tr>\n",
       "      <th>11</th>\n",
       "      <td>ITEM_PRICE</td>\n",
       "      <td>0.998561</td>\n",
       "    </tr>\n",
       "    <tr>\n",
       "      <th>2</th>\n",
       "      <td>COR</td>\n",
       "      <td>0.001071</td>\n",
       "    </tr>\n",
       "    <tr>\n",
       "      <th>7</th>\n",
       "      <td>PROFUNDIDADE</td>\n",
       "      <td>0.000178</td>\n",
       "    </tr>\n",
       "    <tr>\n",
       "      <th>5</th>\n",
       "      <td>PARA_LAVA_LOUCAS</td>\n",
       "      <td>0.000140</td>\n",
       "    </tr>\n",
       "    <tr>\n",
       "      <th>6</th>\n",
       "      <td>PESO</td>\n",
       "      <td>0.000025</td>\n",
       "    </tr>\n",
       "    <tr>\n",
       "      <th>3</th>\n",
       "      <td>LARGURA</td>\n",
       "      <td>0.000025</td>\n",
       "    </tr>\n",
       "    <tr>\n",
       "      <th>0</th>\n",
       "      <td>ALTURA</td>\n",
       "      <td>0.000000</td>\n",
       "    </tr>\n",
       "    <tr>\n",
       "      <th>1</th>\n",
       "      <td>COMPOSICAO</td>\n",
       "      <td>0.000000</td>\n",
       "    </tr>\n",
       "    <tr>\n",
       "      <th>4</th>\n",
       "      <td>MARCA</td>\n",
       "      <td>0.000000</td>\n",
       "    </tr>\n",
       "    <tr>\n",
       "      <th>8</th>\n",
       "      <td>TEM_FERRO_FUNDIDO</td>\n",
       "      <td>0.000000</td>\n",
       "    </tr>\n",
       "    <tr>\n",
       "      <th>9</th>\n",
       "      <td>TEM_GRELHA</td>\n",
       "      <td>0.000000</td>\n",
       "    </tr>\n",
       "    <tr>\n",
       "      <th>10</th>\n",
       "      <td>TEM_TAMPA</td>\n",
       "      <td>0.000000</td>\n",
       "    </tr>\n",
       "  </tbody>\n",
       "</table>\n",
       "</div>"
      ],
      "text/plain": [
       "            Variáveis  Importancia\n",
       "11         ITEM_PRICE     0.998561\n",
       "2                 COR     0.001071\n",
       "7        PROFUNDIDADE     0.000178\n",
       "5    PARA_LAVA_LOUCAS     0.000140\n",
       "6                PESO     0.000025\n",
       "3             LARGURA     0.000025\n",
       "0              ALTURA     0.000000\n",
       "1          COMPOSICAO     0.000000\n",
       "4               MARCA     0.000000\n",
       "8   TEM_FERRO_FUNDIDO     0.000000\n",
       "9          TEM_GRELHA     0.000000\n",
       "10          TEM_TAMPA     0.000000"
      ]
     },
     "execution_count": 374,
     "metadata": {},
     "output_type": "execute_result"
    }
   ],
   "source": [
    "funcao_variaveis_importantes(dados_pipoqueira)"
   ]
  },
  {
   "cell_type": "markdown",
   "metadata": {},
   "source": [
    "#### 3.3 Produto Tipo \"Chaleira\""
   ]
  },
  {
   "cell_type": "code",
   "execution_count": 375,
   "metadata": {},
   "outputs": [
    {
     "data": {
      "text/html": [
       "<div>\n",
       "<style scoped>\n",
       "    .dataframe tbody tr th:only-of-type {\n",
       "        vertical-align: middle;\n",
       "    }\n",
       "\n",
       "    .dataframe tbody tr th {\n",
       "        vertical-align: top;\n",
       "    }\n",
       "\n",
       "    .dataframe thead th {\n",
       "        text-align: right;\n",
       "    }\n",
       "</style>\n",
       "<table border=\"1\" class=\"dataframe\">\n",
       "  <thead>\n",
       "    <tr style=\"text-align: right;\">\n",
       "      <th></th>\n",
       "      <th>Variáveis</th>\n",
       "      <th>Importancia</th>\n",
       "    </tr>\n",
       "  </thead>\n",
       "  <tbody>\n",
       "    <tr>\n",
       "      <th>11</th>\n",
       "      <td>ITEM_PRICE</td>\n",
       "      <td>0.959686</td>\n",
       "    </tr>\n",
       "    <tr>\n",
       "      <th>3</th>\n",
       "      <td>LARGURA</td>\n",
       "      <td>0.009666</td>\n",
       "    </tr>\n",
       "    <tr>\n",
       "      <th>2</th>\n",
       "      <td>COR</td>\n",
       "      <td>0.007054</td>\n",
       "    </tr>\n",
       "    <tr>\n",
       "      <th>6</th>\n",
       "      <td>PROFUNDIDADE</td>\n",
       "      <td>0.006255</td>\n",
       "    </tr>\n",
       "    <tr>\n",
       "      <th>10</th>\n",
       "      <td>TEM_TAMPA</td>\n",
       "      <td>0.005936</td>\n",
       "    </tr>\n",
       "    <tr>\n",
       "      <th>0</th>\n",
       "      <td>ALTURA</td>\n",
       "      <td>0.004588</td>\n",
       "    </tr>\n",
       "    <tr>\n",
       "      <th>4</th>\n",
       "      <td>MARCA</td>\n",
       "      <td>0.003126</td>\n",
       "    </tr>\n",
       "    <tr>\n",
       "      <th>7</th>\n",
       "      <td>TEMPO_GARANTIA</td>\n",
       "      <td>0.003046</td>\n",
       "    </tr>\n",
       "    <tr>\n",
       "      <th>5</th>\n",
       "      <td>PARA_LAVA_LOUCAS</td>\n",
       "      <td>0.000389</td>\n",
       "    </tr>\n",
       "    <tr>\n",
       "      <th>1</th>\n",
       "      <td>COMPOSICAO</td>\n",
       "      <td>0.000253</td>\n",
       "    </tr>\n",
       "    <tr>\n",
       "      <th>8</th>\n",
       "      <td>TEM_FERRO_FUNDIDO</td>\n",
       "      <td>0.000000</td>\n",
       "    </tr>\n",
       "    <tr>\n",
       "      <th>9</th>\n",
       "      <td>TEM_GRELHA</td>\n",
       "      <td>0.000000</td>\n",
       "    </tr>\n",
       "  </tbody>\n",
       "</table>\n",
       "</div>"
      ],
      "text/plain": [
       "            Variáveis  Importancia\n",
       "11         ITEM_PRICE     0.959686\n",
       "3             LARGURA     0.009666\n",
       "2                 COR     0.007054\n",
       "6        PROFUNDIDADE     0.006255\n",
       "10          TEM_TAMPA     0.005936\n",
       "0              ALTURA     0.004588\n",
       "4               MARCA     0.003126\n",
       "7      TEMPO_GARANTIA     0.003046\n",
       "5    PARA_LAVA_LOUCAS     0.000389\n",
       "1          COMPOSICAO     0.000253\n",
       "8   TEM_FERRO_FUNDIDO     0.000000\n",
       "9          TEM_GRELHA     0.000000"
      ]
     },
     "execution_count": 375,
     "metadata": {},
     "output_type": "execute_result"
    }
   ],
   "source": [
    "funcao_variaveis_importantes(dados_chaleira)"
   ]
  },
  {
   "cell_type": "markdown",
   "metadata": {},
   "source": [
    "#### 3.4 Produto Tipo \"Caçarola\""
   ]
  },
  {
   "cell_type": "code",
   "execution_count": 376,
   "metadata": {},
   "outputs": [
    {
     "data": {
      "text/html": [
       "<div>\n",
       "<style scoped>\n",
       "    .dataframe tbody tr th:only-of-type {\n",
       "        vertical-align: middle;\n",
       "    }\n",
       "\n",
       "    .dataframe tbody tr th {\n",
       "        vertical-align: top;\n",
       "    }\n",
       "\n",
       "    .dataframe thead th {\n",
       "        text-align: right;\n",
       "    }\n",
       "</style>\n",
       "<table border=\"1\" class=\"dataframe\">\n",
       "  <thead>\n",
       "    <tr style=\"text-align: right;\">\n",
       "      <th></th>\n",
       "      <th>Variáveis</th>\n",
       "      <th>Importancia</th>\n",
       "    </tr>\n",
       "  </thead>\n",
       "  <tbody>\n",
       "    <tr>\n",
       "      <th>6</th>\n",
       "      <td>ITEM_PRICE</td>\n",
       "      <td>0.901401</td>\n",
       "    </tr>\n",
       "    <tr>\n",
       "      <th>1</th>\n",
       "      <td>MARCA</td>\n",
       "      <td>0.025573</td>\n",
       "    </tr>\n",
       "    <tr>\n",
       "      <th>3</th>\n",
       "      <td>TEM_FERRO_FUNDIDO</td>\n",
       "      <td>0.024622</td>\n",
       "    </tr>\n",
       "    <tr>\n",
       "      <th>2</th>\n",
       "      <td>PARA_LAVA_LOUCAS</td>\n",
       "      <td>0.020994</td>\n",
       "    </tr>\n",
       "    <tr>\n",
       "      <th>0</th>\n",
       "      <td>COR</td>\n",
       "      <td>0.017321</td>\n",
       "    </tr>\n",
       "    <tr>\n",
       "      <th>5</th>\n",
       "      <td>TEM_TAMPA</td>\n",
       "      <td>0.010089</td>\n",
       "    </tr>\n",
       "    <tr>\n",
       "      <th>4</th>\n",
       "      <td>TEM_GRELHA</td>\n",
       "      <td>0.000000</td>\n",
       "    </tr>\n",
       "  </tbody>\n",
       "</table>\n",
       "</div>"
      ],
      "text/plain": [
       "           Variáveis  Importancia\n",
       "6         ITEM_PRICE     0.901401\n",
       "1              MARCA     0.025573\n",
       "3  TEM_FERRO_FUNDIDO     0.024622\n",
       "2   PARA_LAVA_LOUCAS     0.020994\n",
       "0                COR     0.017321\n",
       "5          TEM_TAMPA     0.010089\n",
       "4         TEM_GRELHA     0.000000"
      ]
     },
     "execution_count": 376,
     "metadata": {},
     "output_type": "execute_result"
    }
   ],
   "source": [
    "funcao_variaveis_importantes(dados_cacarola)"
   ]
  },
  {
   "cell_type": "markdown",
   "metadata": {},
   "source": [
    "#### 3.5 Produto Tipo \"Frigideira\""
   ]
  },
  {
   "cell_type": "code",
   "execution_count": 377,
   "metadata": {},
   "outputs": [
    {
     "data": {
      "text/html": [
       "<div>\n",
       "<style scoped>\n",
       "    .dataframe tbody tr th:only-of-type {\n",
       "        vertical-align: middle;\n",
       "    }\n",
       "\n",
       "    .dataframe tbody tr th {\n",
       "        vertical-align: top;\n",
       "    }\n",
       "\n",
       "    .dataframe thead th {\n",
       "        text-align: right;\n",
       "    }\n",
       "</style>\n",
       "<table border=\"1\" class=\"dataframe\">\n",
       "  <thead>\n",
       "    <tr style=\"text-align: right;\">\n",
       "      <th></th>\n",
       "      <th>Variáveis</th>\n",
       "      <th>Importancia</th>\n",
       "    </tr>\n",
       "  </thead>\n",
       "  <tbody>\n",
       "    <tr>\n",
       "      <th>9</th>\n",
       "      <td>ITEM_PRICE</td>\n",
       "      <td>0.829203</td>\n",
       "    </tr>\n",
       "    <tr>\n",
       "      <th>5</th>\n",
       "      <td>PROFUNDIDADE</td>\n",
       "      <td>0.046498</td>\n",
       "    </tr>\n",
       "    <tr>\n",
       "      <th>2</th>\n",
       "      <td>LARGURA</td>\n",
       "      <td>0.037667</td>\n",
       "    </tr>\n",
       "    <tr>\n",
       "      <th>0</th>\n",
       "      <td>ALTURA</td>\n",
       "      <td>0.035015</td>\n",
       "    </tr>\n",
       "    <tr>\n",
       "      <th>3</th>\n",
       "      <td>MARCA</td>\n",
       "      <td>0.019353</td>\n",
       "    </tr>\n",
       "    <tr>\n",
       "      <th>8</th>\n",
       "      <td>TEM_TAMPA</td>\n",
       "      <td>0.013976</td>\n",
       "    </tr>\n",
       "    <tr>\n",
       "      <th>1</th>\n",
       "      <td>COMPOSICAO</td>\n",
       "      <td>0.009668</td>\n",
       "    </tr>\n",
       "    <tr>\n",
       "      <th>4</th>\n",
       "      <td>PARA_LAVA_LOUCAS</td>\n",
       "      <td>0.004528</td>\n",
       "    </tr>\n",
       "    <tr>\n",
       "      <th>6</th>\n",
       "      <td>TEM_FERRO_FUNDIDO</td>\n",
       "      <td>0.004090</td>\n",
       "    </tr>\n",
       "    <tr>\n",
       "      <th>7</th>\n",
       "      <td>TEM_GRELHA</td>\n",
       "      <td>0.000000</td>\n",
       "    </tr>\n",
       "  </tbody>\n",
       "</table>\n",
       "</div>"
      ],
      "text/plain": [
       "           Variáveis  Importancia\n",
       "9         ITEM_PRICE     0.829203\n",
       "5       PROFUNDIDADE     0.046498\n",
       "2            LARGURA     0.037667\n",
       "0             ALTURA     0.035015\n",
       "3              MARCA     0.019353\n",
       "8          TEM_TAMPA     0.013976\n",
       "1         COMPOSICAO     0.009668\n",
       "4   PARA_LAVA_LOUCAS     0.004528\n",
       "6  TEM_FERRO_FUNDIDO     0.004090\n",
       "7         TEM_GRELHA     0.000000"
      ]
     },
     "execution_count": 377,
     "metadata": {},
     "output_type": "execute_result"
    }
   ],
   "source": [
    "funcao_variaveis_importantes(dados_frigideira)"
   ]
  },
  {
   "cell_type": "markdown",
   "metadata": {},
   "source": [
    "#### 3.6 Produto Tipo \"Espagueteira\""
   ]
  },
  {
   "cell_type": "code",
   "execution_count": 378,
   "metadata": {},
   "outputs": [
    {
     "data": {
      "text/html": [
       "<div>\n",
       "<style scoped>\n",
       "    .dataframe tbody tr th:only-of-type {\n",
       "        vertical-align: middle;\n",
       "    }\n",
       "\n",
       "    .dataframe tbody tr th {\n",
       "        vertical-align: top;\n",
       "    }\n",
       "\n",
       "    .dataframe thead th {\n",
       "        text-align: right;\n",
       "    }\n",
       "</style>\n",
       "<table border=\"1\" class=\"dataframe\">\n",
       "  <thead>\n",
       "    <tr style=\"text-align: right;\">\n",
       "      <th></th>\n",
       "      <th>Variáveis</th>\n",
       "      <th>Importancia</th>\n",
       "    </tr>\n",
       "  </thead>\n",
       "  <tbody>\n",
       "    <tr>\n",
       "      <th>11</th>\n",
       "      <td>ITEM_PRICE</td>\n",
       "      <td>0.993405</td>\n",
       "    </tr>\n",
       "    <tr>\n",
       "      <th>3</th>\n",
       "      <td>LARGURA</td>\n",
       "      <td>0.001310</td>\n",
       "    </tr>\n",
       "    <tr>\n",
       "      <th>6</th>\n",
       "      <td>PROFUNDIDADE</td>\n",
       "      <td>0.001230</td>\n",
       "    </tr>\n",
       "    <tr>\n",
       "      <th>4</th>\n",
       "      <td>MARCA</td>\n",
       "      <td>0.001116</td>\n",
       "    </tr>\n",
       "    <tr>\n",
       "      <th>5</th>\n",
       "      <td>PARA_LAVA_LOUCAS</td>\n",
       "      <td>0.000704</td>\n",
       "    </tr>\n",
       "    <tr>\n",
       "      <th>10</th>\n",
       "      <td>TEM_TAMPA</td>\n",
       "      <td>0.000702</td>\n",
       "    </tr>\n",
       "    <tr>\n",
       "      <th>0</th>\n",
       "      <td>ALTURA</td>\n",
       "      <td>0.000559</td>\n",
       "    </tr>\n",
       "    <tr>\n",
       "      <th>2</th>\n",
       "      <td>COR</td>\n",
       "      <td>0.000481</td>\n",
       "    </tr>\n",
       "    <tr>\n",
       "      <th>7</th>\n",
       "      <td>TEMPO_GARANTIA</td>\n",
       "      <td>0.000392</td>\n",
       "    </tr>\n",
       "    <tr>\n",
       "      <th>1</th>\n",
       "      <td>COMPOSICAO</td>\n",
       "      <td>0.000101</td>\n",
       "    </tr>\n",
       "    <tr>\n",
       "      <th>8</th>\n",
       "      <td>TEM_FERRO_FUNDIDO</td>\n",
       "      <td>0.000000</td>\n",
       "    </tr>\n",
       "    <tr>\n",
       "      <th>9</th>\n",
       "      <td>TEM_GRELHA</td>\n",
       "      <td>0.000000</td>\n",
       "    </tr>\n",
       "  </tbody>\n",
       "</table>\n",
       "</div>"
      ],
      "text/plain": [
       "            Variáveis  Importancia\n",
       "11         ITEM_PRICE     0.993405\n",
       "3             LARGURA     0.001310\n",
       "6        PROFUNDIDADE     0.001230\n",
       "4               MARCA     0.001116\n",
       "5    PARA_LAVA_LOUCAS     0.000704\n",
       "10          TEM_TAMPA     0.000702\n",
       "0              ALTURA     0.000559\n",
       "2                 COR     0.000481\n",
       "7      TEMPO_GARANTIA     0.000392\n",
       "1          COMPOSICAO     0.000101\n",
       "8   TEM_FERRO_FUNDIDO     0.000000\n",
       "9          TEM_GRELHA     0.000000"
      ]
     },
     "execution_count": 378,
     "metadata": {},
     "output_type": "execute_result"
    }
   ],
   "source": [
    "funcao_variaveis_importantes(dados_espagueteira)"
   ]
  },
  {
   "cell_type": "markdown",
   "metadata": {},
   "source": [
    "#### 3.7 Produto Tipo \"Cuscuzeira\""
   ]
  },
  {
   "cell_type": "code",
   "execution_count": 379,
   "metadata": {},
   "outputs": [
    {
     "data": {
      "text/html": [
       "<div>\n",
       "<style scoped>\n",
       "    .dataframe tbody tr th:only-of-type {\n",
       "        vertical-align: middle;\n",
       "    }\n",
       "\n",
       "    .dataframe tbody tr th {\n",
       "        vertical-align: top;\n",
       "    }\n",
       "\n",
       "    .dataframe thead th {\n",
       "        text-align: right;\n",
       "    }\n",
       "</style>\n",
       "<table border=\"1\" class=\"dataframe\">\n",
       "  <thead>\n",
       "    <tr style=\"text-align: right;\">\n",
       "      <th></th>\n",
       "      <th>Variáveis</th>\n",
       "      <th>Importancia</th>\n",
       "    </tr>\n",
       "  </thead>\n",
       "  <tbody>\n",
       "    <tr>\n",
       "      <th>10</th>\n",
       "      <td>ITEM_PRICE</td>\n",
       "      <td>0.934811</td>\n",
       "    </tr>\n",
       "    <tr>\n",
       "      <th>4</th>\n",
       "      <td>MARCA</td>\n",
       "      <td>0.021993</td>\n",
       "    </tr>\n",
       "    <tr>\n",
       "      <th>0</th>\n",
       "      <td>ALTURA</td>\n",
       "      <td>0.020720</td>\n",
       "    </tr>\n",
       "    <tr>\n",
       "      <th>3</th>\n",
       "      <td>LARGURA</td>\n",
       "      <td>0.018830</td>\n",
       "    </tr>\n",
       "    <tr>\n",
       "      <th>6</th>\n",
       "      <td>PROFUNDIDADE</td>\n",
       "      <td>0.003458</td>\n",
       "    </tr>\n",
       "    <tr>\n",
       "      <th>2</th>\n",
       "      <td>COR</td>\n",
       "      <td>0.000139</td>\n",
       "    </tr>\n",
       "    <tr>\n",
       "      <th>1</th>\n",
       "      <td>COMPOSICAO</td>\n",
       "      <td>0.000049</td>\n",
       "    </tr>\n",
       "    <tr>\n",
       "      <th>5</th>\n",
       "      <td>PARA_LAVA_LOUCAS</td>\n",
       "      <td>0.000000</td>\n",
       "    </tr>\n",
       "    <tr>\n",
       "      <th>7</th>\n",
       "      <td>TEM_FERRO_FUNDIDO</td>\n",
       "      <td>0.000000</td>\n",
       "    </tr>\n",
       "    <tr>\n",
       "      <th>8</th>\n",
       "      <td>TEM_GRELHA</td>\n",
       "      <td>0.000000</td>\n",
       "    </tr>\n",
       "    <tr>\n",
       "      <th>9</th>\n",
       "      <td>TEM_TAMPA</td>\n",
       "      <td>0.000000</td>\n",
       "    </tr>\n",
       "  </tbody>\n",
       "</table>\n",
       "</div>"
      ],
      "text/plain": [
       "            Variáveis  Importancia\n",
       "10         ITEM_PRICE     0.934811\n",
       "4               MARCA     0.021993\n",
       "0              ALTURA     0.020720\n",
       "3             LARGURA     0.018830\n",
       "6        PROFUNDIDADE     0.003458\n",
       "2                 COR     0.000139\n",
       "1          COMPOSICAO     0.000049\n",
       "5    PARA_LAVA_LOUCAS     0.000000\n",
       "7   TEM_FERRO_FUNDIDO     0.000000\n",
       "8          TEM_GRELHA     0.000000\n",
       "9           TEM_TAMPA     0.000000"
      ]
     },
     "execution_count": 379,
     "metadata": {},
     "output_type": "execute_result"
    }
   ],
   "source": [
    "funcao_variaveis_importantes(dados_cuscuzeira)"
   ]
  },
  {
   "cell_type": "markdown",
   "metadata": {},
   "source": [
    "#### 3.8 Produto Tipo \"Chapa\""
   ]
  },
  {
   "cell_type": "code",
   "execution_count": 380,
   "metadata": {},
   "outputs": [
    {
     "data": {
      "text/html": [
       "<div>\n",
       "<style scoped>\n",
       "    .dataframe tbody tr th:only-of-type {\n",
       "        vertical-align: middle;\n",
       "    }\n",
       "\n",
       "    .dataframe tbody tr th {\n",
       "        vertical-align: top;\n",
       "    }\n",
       "\n",
       "    .dataframe thead th {\n",
       "        text-align: right;\n",
       "    }\n",
       "</style>\n",
       "<table border=\"1\" class=\"dataframe\">\n",
       "  <thead>\n",
       "    <tr style=\"text-align: right;\">\n",
       "      <th></th>\n",
       "      <th>Variáveis</th>\n",
       "      <th>Importancia</th>\n",
       "    </tr>\n",
       "  </thead>\n",
       "  <tbody>\n",
       "    <tr>\n",
       "      <th>8</th>\n",
       "      <td>ITEM_PRICE</td>\n",
       "      <td>0.684998</td>\n",
       "    </tr>\n",
       "    <tr>\n",
       "      <th>0</th>\n",
       "      <td>ALTURA</td>\n",
       "      <td>0.091578</td>\n",
       "    </tr>\n",
       "    <tr>\n",
       "      <th>2</th>\n",
       "      <td>LARGURA</td>\n",
       "      <td>0.089989</td>\n",
       "    </tr>\n",
       "    <tr>\n",
       "      <th>5</th>\n",
       "      <td>PROFUNDIDADE</td>\n",
       "      <td>0.087172</td>\n",
       "    </tr>\n",
       "    <tr>\n",
       "      <th>3</th>\n",
       "      <td>MARCA</td>\n",
       "      <td>0.032334</td>\n",
       "    </tr>\n",
       "    <tr>\n",
       "      <th>1</th>\n",
       "      <td>COR</td>\n",
       "      <td>0.013929</td>\n",
       "    </tr>\n",
       "    <tr>\n",
       "      <th>4</th>\n",
       "      <td>PARA_LAVA_LOUCAS</td>\n",
       "      <td>0.000000</td>\n",
       "    </tr>\n",
       "    <tr>\n",
       "      <th>6</th>\n",
       "      <td>TEM_FERRO_FUNDIDO</td>\n",
       "      <td>0.000000</td>\n",
       "    </tr>\n",
       "    <tr>\n",
       "      <th>7</th>\n",
       "      <td>TEM_GRELHA</td>\n",
       "      <td>0.000000</td>\n",
       "    </tr>\n",
       "  </tbody>\n",
       "</table>\n",
       "</div>"
      ],
      "text/plain": [
       "           Variáveis  Importancia\n",
       "8         ITEM_PRICE     0.684998\n",
       "0             ALTURA     0.091578\n",
       "2            LARGURA     0.089989\n",
       "5       PROFUNDIDADE     0.087172\n",
       "3              MARCA     0.032334\n",
       "1                COR     0.013929\n",
       "4   PARA_LAVA_LOUCAS     0.000000\n",
       "6  TEM_FERRO_FUNDIDO     0.000000\n",
       "7         TEM_GRELHA     0.000000"
      ]
     },
     "execution_count": 380,
     "metadata": {},
     "output_type": "execute_result"
    }
   ],
   "source": [
    "funcao_variaveis_importantes(dados_chapa)"
   ]
  },
  {
   "cell_type": "markdown",
   "metadata": {},
   "source": [
    "#### 3.9 Produto Tipo \"Wok\""
   ]
  },
  {
   "cell_type": "code",
   "execution_count": 381,
   "metadata": {},
   "outputs": [
    {
     "data": {
      "text/html": [
       "<div>\n",
       "<style scoped>\n",
       "    .dataframe tbody tr th:only-of-type {\n",
       "        vertical-align: middle;\n",
       "    }\n",
       "\n",
       "    .dataframe tbody tr th {\n",
       "        vertical-align: top;\n",
       "    }\n",
       "\n",
       "    .dataframe thead th {\n",
       "        text-align: right;\n",
       "    }\n",
       "</style>\n",
       "<table border=\"1\" class=\"dataframe\">\n",
       "  <thead>\n",
       "    <tr style=\"text-align: right;\">\n",
       "      <th></th>\n",
       "      <th>Variáveis</th>\n",
       "      <th>Importancia</th>\n",
       "    </tr>\n",
       "  </thead>\n",
       "  <tbody>\n",
       "    <tr>\n",
       "      <th>10</th>\n",
       "      <td>ITEM_PRICE</td>\n",
       "      <td>0.830271</td>\n",
       "    </tr>\n",
       "    <tr>\n",
       "      <th>2</th>\n",
       "      <td>COR</td>\n",
       "      <td>0.051105</td>\n",
       "    </tr>\n",
       "    <tr>\n",
       "      <th>6</th>\n",
       "      <td>PROFUNDIDADE</td>\n",
       "      <td>0.039718</td>\n",
       "    </tr>\n",
       "    <tr>\n",
       "      <th>0</th>\n",
       "      <td>ALTURA</td>\n",
       "      <td>0.030541</td>\n",
       "    </tr>\n",
       "    <tr>\n",
       "      <th>3</th>\n",
       "      <td>LARGURA</td>\n",
       "      <td>0.029038</td>\n",
       "    </tr>\n",
       "    <tr>\n",
       "      <th>9</th>\n",
       "      <td>TEM_TAMPA</td>\n",
       "      <td>0.009656</td>\n",
       "    </tr>\n",
       "    <tr>\n",
       "      <th>5</th>\n",
       "      <td>PARA_LAVA_LOUCAS</td>\n",
       "      <td>0.005301</td>\n",
       "    </tr>\n",
       "    <tr>\n",
       "      <th>1</th>\n",
       "      <td>COMPOSICAO</td>\n",
       "      <td>0.002038</td>\n",
       "    </tr>\n",
       "    <tr>\n",
       "      <th>4</th>\n",
       "      <td>MARCA</td>\n",
       "      <td>0.001266</td>\n",
       "    </tr>\n",
       "    <tr>\n",
       "      <th>7</th>\n",
       "      <td>TEM_FERRO_FUNDIDO</td>\n",
       "      <td>0.001065</td>\n",
       "    </tr>\n",
       "    <tr>\n",
       "      <th>8</th>\n",
       "      <td>TEM_GRELHA</td>\n",
       "      <td>0.000000</td>\n",
       "    </tr>\n",
       "  </tbody>\n",
       "</table>\n",
       "</div>"
      ],
      "text/plain": [
       "            Variáveis  Importancia\n",
       "10         ITEM_PRICE     0.830271\n",
       "2                 COR     0.051105\n",
       "6        PROFUNDIDADE     0.039718\n",
       "0              ALTURA     0.030541\n",
       "3             LARGURA     0.029038\n",
       "9           TEM_TAMPA     0.009656\n",
       "5    PARA_LAVA_LOUCAS     0.005301\n",
       "1          COMPOSICAO     0.002038\n",
       "4               MARCA     0.001266\n",
       "7   TEM_FERRO_FUNDIDO     0.001065\n",
       "8          TEM_GRELHA     0.000000"
      ]
     },
     "execution_count": 381,
     "metadata": {},
     "output_type": "execute_result"
    }
   ],
   "source": [
    "funcao_variaveis_importantes(dados_wok)"
   ]
  },
  {
   "cell_type": "markdown",
   "metadata": {},
   "source": [
    "#### 3.10 Produto Tipo \"Caldeirão\""
   ]
  },
  {
   "cell_type": "code",
   "execution_count": 382,
   "metadata": {},
   "outputs": [
    {
     "data": {
      "text/html": [
       "<div>\n",
       "<style scoped>\n",
       "    .dataframe tbody tr th:only-of-type {\n",
       "        vertical-align: middle;\n",
       "    }\n",
       "\n",
       "    .dataframe tbody tr th {\n",
       "        vertical-align: top;\n",
       "    }\n",
       "\n",
       "    .dataframe thead th {\n",
       "        text-align: right;\n",
       "    }\n",
       "</style>\n",
       "<table border=\"1\" class=\"dataframe\">\n",
       "  <thead>\n",
       "    <tr style=\"text-align: right;\">\n",
       "      <th></th>\n",
       "      <th>Variáveis</th>\n",
       "      <th>Importancia</th>\n",
       "    </tr>\n",
       "  </thead>\n",
       "  <tbody>\n",
       "    <tr>\n",
       "      <th>10</th>\n",
       "      <td>ITEM_PRICE</td>\n",
       "      <td>0.916716</td>\n",
       "    </tr>\n",
       "    <tr>\n",
       "      <th>3</th>\n",
       "      <td>LARGURA</td>\n",
       "      <td>0.029043</td>\n",
       "    </tr>\n",
       "    <tr>\n",
       "      <th>5</th>\n",
       "      <td>PARA_LAVA_LOUCAS</td>\n",
       "      <td>0.015632</td>\n",
       "    </tr>\n",
       "    <tr>\n",
       "      <th>9</th>\n",
       "      <td>TEM_TAMPA</td>\n",
       "      <td>0.011785</td>\n",
       "    </tr>\n",
       "    <tr>\n",
       "      <th>0</th>\n",
       "      <td>ALTURA</td>\n",
       "      <td>0.007512</td>\n",
       "    </tr>\n",
       "    <tr>\n",
       "      <th>4</th>\n",
       "      <td>MARCA</td>\n",
       "      <td>0.006390</td>\n",
       "    </tr>\n",
       "    <tr>\n",
       "      <th>6</th>\n",
       "      <td>PROFUNDIDADE</td>\n",
       "      <td>0.006114</td>\n",
       "    </tr>\n",
       "    <tr>\n",
       "      <th>1</th>\n",
       "      <td>COMPOSICAO</td>\n",
       "      <td>0.005703</td>\n",
       "    </tr>\n",
       "    <tr>\n",
       "      <th>7</th>\n",
       "      <td>TEM_FERRO_FUNDIDO</td>\n",
       "      <td>0.000917</td>\n",
       "    </tr>\n",
       "    <tr>\n",
       "      <th>2</th>\n",
       "      <td>COR</td>\n",
       "      <td>0.000188</td>\n",
       "    </tr>\n",
       "    <tr>\n",
       "      <th>8</th>\n",
       "      <td>TEM_GRELHA</td>\n",
       "      <td>0.000000</td>\n",
       "    </tr>\n",
       "  </tbody>\n",
       "</table>\n",
       "</div>"
      ],
      "text/plain": [
       "            Variáveis  Importancia\n",
       "10         ITEM_PRICE     0.916716\n",
       "3             LARGURA     0.029043\n",
       "5    PARA_LAVA_LOUCAS     0.015632\n",
       "9           TEM_TAMPA     0.011785\n",
       "0              ALTURA     0.007512\n",
       "4               MARCA     0.006390\n",
       "6        PROFUNDIDADE     0.006114\n",
       "1          COMPOSICAO     0.005703\n",
       "7   TEM_FERRO_FUNDIDO     0.000917\n",
       "2                 COR     0.000188\n",
       "8          TEM_GRELHA     0.000000"
      ]
     },
     "execution_count": 382,
     "metadata": {},
     "output_type": "execute_result"
    }
   ],
   "source": [
    "funcao_variaveis_importantes(dados_caldeirao)"
   ]
  },
  {
   "cell_type": "markdown",
   "metadata": {},
   "source": [
    "#### 3.11 Produto Tipo \"Fervedor\""
   ]
  },
  {
   "cell_type": "code",
   "execution_count": 383,
   "metadata": {},
   "outputs": [
    {
     "data": {
      "text/html": [
       "<div>\n",
       "<style scoped>\n",
       "    .dataframe tbody tr th:only-of-type {\n",
       "        vertical-align: middle;\n",
       "    }\n",
       "\n",
       "    .dataframe tbody tr th {\n",
       "        vertical-align: top;\n",
       "    }\n",
       "\n",
       "    .dataframe thead th {\n",
       "        text-align: right;\n",
       "    }\n",
       "</style>\n",
       "<table border=\"1\" class=\"dataframe\">\n",
       "  <thead>\n",
       "    <tr style=\"text-align: right;\">\n",
       "      <th></th>\n",
       "      <th>Variáveis</th>\n",
       "      <th>Importancia</th>\n",
       "    </tr>\n",
       "  </thead>\n",
       "  <tbody>\n",
       "    <tr>\n",
       "      <th>8</th>\n",
       "      <td>ITEM_PRICE</td>\n",
       "      <td>0.972559</td>\n",
       "    </tr>\n",
       "    <tr>\n",
       "      <th>5</th>\n",
       "      <td>PROFUNDIDADE</td>\n",
       "      <td>0.010381</td>\n",
       "    </tr>\n",
       "    <tr>\n",
       "      <th>2</th>\n",
       "      <td>LARGURA</td>\n",
       "      <td>0.006825</td>\n",
       "    </tr>\n",
       "    <tr>\n",
       "      <th>4</th>\n",
       "      <td>PARA_LAVA_LOUCAS</td>\n",
       "      <td>0.004499</td>\n",
       "    </tr>\n",
       "    <tr>\n",
       "      <th>0</th>\n",
       "      <td>ALTURA</td>\n",
       "      <td>0.003262</td>\n",
       "    </tr>\n",
       "    <tr>\n",
       "      <th>3</th>\n",
       "      <td>MARCA</td>\n",
       "      <td>0.001842</td>\n",
       "    </tr>\n",
       "    <tr>\n",
       "      <th>1</th>\n",
       "      <td>COMPOSICAO</td>\n",
       "      <td>0.000632</td>\n",
       "    </tr>\n",
       "    <tr>\n",
       "      <th>6</th>\n",
       "      <td>TEM_FERRO_FUNDIDO</td>\n",
       "      <td>0.000000</td>\n",
       "    </tr>\n",
       "    <tr>\n",
       "      <th>7</th>\n",
       "      <td>TEM_GRELHA</td>\n",
       "      <td>0.000000</td>\n",
       "    </tr>\n",
       "  </tbody>\n",
       "</table>\n",
       "</div>"
      ],
      "text/plain": [
       "           Variáveis  Importancia\n",
       "8         ITEM_PRICE     0.972559\n",
       "5       PROFUNDIDADE     0.010381\n",
       "2            LARGURA     0.006825\n",
       "4   PARA_LAVA_LOUCAS     0.004499\n",
       "0             ALTURA     0.003262\n",
       "3              MARCA     0.001842\n",
       "1         COMPOSICAO     0.000632\n",
       "6  TEM_FERRO_FUNDIDO     0.000000\n",
       "7         TEM_GRELHA     0.000000"
      ]
     },
     "execution_count": 383,
     "metadata": {},
     "output_type": "execute_result"
    }
   ],
   "source": [
    "funcao_variaveis_importantes(dados_fervedor)"
   ]
  },
  {
   "cell_type": "markdown",
   "metadata": {},
   "source": [
    "#### 3.12 Produto Tipo \"Grill\""
   ]
  },
  {
   "cell_type": "code",
   "execution_count": 384,
   "metadata": {},
   "outputs": [
    {
     "data": {
      "text/html": [
       "<div>\n",
       "<style scoped>\n",
       "    .dataframe tbody tr th:only-of-type {\n",
       "        vertical-align: middle;\n",
       "    }\n",
       "\n",
       "    .dataframe tbody tr th {\n",
       "        vertical-align: top;\n",
       "    }\n",
       "\n",
       "    .dataframe thead th {\n",
       "        text-align: right;\n",
       "    }\n",
       "</style>\n",
       "<table border=\"1\" class=\"dataframe\">\n",
       "  <thead>\n",
       "    <tr style=\"text-align: right;\">\n",
       "      <th></th>\n",
       "      <th>Variáveis</th>\n",
       "      <th>Importancia</th>\n",
       "    </tr>\n",
       "  </thead>\n",
       "  <tbody>\n",
       "    <tr>\n",
       "      <th>11</th>\n",
       "      <td>ITEM_PRICE</td>\n",
       "      <td>1.0</td>\n",
       "    </tr>\n",
       "    <tr>\n",
       "      <th>0</th>\n",
       "      <td>ALTURA</td>\n",
       "      <td>0.0</td>\n",
       "    </tr>\n",
       "    <tr>\n",
       "      <th>1</th>\n",
       "      <td>CAPACIDADE_(L)</td>\n",
       "      <td>0.0</td>\n",
       "    </tr>\n",
       "    <tr>\n",
       "      <th>2</th>\n",
       "      <td>COMPOSICAO</td>\n",
       "      <td>0.0</td>\n",
       "    </tr>\n",
       "    <tr>\n",
       "      <th>3</th>\n",
       "      <td>COR</td>\n",
       "      <td>0.0</td>\n",
       "    </tr>\n",
       "    <tr>\n",
       "      <th>4</th>\n",
       "      <td>FORMATO</td>\n",
       "      <td>0.0</td>\n",
       "    </tr>\n",
       "    <tr>\n",
       "      <th>5</th>\n",
       "      <td>LARGURA</td>\n",
       "      <td>0.0</td>\n",
       "    </tr>\n",
       "    <tr>\n",
       "      <th>6</th>\n",
       "      <td>MARCA</td>\n",
       "      <td>0.0</td>\n",
       "    </tr>\n",
       "    <tr>\n",
       "      <th>7</th>\n",
       "      <td>PARA_LAVA_LOUCAS</td>\n",
       "      <td>0.0</td>\n",
       "    </tr>\n",
       "    <tr>\n",
       "      <th>8</th>\n",
       "      <td>PROFUNDIDADE</td>\n",
       "      <td>0.0</td>\n",
       "    </tr>\n",
       "    <tr>\n",
       "      <th>9</th>\n",
       "      <td>TEM_FERRO_FUNDIDO</td>\n",
       "      <td>0.0</td>\n",
       "    </tr>\n",
       "    <tr>\n",
       "      <th>10</th>\n",
       "      <td>TEM_GRELHA</td>\n",
       "      <td>0.0</td>\n",
       "    </tr>\n",
       "  </tbody>\n",
       "</table>\n",
       "</div>"
      ],
      "text/plain": [
       "            Variáveis  Importancia\n",
       "11         ITEM_PRICE          1.0\n",
       "0              ALTURA          0.0\n",
       "1      CAPACIDADE_(L)          0.0\n",
       "2          COMPOSICAO          0.0\n",
       "3                 COR          0.0\n",
       "4             FORMATO          0.0\n",
       "5             LARGURA          0.0\n",
       "6               MARCA          0.0\n",
       "7    PARA_LAVA_LOUCAS          0.0\n",
       "8        PROFUNDIDADE          0.0\n",
       "9   TEM_FERRO_FUNDIDO          0.0\n",
       "10         TEM_GRELHA          0.0"
      ]
     },
     "execution_count": 384,
     "metadata": {},
     "output_type": "execute_result"
    }
   ],
   "source": [
    "funcao_variaveis_importantes(dados_grill)"
   ]
  },
  {
   "cell_type": "markdown",
   "metadata": {},
   "source": [
    "#### 3.13 Produto Tipo \"Paellera\""
   ]
  },
  {
   "cell_type": "code",
   "execution_count": 385,
   "metadata": {},
   "outputs": [
    {
     "data": {
      "text/html": [
       "<div>\n",
       "<style scoped>\n",
       "    .dataframe tbody tr th:only-of-type {\n",
       "        vertical-align: middle;\n",
       "    }\n",
       "\n",
       "    .dataframe tbody tr th {\n",
       "        vertical-align: top;\n",
       "    }\n",
       "\n",
       "    .dataframe thead th {\n",
       "        text-align: right;\n",
       "    }\n",
       "</style>\n",
       "<table border=\"1\" class=\"dataframe\">\n",
       "  <thead>\n",
       "    <tr style=\"text-align: right;\">\n",
       "      <th></th>\n",
       "      <th>Variáveis</th>\n",
       "      <th>Importancia</th>\n",
       "    </tr>\n",
       "  </thead>\n",
       "  <tbody>\n",
       "    <tr>\n",
       "      <th>11</th>\n",
       "      <td>ITEM_PRICE</td>\n",
       "      <td>0.780231</td>\n",
       "    </tr>\n",
       "    <tr>\n",
       "      <th>3</th>\n",
       "      <td>MARCA</td>\n",
       "      <td>0.081020</td>\n",
       "    </tr>\n",
       "    <tr>\n",
       "      <th>6</th>\n",
       "      <td>PESO</td>\n",
       "      <td>0.045608</td>\n",
       "    </tr>\n",
       "    <tr>\n",
       "      <th>0</th>\n",
       "      <td>ALTURA</td>\n",
       "      <td>0.039610</td>\n",
       "    </tr>\n",
       "    <tr>\n",
       "      <th>1</th>\n",
       "      <td>COMPOSICAO</td>\n",
       "      <td>0.018268</td>\n",
       "    </tr>\n",
       "    <tr>\n",
       "      <th>2</th>\n",
       "      <td>LARGURA</td>\n",
       "      <td>0.017832</td>\n",
       "    </tr>\n",
       "    <tr>\n",
       "      <th>7</th>\n",
       "      <td>PROFUNDIDADE</td>\n",
       "      <td>0.012971</td>\n",
       "    </tr>\n",
       "    <tr>\n",
       "      <th>10</th>\n",
       "      <td>TEM_TAMPA</td>\n",
       "      <td>0.004462</td>\n",
       "    </tr>\n",
       "    <tr>\n",
       "      <th>4</th>\n",
       "      <td>PARA_LAVA_LOUCAS</td>\n",
       "      <td>0.000000</td>\n",
       "    </tr>\n",
       "    <tr>\n",
       "      <th>5</th>\n",
       "      <td>PARA_MICRO_ONDAS</td>\n",
       "      <td>0.000000</td>\n",
       "    </tr>\n",
       "    <tr>\n",
       "      <th>8</th>\n",
       "      <td>TEM_FERRO_FUNDIDO</td>\n",
       "      <td>0.000000</td>\n",
       "    </tr>\n",
       "    <tr>\n",
       "      <th>9</th>\n",
       "      <td>TEM_GRELHA</td>\n",
       "      <td>0.000000</td>\n",
       "    </tr>\n",
       "  </tbody>\n",
       "</table>\n",
       "</div>"
      ],
      "text/plain": [
       "            Variáveis  Importancia\n",
       "11         ITEM_PRICE     0.780231\n",
       "3               MARCA     0.081020\n",
       "6                PESO     0.045608\n",
       "0              ALTURA     0.039610\n",
       "1          COMPOSICAO     0.018268\n",
       "2             LARGURA     0.017832\n",
       "7        PROFUNDIDADE     0.012971\n",
       "10          TEM_TAMPA     0.004462\n",
       "4    PARA_LAVA_LOUCAS     0.000000\n",
       "5    PARA_MICRO_ONDAS     0.000000\n",
       "8   TEM_FERRO_FUNDIDO     0.000000\n",
       "9          TEM_GRELHA     0.000000"
      ]
     },
     "execution_count": 385,
     "metadata": {},
     "output_type": "execute_result"
    }
   ],
   "source": [
    "funcao_variaveis_importantes(dados_paellera)"
   ]
  },
  {
   "cell_type": "markdown",
   "metadata": {},
   "source": [
    "#### 3.14 Produto Tipo \"Bifeteira\""
   ]
  },
  {
   "cell_type": "code",
   "execution_count": 386,
   "metadata": {},
   "outputs": [
    {
     "data": {
      "text/html": [
       "<div>\n",
       "<style scoped>\n",
       "    .dataframe tbody tr th:only-of-type {\n",
       "        vertical-align: middle;\n",
       "    }\n",
       "\n",
       "    .dataframe tbody tr th {\n",
       "        vertical-align: top;\n",
       "    }\n",
       "\n",
       "    .dataframe thead th {\n",
       "        text-align: right;\n",
       "    }\n",
       "</style>\n",
       "<table border=\"1\" class=\"dataframe\">\n",
       "  <thead>\n",
       "    <tr style=\"text-align: right;\">\n",
       "      <th></th>\n",
       "      <th>Variáveis</th>\n",
       "      <th>Importancia</th>\n",
       "    </tr>\n",
       "  </thead>\n",
       "  <tbody>\n",
       "    <tr>\n",
       "      <th>9</th>\n",
       "      <td>ITEM_PRICE</td>\n",
       "      <td>0.900819</td>\n",
       "    </tr>\n",
       "    <tr>\n",
       "      <th>2</th>\n",
       "      <td>FORMATO</td>\n",
       "      <td>0.067767</td>\n",
       "    </tr>\n",
       "    <tr>\n",
       "      <th>3</th>\n",
       "      <td>LARGURA</td>\n",
       "      <td>0.017367</td>\n",
       "    </tr>\n",
       "    <tr>\n",
       "      <th>6</th>\n",
       "      <td>PROFUNDIDADE</td>\n",
       "      <td>0.014046</td>\n",
       "    </tr>\n",
       "    <tr>\n",
       "      <th>0</th>\n",
       "      <td>ALTURA</td>\n",
       "      <td>0.000000</td>\n",
       "    </tr>\n",
       "    <tr>\n",
       "      <th>1</th>\n",
       "      <td>COR</td>\n",
       "      <td>0.000000</td>\n",
       "    </tr>\n",
       "    <tr>\n",
       "      <th>4</th>\n",
       "      <td>MARCA</td>\n",
       "      <td>0.000000</td>\n",
       "    </tr>\n",
       "    <tr>\n",
       "      <th>5</th>\n",
       "      <td>PARA_LAVA_LOUCAS</td>\n",
       "      <td>0.000000</td>\n",
       "    </tr>\n",
       "    <tr>\n",
       "      <th>7</th>\n",
       "      <td>TEM_FERRO_FUNDIDO</td>\n",
       "      <td>0.000000</td>\n",
       "    </tr>\n",
       "    <tr>\n",
       "      <th>8</th>\n",
       "      <td>TEM_GRELHA</td>\n",
       "      <td>0.000000</td>\n",
       "    </tr>\n",
       "  </tbody>\n",
       "</table>\n",
       "</div>"
      ],
      "text/plain": [
       "           Variáveis  Importancia\n",
       "9         ITEM_PRICE     0.900819\n",
       "2            FORMATO     0.067767\n",
       "3            LARGURA     0.017367\n",
       "6       PROFUNDIDADE     0.014046\n",
       "0             ALTURA     0.000000\n",
       "1                COR     0.000000\n",
       "4              MARCA     0.000000\n",
       "5   PARA_LAVA_LOUCAS     0.000000\n",
       "7  TEM_FERRO_FUNDIDO     0.000000\n",
       "8         TEM_GRELHA     0.000000"
      ]
     },
     "execution_count": 386,
     "metadata": {},
     "output_type": "execute_result"
    }
   ],
   "source": [
    "funcao_variaveis_importantes(dados_bifeteira)"
   ]
  },
  {
   "cell_type": "markdown",
   "metadata": {},
   "source": [
    "#### 3.15 Produto Tipo \"Bule\""
   ]
  },
  {
   "cell_type": "code",
   "execution_count": 387,
   "metadata": {},
   "outputs": [
    {
     "data": {
      "text/html": [
       "<div>\n",
       "<style scoped>\n",
       "    .dataframe tbody tr th:only-of-type {\n",
       "        vertical-align: middle;\n",
       "    }\n",
       "\n",
       "    .dataframe tbody tr th {\n",
       "        vertical-align: top;\n",
       "    }\n",
       "\n",
       "    .dataframe thead th {\n",
       "        text-align: right;\n",
       "    }\n",
       "</style>\n",
       "<table border=\"1\" class=\"dataframe\">\n",
       "  <thead>\n",
       "    <tr style=\"text-align: right;\">\n",
       "      <th></th>\n",
       "      <th>Variáveis</th>\n",
       "      <th>Importancia</th>\n",
       "    </tr>\n",
       "  </thead>\n",
       "  <tbody>\n",
       "    <tr>\n",
       "      <th>13</th>\n",
       "      <td>ITEM_PRICE</td>\n",
       "      <td>1.0</td>\n",
       "    </tr>\n",
       "    <tr>\n",
       "      <th>0</th>\n",
       "      <td>ALTURA</td>\n",
       "      <td>0.0</td>\n",
       "    </tr>\n",
       "    <tr>\n",
       "      <th>1</th>\n",
       "      <td>CAPACIDADE_(L)</td>\n",
       "      <td>0.0</td>\n",
       "    </tr>\n",
       "    <tr>\n",
       "      <th>2</th>\n",
       "      <td>COMPOSICAO</td>\n",
       "      <td>0.0</td>\n",
       "    </tr>\n",
       "    <tr>\n",
       "      <th>3</th>\n",
       "      <td>COR</td>\n",
       "      <td>0.0</td>\n",
       "    </tr>\n",
       "    <tr>\n",
       "      <th>4</th>\n",
       "      <td>LARGURA</td>\n",
       "      <td>0.0</td>\n",
       "    </tr>\n",
       "    <tr>\n",
       "      <th>5</th>\n",
       "      <td>MARCA</td>\n",
       "      <td>0.0</td>\n",
       "    </tr>\n",
       "    <tr>\n",
       "      <th>6</th>\n",
       "      <td>PARA_LAVA_LOUCAS</td>\n",
       "      <td>0.0</td>\n",
       "    </tr>\n",
       "    <tr>\n",
       "      <th>7</th>\n",
       "      <td>PARA_MICRO_ONDAS</td>\n",
       "      <td>0.0</td>\n",
       "    </tr>\n",
       "    <tr>\n",
       "      <th>8</th>\n",
       "      <td>PESO</td>\n",
       "      <td>0.0</td>\n",
       "    </tr>\n",
       "    <tr>\n",
       "      <th>9</th>\n",
       "      <td>PROFUNDIDADE</td>\n",
       "      <td>0.0</td>\n",
       "    </tr>\n",
       "    <tr>\n",
       "      <th>10</th>\n",
       "      <td>TEMPO_GARANTIA</td>\n",
       "      <td>0.0</td>\n",
       "    </tr>\n",
       "    <tr>\n",
       "      <th>11</th>\n",
       "      <td>TEM_FERRO_FUNDIDO</td>\n",
       "      <td>0.0</td>\n",
       "    </tr>\n",
       "    <tr>\n",
       "      <th>12</th>\n",
       "      <td>TEM_GRELHA</td>\n",
       "      <td>0.0</td>\n",
       "    </tr>\n",
       "  </tbody>\n",
       "</table>\n",
       "</div>"
      ],
      "text/plain": [
       "            Variáveis  Importancia\n",
       "13         ITEM_PRICE          1.0\n",
       "0              ALTURA          0.0\n",
       "1      CAPACIDADE_(L)          0.0\n",
       "2          COMPOSICAO          0.0\n",
       "3                 COR          0.0\n",
       "4             LARGURA          0.0\n",
       "5               MARCA          0.0\n",
       "6    PARA_LAVA_LOUCAS          0.0\n",
       "7    PARA_MICRO_ONDAS          0.0\n",
       "8                PESO          0.0\n",
       "9        PROFUNDIDADE          0.0\n",
       "10     TEMPO_GARANTIA          0.0\n",
       "11  TEM_FERRO_FUNDIDO          0.0\n",
       "12         TEM_GRELHA          0.0"
      ]
     },
     "execution_count": 387,
     "metadata": {},
     "output_type": "execute_result"
    }
   ],
   "source": [
    "funcao_variaveis_importantes(dados_bule)"
   ]
  },
  {
   "cell_type": "markdown",
   "metadata": {},
   "source": [
    "#### 3.16 Produto Tipo \"Panquequeira\""
   ]
  },
  {
   "cell_type": "code",
   "execution_count": 388,
   "metadata": {},
   "outputs": [
    {
     "data": {
      "text/html": [
       "<div>\n",
       "<style scoped>\n",
       "    .dataframe tbody tr th:only-of-type {\n",
       "        vertical-align: middle;\n",
       "    }\n",
       "\n",
       "    .dataframe tbody tr th {\n",
       "        vertical-align: top;\n",
       "    }\n",
       "\n",
       "    .dataframe thead th {\n",
       "        text-align: right;\n",
       "    }\n",
       "</style>\n",
       "<table border=\"1\" class=\"dataframe\">\n",
       "  <thead>\n",
       "    <tr style=\"text-align: right;\">\n",
       "      <th></th>\n",
       "      <th>Variáveis</th>\n",
       "      <th>Importancia</th>\n",
       "    </tr>\n",
       "  </thead>\n",
       "  <tbody>\n",
       "    <tr>\n",
       "      <th>8</th>\n",
       "      <td>ITEM_PRICE</td>\n",
       "      <td>0.984416</td>\n",
       "    </tr>\n",
       "    <tr>\n",
       "      <th>3</th>\n",
       "      <td>MARCA</td>\n",
       "      <td>0.004033</td>\n",
       "    </tr>\n",
       "    <tr>\n",
       "      <th>4</th>\n",
       "      <td>PARA_LAVA_LOUCAS</td>\n",
       "      <td>0.003595</td>\n",
       "    </tr>\n",
       "    <tr>\n",
       "      <th>2</th>\n",
       "      <td>LARGURA</td>\n",
       "      <td>0.003447</td>\n",
       "    </tr>\n",
       "    <tr>\n",
       "      <th>5</th>\n",
       "      <td>PROFUNDIDADE</td>\n",
       "      <td>0.003062</td>\n",
       "    </tr>\n",
       "    <tr>\n",
       "      <th>0</th>\n",
       "      <td>ALTURA</td>\n",
       "      <td>0.001448</td>\n",
       "    </tr>\n",
       "    <tr>\n",
       "      <th>1</th>\n",
       "      <td>COMPOSICAO</td>\n",
       "      <td>0.000000</td>\n",
       "    </tr>\n",
       "    <tr>\n",
       "      <th>6</th>\n",
       "      <td>TEM_FERRO_FUNDIDO</td>\n",
       "      <td>0.000000</td>\n",
       "    </tr>\n",
       "    <tr>\n",
       "      <th>7</th>\n",
       "      <td>TEM_GRELHA</td>\n",
       "      <td>0.000000</td>\n",
       "    </tr>\n",
       "  </tbody>\n",
       "</table>\n",
       "</div>"
      ],
      "text/plain": [
       "           Variáveis  Importancia\n",
       "8         ITEM_PRICE     0.984416\n",
       "3              MARCA     0.004033\n",
       "4   PARA_LAVA_LOUCAS     0.003595\n",
       "2            LARGURA     0.003447\n",
       "5       PROFUNDIDADE     0.003062\n",
       "0             ALTURA     0.001448\n",
       "1         COMPOSICAO     0.000000\n",
       "6  TEM_FERRO_FUNDIDO     0.000000\n",
       "7         TEM_GRELHA     0.000000"
      ]
     },
     "execution_count": 388,
     "metadata": {},
     "output_type": "execute_result"
    }
   ],
   "source": [
    "funcao_variaveis_importantes(dados_panquequeira)"
   ]
  },
  {
   "cell_type": "markdown",
   "metadata": {},
   "source": [
    "#### 3.17 Produto Tipo \"Leiteira\""
   ]
  },
  {
   "cell_type": "code",
   "execution_count": 389,
   "metadata": {},
   "outputs": [
    {
     "data": {
      "text/html": [
       "<div>\n",
       "<style scoped>\n",
       "    .dataframe tbody tr th:only-of-type {\n",
       "        vertical-align: middle;\n",
       "    }\n",
       "\n",
       "    .dataframe tbody tr th {\n",
       "        vertical-align: top;\n",
       "    }\n",
       "\n",
       "    .dataframe thead th {\n",
       "        text-align: right;\n",
       "    }\n",
       "</style>\n",
       "<table border=\"1\" class=\"dataframe\">\n",
       "  <thead>\n",
       "    <tr style=\"text-align: right;\">\n",
       "      <th></th>\n",
       "      <th>Variáveis</th>\n",
       "      <th>Importancia</th>\n",
       "    </tr>\n",
       "  </thead>\n",
       "  <tbody>\n",
       "    <tr>\n",
       "      <th>9</th>\n",
       "      <td>ITEM_PRICE</td>\n",
       "      <td>0.537674</td>\n",
       "    </tr>\n",
       "    <tr>\n",
       "      <th>2</th>\n",
       "      <td>COR</td>\n",
       "      <td>0.274700</td>\n",
       "    </tr>\n",
       "    <tr>\n",
       "      <th>3</th>\n",
       "      <td>LARGURA</td>\n",
       "      <td>0.063227</td>\n",
       "    </tr>\n",
       "    <tr>\n",
       "      <th>0</th>\n",
       "      <td>ALTURA</td>\n",
       "      <td>0.050523</td>\n",
       "    </tr>\n",
       "    <tr>\n",
       "      <th>5</th>\n",
       "      <td>PARA_LAVA_LOUCAS</td>\n",
       "      <td>0.028396</td>\n",
       "    </tr>\n",
       "    <tr>\n",
       "      <th>6</th>\n",
       "      <td>PROFUNDIDADE</td>\n",
       "      <td>0.019922</td>\n",
       "    </tr>\n",
       "    <tr>\n",
       "      <th>4</th>\n",
       "      <td>MARCA</td>\n",
       "      <td>0.018909</td>\n",
       "    </tr>\n",
       "    <tr>\n",
       "      <th>1</th>\n",
       "      <td>COMPOSICAO</td>\n",
       "      <td>0.006649</td>\n",
       "    </tr>\n",
       "    <tr>\n",
       "      <th>7</th>\n",
       "      <td>TEM_FERRO_FUNDIDO</td>\n",
       "      <td>0.000000</td>\n",
       "    </tr>\n",
       "    <tr>\n",
       "      <th>8</th>\n",
       "      <td>TEM_GRELHA</td>\n",
       "      <td>0.000000</td>\n",
       "    </tr>\n",
       "  </tbody>\n",
       "</table>\n",
       "</div>"
      ],
      "text/plain": [
       "           Variáveis  Importancia\n",
       "9         ITEM_PRICE     0.537674\n",
       "2                COR     0.274700\n",
       "3            LARGURA     0.063227\n",
       "0             ALTURA     0.050523\n",
       "5   PARA_LAVA_LOUCAS     0.028396\n",
       "6       PROFUNDIDADE     0.019922\n",
       "4              MARCA     0.018909\n",
       "1         COMPOSICAO     0.006649\n",
       "7  TEM_FERRO_FUNDIDO     0.000000\n",
       "8         TEM_GRELHA     0.000000"
      ]
     },
     "execution_count": 389,
     "metadata": {},
     "output_type": "execute_result"
    }
   ],
   "source": [
    "funcao_variaveis_importantes(dados_leiteira)"
   ]
  },
  {
   "cell_type": "markdown",
   "metadata": {},
   "source": [
    "#### 3.18 Produto Tipo \"Forma\""
   ]
  },
  {
   "cell_type": "code",
   "execution_count": 390,
   "metadata": {},
   "outputs": [
    {
     "data": {
      "text/html": [
       "<div>\n",
       "<style scoped>\n",
       "    .dataframe tbody tr th:only-of-type {\n",
       "        vertical-align: middle;\n",
       "    }\n",
       "\n",
       "    .dataframe tbody tr th {\n",
       "        vertical-align: top;\n",
       "    }\n",
       "\n",
       "    .dataframe thead th {\n",
       "        text-align: right;\n",
       "    }\n",
       "</style>\n",
       "<table border=\"1\" class=\"dataframe\">\n",
       "  <thead>\n",
       "    <tr style=\"text-align: right;\">\n",
       "      <th></th>\n",
       "      <th>Variáveis</th>\n",
       "      <th>Importancia</th>\n",
       "    </tr>\n",
       "  </thead>\n",
       "  <tbody>\n",
       "    <tr>\n",
       "      <th>9</th>\n",
       "      <td>ITEM_PRICE</td>\n",
       "      <td>0.807277</td>\n",
       "    </tr>\n",
       "    <tr>\n",
       "      <th>1</th>\n",
       "      <td>COR</td>\n",
       "      <td>0.112548</td>\n",
       "    </tr>\n",
       "    <tr>\n",
       "      <th>5</th>\n",
       "      <td>PROFUNDIDADE</td>\n",
       "      <td>0.034061</td>\n",
       "    </tr>\n",
       "    <tr>\n",
       "      <th>8</th>\n",
       "      <td>TEM_TAMPA</td>\n",
       "      <td>0.023034</td>\n",
       "    </tr>\n",
       "    <tr>\n",
       "      <th>2</th>\n",
       "      <td>LARGURA</td>\n",
       "      <td>0.013354</td>\n",
       "    </tr>\n",
       "    <tr>\n",
       "      <th>0</th>\n",
       "      <td>ALTURA</td>\n",
       "      <td>0.009727</td>\n",
       "    </tr>\n",
       "    <tr>\n",
       "      <th>3</th>\n",
       "      <td>MARCA</td>\n",
       "      <td>0.000000</td>\n",
       "    </tr>\n",
       "    <tr>\n",
       "      <th>4</th>\n",
       "      <td>PARA_LAVA_LOUCAS</td>\n",
       "      <td>0.000000</td>\n",
       "    </tr>\n",
       "    <tr>\n",
       "      <th>6</th>\n",
       "      <td>TEM_FERRO_FUNDIDO</td>\n",
       "      <td>0.000000</td>\n",
       "    </tr>\n",
       "    <tr>\n",
       "      <th>7</th>\n",
       "      <td>TEM_GRELHA</td>\n",
       "      <td>0.000000</td>\n",
       "    </tr>\n",
       "  </tbody>\n",
       "</table>\n",
       "</div>"
      ],
      "text/plain": [
       "           Variáveis  Importancia\n",
       "9         ITEM_PRICE     0.807277\n",
       "1                COR     0.112548\n",
       "5       PROFUNDIDADE     0.034061\n",
       "8          TEM_TAMPA     0.023034\n",
       "2            LARGURA     0.013354\n",
       "0             ALTURA     0.009727\n",
       "3              MARCA     0.000000\n",
       "4   PARA_LAVA_LOUCAS     0.000000\n",
       "6  TEM_FERRO_FUNDIDO     0.000000\n",
       "7         TEM_GRELHA     0.000000"
      ]
     },
     "execution_count": 390,
     "metadata": {},
     "output_type": "execute_result"
    }
   ],
   "source": [
    "funcao_variaveis_importantes(dados_forma)"
   ]
  },
  {
   "cell_type": "markdown",
   "metadata": {},
   "source": [
    "#### 3.19 Produto Tipo \"Fritadeira\""
   ]
  },
  {
   "cell_type": "code",
   "execution_count": 391,
   "metadata": {},
   "outputs": [
    {
     "data": {
      "text/html": [
       "<div>\n",
       "<style scoped>\n",
       "    .dataframe tbody tr th:only-of-type {\n",
       "        vertical-align: middle;\n",
       "    }\n",
       "\n",
       "    .dataframe tbody tr th {\n",
       "        vertical-align: top;\n",
       "    }\n",
       "\n",
       "    .dataframe thead th {\n",
       "        text-align: right;\n",
       "    }\n",
       "</style>\n",
       "<table border=\"1\" class=\"dataframe\">\n",
       "  <thead>\n",
       "    <tr style=\"text-align: right;\">\n",
       "      <th></th>\n",
       "      <th>Variáveis</th>\n",
       "      <th>Importancia</th>\n",
       "    </tr>\n",
       "  </thead>\n",
       "  <tbody>\n",
       "    <tr>\n",
       "      <th>9</th>\n",
       "      <td>ITEM_PRICE</td>\n",
       "      <td>1.0</td>\n",
       "    </tr>\n",
       "    <tr>\n",
       "      <th>0</th>\n",
       "      <td>ALTURA</td>\n",
       "      <td>0.0</td>\n",
       "    </tr>\n",
       "    <tr>\n",
       "      <th>1</th>\n",
       "      <td>COMPOSICAO</td>\n",
       "      <td>0.0</td>\n",
       "    </tr>\n",
       "    <tr>\n",
       "      <th>2</th>\n",
       "      <td>COR</td>\n",
       "      <td>0.0</td>\n",
       "    </tr>\n",
       "    <tr>\n",
       "      <th>3</th>\n",
       "      <td>LARGURA</td>\n",
       "      <td>0.0</td>\n",
       "    </tr>\n",
       "    <tr>\n",
       "      <th>4</th>\n",
       "      <td>MARCA</td>\n",
       "      <td>0.0</td>\n",
       "    </tr>\n",
       "    <tr>\n",
       "      <th>5</th>\n",
       "      <td>PARA_LAVA_LOUCAS</td>\n",
       "      <td>0.0</td>\n",
       "    </tr>\n",
       "    <tr>\n",
       "      <th>6</th>\n",
       "      <td>PROFUNDIDADE</td>\n",
       "      <td>0.0</td>\n",
       "    </tr>\n",
       "    <tr>\n",
       "      <th>7</th>\n",
       "      <td>TEM_FERRO_FUNDIDO</td>\n",
       "      <td>0.0</td>\n",
       "    </tr>\n",
       "    <tr>\n",
       "      <th>8</th>\n",
       "      <td>TEM_GRELHA</td>\n",
       "      <td>0.0</td>\n",
       "    </tr>\n",
       "  </tbody>\n",
       "</table>\n",
       "</div>"
      ],
      "text/plain": [
       "           Variáveis  Importancia\n",
       "9         ITEM_PRICE          1.0\n",
       "0             ALTURA          0.0\n",
       "1         COMPOSICAO          0.0\n",
       "2                COR          0.0\n",
       "3            LARGURA          0.0\n",
       "4              MARCA          0.0\n",
       "5   PARA_LAVA_LOUCAS          0.0\n",
       "6       PROFUNDIDADE          0.0\n",
       "7  TEM_FERRO_FUNDIDO          0.0\n",
       "8         TEM_GRELHA          0.0"
      ]
     },
     "execution_count": 391,
     "metadata": {},
     "output_type": "execute_result"
    }
   ],
   "source": [
    "funcao_variaveis_importantes(dados_fritadeira )"
   ]
  },
  {
   "cell_type": "markdown",
   "metadata": {},
   "source": [
    "#### 3.20 Produto Tipo \"Omeleteira\""
   ]
  },
  {
   "cell_type": "code",
   "execution_count": 392,
   "metadata": {},
   "outputs": [
    {
     "data": {
      "text/html": [
       "<div>\n",
       "<style scoped>\n",
       "    .dataframe tbody tr th:only-of-type {\n",
       "        vertical-align: middle;\n",
       "    }\n",
       "\n",
       "    .dataframe tbody tr th {\n",
       "        vertical-align: top;\n",
       "    }\n",
       "\n",
       "    .dataframe thead th {\n",
       "        text-align: right;\n",
       "    }\n",
       "</style>\n",
       "<table border=\"1\" class=\"dataframe\">\n",
       "  <thead>\n",
       "    <tr style=\"text-align: right;\">\n",
       "      <th></th>\n",
       "      <th>Variáveis</th>\n",
       "      <th>Importancia</th>\n",
       "    </tr>\n",
       "  </thead>\n",
       "  <tbody>\n",
       "    <tr>\n",
       "      <th>9</th>\n",
       "      <td>ITEM_PRICE</td>\n",
       "      <td>0.669088</td>\n",
       "    </tr>\n",
       "    <tr>\n",
       "      <th>2</th>\n",
       "      <td>COR</td>\n",
       "      <td>0.253665</td>\n",
       "    </tr>\n",
       "    <tr>\n",
       "      <th>3</th>\n",
       "      <td>LARGURA</td>\n",
       "      <td>0.050491</td>\n",
       "    </tr>\n",
       "    <tr>\n",
       "      <th>6</th>\n",
       "      <td>PROFUNDIDADE</td>\n",
       "      <td>0.014482</td>\n",
       "    </tr>\n",
       "    <tr>\n",
       "      <th>0</th>\n",
       "      <td>ALTURA</td>\n",
       "      <td>0.012274</td>\n",
       "    </tr>\n",
       "    <tr>\n",
       "      <th>1</th>\n",
       "      <td>COMPOSICAO</td>\n",
       "      <td>0.000000</td>\n",
       "    </tr>\n",
       "    <tr>\n",
       "      <th>4</th>\n",
       "      <td>MARCA</td>\n",
       "      <td>0.000000</td>\n",
       "    </tr>\n",
       "    <tr>\n",
       "      <th>5</th>\n",
       "      <td>PARA_LAVA_LOUCAS</td>\n",
       "      <td>0.000000</td>\n",
       "    </tr>\n",
       "    <tr>\n",
       "      <th>7</th>\n",
       "      <td>TEM_FERRO_FUNDIDO</td>\n",
       "      <td>0.000000</td>\n",
       "    </tr>\n",
       "    <tr>\n",
       "      <th>8</th>\n",
       "      <td>TEM_GRELHA</td>\n",
       "      <td>0.000000</td>\n",
       "    </tr>\n",
       "  </tbody>\n",
       "</table>\n",
       "</div>"
      ],
      "text/plain": [
       "           Variáveis  Importancia\n",
       "9         ITEM_PRICE     0.669088\n",
       "2                COR     0.253665\n",
       "3            LARGURA     0.050491\n",
       "6       PROFUNDIDADE     0.014482\n",
       "0             ALTURA     0.012274\n",
       "1         COMPOSICAO     0.000000\n",
       "4              MARCA     0.000000\n",
       "5   PARA_LAVA_LOUCAS     0.000000\n",
       "7  TEM_FERRO_FUNDIDO     0.000000\n",
       "8         TEM_GRELHA     0.000000"
      ]
     },
     "execution_count": 392,
     "metadata": {},
     "output_type": "execute_result"
    }
   ],
   "source": [
    "funcao_variaveis_importantes(dados_omeleteira)"
   ]
  },
  {
   "cell_type": "markdown",
   "metadata": {},
   "source": [
    "#### 3.21 Produto Tipo \"Cozi Vapore\""
   ]
  },
  {
   "cell_type": "code",
   "execution_count": 393,
   "metadata": {},
   "outputs": [
    {
     "data": {
      "text/html": [
       "<div>\n",
       "<style scoped>\n",
       "    .dataframe tbody tr th:only-of-type {\n",
       "        vertical-align: middle;\n",
       "    }\n",
       "\n",
       "    .dataframe tbody tr th {\n",
       "        vertical-align: top;\n",
       "    }\n",
       "\n",
       "    .dataframe thead th {\n",
       "        text-align: right;\n",
       "    }\n",
       "</style>\n",
       "<table border=\"1\" class=\"dataframe\">\n",
       "  <thead>\n",
       "    <tr style=\"text-align: right;\">\n",
       "      <th></th>\n",
       "      <th>Variáveis</th>\n",
       "      <th>Importancia</th>\n",
       "    </tr>\n",
       "  </thead>\n",
       "  <tbody>\n",
       "    <tr>\n",
       "      <th>13</th>\n",
       "      <td>ITEM_PRICE</td>\n",
       "      <td>0.998444</td>\n",
       "    </tr>\n",
       "    <tr>\n",
       "      <th>1</th>\n",
       "      <td>CAPACIDADE_(L)</td>\n",
       "      <td>0.000623</td>\n",
       "    </tr>\n",
       "    <tr>\n",
       "      <th>4</th>\n",
       "      <td>LARGURA</td>\n",
       "      <td>0.000443</td>\n",
       "    </tr>\n",
       "    <tr>\n",
       "      <th>0</th>\n",
       "      <td>ALTURA</td>\n",
       "      <td>0.000288</td>\n",
       "    </tr>\n",
       "    <tr>\n",
       "      <th>8</th>\n",
       "      <td>PESO</td>\n",
       "      <td>0.000101</td>\n",
       "    </tr>\n",
       "    <tr>\n",
       "      <th>9</th>\n",
       "      <td>PROFUNDIDADE</td>\n",
       "      <td>0.000101</td>\n",
       "    </tr>\n",
       "    <tr>\n",
       "      <th>2</th>\n",
       "      <td>COMPOSICAO</td>\n",
       "      <td>0.000000</td>\n",
       "    </tr>\n",
       "    <tr>\n",
       "      <th>3</th>\n",
       "      <td>COR</td>\n",
       "      <td>0.000000</td>\n",
       "    </tr>\n",
       "    <tr>\n",
       "      <th>5</th>\n",
       "      <td>MARCA</td>\n",
       "      <td>0.000000</td>\n",
       "    </tr>\n",
       "    <tr>\n",
       "      <th>6</th>\n",
       "      <td>PARA_LAVA_LOUCAS</td>\n",
       "      <td>0.000000</td>\n",
       "    </tr>\n",
       "    <tr>\n",
       "      <th>7</th>\n",
       "      <td>PARA_MICRO_ONDAS</td>\n",
       "      <td>0.000000</td>\n",
       "    </tr>\n",
       "    <tr>\n",
       "      <th>10</th>\n",
       "      <td>TEMPO_GARANTIA</td>\n",
       "      <td>0.000000</td>\n",
       "    </tr>\n",
       "    <tr>\n",
       "      <th>11</th>\n",
       "      <td>TEM_FERRO_FUNDIDO</td>\n",
       "      <td>0.000000</td>\n",
       "    </tr>\n",
       "    <tr>\n",
       "      <th>12</th>\n",
       "      <td>TEM_GRELHA</td>\n",
       "      <td>0.000000</td>\n",
       "    </tr>\n",
       "  </tbody>\n",
       "</table>\n",
       "</div>"
      ],
      "text/plain": [
       "            Variáveis  Importancia\n",
       "13         ITEM_PRICE     0.998444\n",
       "1      CAPACIDADE_(L)     0.000623\n",
       "4             LARGURA     0.000443\n",
       "0              ALTURA     0.000288\n",
       "8                PESO     0.000101\n",
       "9        PROFUNDIDADE     0.000101\n",
       "2          COMPOSICAO     0.000000\n",
       "3                 COR     0.000000\n",
       "5               MARCA     0.000000\n",
       "6    PARA_LAVA_LOUCAS     0.000000\n",
       "7    PARA_MICRO_ONDAS     0.000000\n",
       "10     TEMPO_GARANTIA     0.000000\n",
       "11  TEM_FERRO_FUNDIDO     0.000000\n",
       "12         TEM_GRELHA     0.000000"
      ]
     },
     "execution_count": 393,
     "metadata": {},
     "output_type": "execute_result"
    }
   ],
   "source": [
    "funcao_variaveis_importantes(dados_cozi_vapore)"
   ]
  },
  {
   "cell_type": "markdown",
   "metadata": {},
   "source": [
    "#### 3.22 Produto Tipo \"Fogareiro\""
   ]
  },
  {
   "cell_type": "code",
   "execution_count": 394,
   "metadata": {},
   "outputs": [
    {
     "data": {
      "text/html": [
       "<div>\n",
       "<style scoped>\n",
       "    .dataframe tbody tr th:only-of-type {\n",
       "        vertical-align: middle;\n",
       "    }\n",
       "\n",
       "    .dataframe tbody tr th {\n",
       "        vertical-align: top;\n",
       "    }\n",
       "\n",
       "    .dataframe thead th {\n",
       "        text-align: right;\n",
       "    }\n",
       "</style>\n",
       "<table border=\"1\" class=\"dataframe\">\n",
       "  <thead>\n",
       "    <tr style=\"text-align: right;\">\n",
       "      <th></th>\n",
       "      <th>Variáveis</th>\n",
       "      <th>Importancia</th>\n",
       "    </tr>\n",
       "  </thead>\n",
       "  <tbody>\n",
       "    <tr>\n",
       "      <th>9</th>\n",
       "      <td>ITEM_PRICE</td>\n",
       "      <td>0.795076</td>\n",
       "    </tr>\n",
       "    <tr>\n",
       "      <th>6</th>\n",
       "      <td>PROFUNDIDADE</td>\n",
       "      <td>0.061707</td>\n",
       "    </tr>\n",
       "    <tr>\n",
       "      <th>0</th>\n",
       "      <td>ALTURA</td>\n",
       "      <td>0.044666</td>\n",
       "    </tr>\n",
       "    <tr>\n",
       "      <th>3</th>\n",
       "      <td>LARGURA</td>\n",
       "      <td>0.041228</td>\n",
       "    </tr>\n",
       "    <tr>\n",
       "      <th>2</th>\n",
       "      <td>FORMATO</td>\n",
       "      <td>0.034157</td>\n",
       "    </tr>\n",
       "    <tr>\n",
       "      <th>4</th>\n",
       "      <td>MARCA</td>\n",
       "      <td>0.023167</td>\n",
       "    </tr>\n",
       "    <tr>\n",
       "      <th>1</th>\n",
       "      <td>COR</td>\n",
       "      <td>0.000000</td>\n",
       "    </tr>\n",
       "    <tr>\n",
       "      <th>5</th>\n",
       "      <td>PARA_LAVA_LOUCAS</td>\n",
       "      <td>0.000000</td>\n",
       "    </tr>\n",
       "    <tr>\n",
       "      <th>7</th>\n",
       "      <td>TEM_FERRO_FUNDIDO</td>\n",
       "      <td>0.000000</td>\n",
       "    </tr>\n",
       "    <tr>\n",
       "      <th>8</th>\n",
       "      <td>TEM_GRELHA</td>\n",
       "      <td>0.000000</td>\n",
       "    </tr>\n",
       "  </tbody>\n",
       "</table>\n",
       "</div>"
      ],
      "text/plain": [
       "           Variáveis  Importancia\n",
       "9         ITEM_PRICE     0.795076\n",
       "6       PROFUNDIDADE     0.061707\n",
       "0             ALTURA     0.044666\n",
       "3            LARGURA     0.041228\n",
       "2            FORMATO     0.034157\n",
       "4              MARCA     0.023167\n",
       "1                COR     0.000000\n",
       "5   PARA_LAVA_LOUCAS     0.000000\n",
       "7  TEM_FERRO_FUNDIDO     0.000000\n",
       "8         TEM_GRELHA     0.000000"
      ]
     },
     "execution_count": 394,
     "metadata": {},
     "output_type": "execute_result"
    }
   ],
   "source": [
    "funcao_variaveis_importantes(dados_fogareiro)"
   ]
  },
  {
   "cell_type": "markdown",
   "metadata": {},
   "source": [
    "#### 3.23 Produto Tipo \"Assadeira\""
   ]
  },
  {
   "cell_type": "code",
   "execution_count": 395,
   "metadata": {},
   "outputs": [
    {
     "data": {
      "text/html": [
       "<div>\n",
       "<style scoped>\n",
       "    .dataframe tbody tr th:only-of-type {\n",
       "        vertical-align: middle;\n",
       "    }\n",
       "\n",
       "    .dataframe tbody tr th {\n",
       "        vertical-align: top;\n",
       "    }\n",
       "\n",
       "    .dataframe thead th {\n",
       "        text-align: right;\n",
       "    }\n",
       "</style>\n",
       "<table border=\"1\" class=\"dataframe\">\n",
       "  <thead>\n",
       "    <tr style=\"text-align: right;\">\n",
       "      <th></th>\n",
       "      <th>Variáveis</th>\n",
       "      <th>Importancia</th>\n",
       "    </tr>\n",
       "  </thead>\n",
       "  <tbody>\n",
       "    <tr>\n",
       "      <th>10</th>\n",
       "      <td>ITEM_PRICE</td>\n",
       "      <td>0.815559</td>\n",
       "    </tr>\n",
       "    <tr>\n",
       "      <th>0</th>\n",
       "      <td>ALTURA</td>\n",
       "      <td>0.069292</td>\n",
       "    </tr>\n",
       "    <tr>\n",
       "      <th>3</th>\n",
       "      <td>LARGURA</td>\n",
       "      <td>0.049476</td>\n",
       "    </tr>\n",
       "    <tr>\n",
       "      <th>4</th>\n",
       "      <td>MARCA</td>\n",
       "      <td>0.028066</td>\n",
       "    </tr>\n",
       "    <tr>\n",
       "      <th>9</th>\n",
       "      <td>TEM_TAMPA</td>\n",
       "      <td>0.016104</td>\n",
       "    </tr>\n",
       "    <tr>\n",
       "      <th>6</th>\n",
       "      <td>PROFUNDIDADE</td>\n",
       "      <td>0.013086</td>\n",
       "    </tr>\n",
       "    <tr>\n",
       "      <th>2</th>\n",
       "      <td>FORMATO</td>\n",
       "      <td>0.008417</td>\n",
       "    </tr>\n",
       "    <tr>\n",
       "      <th>1</th>\n",
       "      <td>COR</td>\n",
       "      <td>0.000000</td>\n",
       "    </tr>\n",
       "    <tr>\n",
       "      <th>5</th>\n",
       "      <td>PARA_LAVA_LOUCAS</td>\n",
       "      <td>0.000000</td>\n",
       "    </tr>\n",
       "    <tr>\n",
       "      <th>7</th>\n",
       "      <td>TEM_FERRO_FUNDIDO</td>\n",
       "      <td>0.000000</td>\n",
       "    </tr>\n",
       "    <tr>\n",
       "      <th>8</th>\n",
       "      <td>TEM_GRELHA</td>\n",
       "      <td>0.000000</td>\n",
       "    </tr>\n",
       "  </tbody>\n",
       "</table>\n",
       "</div>"
      ],
      "text/plain": [
       "            Variáveis  Importancia\n",
       "10         ITEM_PRICE     0.815559\n",
       "0              ALTURA     0.069292\n",
       "3             LARGURA     0.049476\n",
       "4               MARCA     0.028066\n",
       "9           TEM_TAMPA     0.016104\n",
       "6        PROFUNDIDADE     0.013086\n",
       "2             FORMATO     0.008417\n",
       "1                 COR     0.000000\n",
       "5    PARA_LAVA_LOUCAS     0.000000\n",
       "7   TEM_FERRO_FUNDIDO     0.000000\n",
       "8          TEM_GRELHA     0.000000"
      ]
     },
     "execution_count": 395,
     "metadata": {},
     "output_type": "execute_result"
    }
   ],
   "source": [
    "funcao_variaveis_importantes(dados_assadeira)"
   ]
  },
  {
   "cell_type": "markdown",
   "metadata": {},
   "source": [
    "#### 3.24 Produto Tipo \"Mini Caçarola\""
   ]
  },
  {
   "cell_type": "code",
   "execution_count": 396,
   "metadata": {},
   "outputs": [
    {
     "data": {
      "text/html": [
       "<div>\n",
       "<style scoped>\n",
       "    .dataframe tbody tr th:only-of-type {\n",
       "        vertical-align: middle;\n",
       "    }\n",
       "\n",
       "    .dataframe tbody tr th {\n",
       "        vertical-align: top;\n",
       "    }\n",
       "\n",
       "    .dataframe thead th {\n",
       "        text-align: right;\n",
       "    }\n",
       "</style>\n",
       "<table border=\"1\" class=\"dataframe\">\n",
       "  <thead>\n",
       "    <tr style=\"text-align: right;\">\n",
       "      <th></th>\n",
       "      <th>Variáveis</th>\n",
       "      <th>Importancia</th>\n",
       "    </tr>\n",
       "  </thead>\n",
       "  <tbody>\n",
       "    <tr>\n",
       "      <th>1</th>\n",
       "      <td>COR</td>\n",
       "      <td>0.673378</td>\n",
       "    </tr>\n",
       "    <tr>\n",
       "      <th>2</th>\n",
       "      <td>FORMATO</td>\n",
       "      <td>0.099794</td>\n",
       "    </tr>\n",
       "    <tr>\n",
       "      <th>6</th>\n",
       "      <td>PROFUNDIDADE</td>\n",
       "      <td>0.084840</td>\n",
       "    </tr>\n",
       "    <tr>\n",
       "      <th>3</th>\n",
       "      <td>LARGURA</td>\n",
       "      <td>0.071043</td>\n",
       "    </tr>\n",
       "    <tr>\n",
       "      <th>0</th>\n",
       "      <td>ALTURA</td>\n",
       "      <td>0.036236</td>\n",
       "    </tr>\n",
       "    <tr>\n",
       "      <th>10</th>\n",
       "      <td>ITEM_PRICE</td>\n",
       "      <td>0.034710</td>\n",
       "    </tr>\n",
       "    <tr>\n",
       "      <th>4</th>\n",
       "      <td>MARCA</td>\n",
       "      <td>0.000000</td>\n",
       "    </tr>\n",
       "    <tr>\n",
       "      <th>5</th>\n",
       "      <td>PARA_LAVA_LOUCAS</td>\n",
       "      <td>0.000000</td>\n",
       "    </tr>\n",
       "    <tr>\n",
       "      <th>7</th>\n",
       "      <td>TEMPO_GARANTIA</td>\n",
       "      <td>0.000000</td>\n",
       "    </tr>\n",
       "    <tr>\n",
       "      <th>8</th>\n",
       "      <td>TEM_FERRO_FUNDIDO</td>\n",
       "      <td>0.000000</td>\n",
       "    </tr>\n",
       "    <tr>\n",
       "      <th>9</th>\n",
       "      <td>TEM_GRELHA</td>\n",
       "      <td>0.000000</td>\n",
       "    </tr>\n",
       "  </tbody>\n",
       "</table>\n",
       "</div>"
      ],
      "text/plain": [
       "            Variáveis  Importancia\n",
       "1                 COR     0.673378\n",
       "2             FORMATO     0.099794\n",
       "6        PROFUNDIDADE     0.084840\n",
       "3             LARGURA     0.071043\n",
       "0              ALTURA     0.036236\n",
       "10         ITEM_PRICE     0.034710\n",
       "4               MARCA     0.000000\n",
       "5    PARA_LAVA_LOUCAS     0.000000\n",
       "7      TEMPO_GARANTIA     0.000000\n",
       "8   TEM_FERRO_FUNDIDO     0.000000\n",
       "9          TEM_GRELHA     0.000000"
      ]
     },
     "execution_count": 396,
     "metadata": {},
     "output_type": "execute_result"
    }
   ],
   "source": [
    "funcao_variaveis_importantes(dados_mini_cacarola)"
   ]
  },
  {
   "cell_type": "markdown",
   "metadata": {},
   "source": [
    "#### 3.25 Produto Tipo \"Cremeria\""
   ]
  },
  {
   "cell_type": "code",
   "execution_count": 397,
   "metadata": {},
   "outputs": [
    {
     "data": {
      "text/html": [
       "<div>\n",
       "<style scoped>\n",
       "    .dataframe tbody tr th:only-of-type {\n",
       "        vertical-align: middle;\n",
       "    }\n",
       "\n",
       "    .dataframe tbody tr th {\n",
       "        vertical-align: top;\n",
       "    }\n",
       "\n",
       "    .dataframe thead th {\n",
       "        text-align: right;\n",
       "    }\n",
       "</style>\n",
       "<table border=\"1\" class=\"dataframe\">\n",
       "  <thead>\n",
       "    <tr style=\"text-align: right;\">\n",
       "      <th></th>\n",
       "      <th>Variáveis</th>\n",
       "      <th>Importancia</th>\n",
       "    </tr>\n",
       "  </thead>\n",
       "  <tbody>\n",
       "    <tr>\n",
       "      <th>8</th>\n",
       "      <td>ITEM_PRICE</td>\n",
       "      <td>1.0</td>\n",
       "    </tr>\n",
       "    <tr>\n",
       "      <th>0</th>\n",
       "      <td>CAPACIDADE_(L)</td>\n",
       "      <td>0.0</td>\n",
       "    </tr>\n",
       "    <tr>\n",
       "      <th>1</th>\n",
       "      <td>COMPOSICAO</td>\n",
       "      <td>0.0</td>\n",
       "    </tr>\n",
       "    <tr>\n",
       "      <th>2</th>\n",
       "      <td>COR</td>\n",
       "      <td>0.0</td>\n",
       "    </tr>\n",
       "    <tr>\n",
       "      <th>3</th>\n",
       "      <td>MARCA</td>\n",
       "      <td>0.0</td>\n",
       "    </tr>\n",
       "    <tr>\n",
       "      <th>4</th>\n",
       "      <td>PARA_LAVA_LOUCAS</td>\n",
       "      <td>0.0</td>\n",
       "    </tr>\n",
       "    <tr>\n",
       "      <th>5</th>\n",
       "      <td>PARA_MICRO_ONDAS</td>\n",
       "      <td>0.0</td>\n",
       "    </tr>\n",
       "    <tr>\n",
       "      <th>6</th>\n",
       "      <td>TEM_FERRO_FUNDIDO</td>\n",
       "      <td>0.0</td>\n",
       "    </tr>\n",
       "    <tr>\n",
       "      <th>7</th>\n",
       "      <td>TEM_GRELHA</td>\n",
       "      <td>0.0</td>\n",
       "    </tr>\n",
       "  </tbody>\n",
       "</table>\n",
       "</div>"
      ],
      "text/plain": [
       "           Variáveis  Importancia\n",
       "8         ITEM_PRICE          1.0\n",
       "0     CAPACIDADE_(L)          0.0\n",
       "1         COMPOSICAO          0.0\n",
       "2                COR          0.0\n",
       "3              MARCA          0.0\n",
       "4   PARA_LAVA_LOUCAS          0.0\n",
       "5   PARA_MICRO_ONDAS          0.0\n",
       "6  TEM_FERRO_FUNDIDO          0.0\n",
       "7         TEM_GRELHA          0.0"
      ]
     },
     "execution_count": 397,
     "metadata": {},
     "output_type": "execute_result"
    }
   ],
   "source": [
    "funcao_variaveis_importantes(dados_cremeria)"
   ]
  },
  {
   "cell_type": "markdown",
   "metadata": {},
   "source": [
    "#### 3.26 Produto Tipo \"Sanduicheira\""
   ]
  },
  {
   "cell_type": "code",
   "execution_count": 398,
   "metadata": {},
   "outputs": [
    {
     "data": {
      "text/html": [
       "<div>\n",
       "<style scoped>\n",
       "    .dataframe tbody tr th:only-of-type {\n",
       "        vertical-align: middle;\n",
       "    }\n",
       "\n",
       "    .dataframe tbody tr th {\n",
       "        vertical-align: top;\n",
       "    }\n",
       "\n",
       "    .dataframe thead th {\n",
       "        text-align: right;\n",
       "    }\n",
       "</style>\n",
       "<table border=\"1\" class=\"dataframe\">\n",
       "  <thead>\n",
       "    <tr style=\"text-align: right;\">\n",
       "      <th></th>\n",
       "      <th>Variáveis</th>\n",
       "      <th>Importancia</th>\n",
       "    </tr>\n",
       "  </thead>\n",
       "  <tbody>\n",
       "    <tr>\n",
       "      <th>9</th>\n",
       "      <td>ITEM_PRICE</td>\n",
       "      <td>0.893923</td>\n",
       "    </tr>\n",
       "    <tr>\n",
       "      <th>2</th>\n",
       "      <td>FORMATO</td>\n",
       "      <td>0.053562</td>\n",
       "    </tr>\n",
       "    <tr>\n",
       "      <th>1</th>\n",
       "      <td>COR</td>\n",
       "      <td>0.023543</td>\n",
       "    </tr>\n",
       "    <tr>\n",
       "      <th>6</th>\n",
       "      <td>PROFUNDIDADE</td>\n",
       "      <td>0.013317</td>\n",
       "    </tr>\n",
       "    <tr>\n",
       "      <th>4</th>\n",
       "      <td>MARCA</td>\n",
       "      <td>0.008030</td>\n",
       "    </tr>\n",
       "    <tr>\n",
       "      <th>0</th>\n",
       "      <td>ALTURA</td>\n",
       "      <td>0.004738</td>\n",
       "    </tr>\n",
       "    <tr>\n",
       "      <th>3</th>\n",
       "      <td>LARGURA</td>\n",
       "      <td>0.002887</td>\n",
       "    </tr>\n",
       "    <tr>\n",
       "      <th>5</th>\n",
       "      <td>PARA_LAVA_LOUCAS</td>\n",
       "      <td>0.000000</td>\n",
       "    </tr>\n",
       "    <tr>\n",
       "      <th>7</th>\n",
       "      <td>TEM_FERRO_FUNDIDO</td>\n",
       "      <td>0.000000</td>\n",
       "    </tr>\n",
       "    <tr>\n",
       "      <th>8</th>\n",
       "      <td>TEM_GRELHA</td>\n",
       "      <td>0.000000</td>\n",
       "    </tr>\n",
       "  </tbody>\n",
       "</table>\n",
       "</div>"
      ],
      "text/plain": [
       "           Variáveis  Importancia\n",
       "9         ITEM_PRICE     0.893923\n",
       "2            FORMATO     0.053562\n",
       "1                COR     0.023543\n",
       "6       PROFUNDIDADE     0.013317\n",
       "4              MARCA     0.008030\n",
       "0             ALTURA     0.004738\n",
       "3            LARGURA     0.002887\n",
       "5   PARA_LAVA_LOUCAS     0.000000\n",
       "7  TEM_FERRO_FUNDIDO     0.000000\n",
       "8         TEM_GRELHA     0.000000"
      ]
     },
     "execution_count": 398,
     "metadata": {},
     "output_type": "execute_result"
    }
   ],
   "source": [
    "funcao_variaveis_importantes(dados_sanduicheira)"
   ]
  },
  {
   "cell_type": "markdown",
   "metadata": {},
   "source": [
    "#### 3.27 Produto Tipo \"Tampa\""
   ]
  },
  {
   "cell_type": "code",
   "execution_count": 399,
   "metadata": {},
   "outputs": [
    {
     "data": {
      "text/html": [
       "<div>\n",
       "<style scoped>\n",
       "    .dataframe tbody tr th:only-of-type {\n",
       "        vertical-align: middle;\n",
       "    }\n",
       "\n",
       "    .dataframe tbody tr th {\n",
       "        vertical-align: top;\n",
       "    }\n",
       "\n",
       "    .dataframe thead th {\n",
       "        text-align: right;\n",
       "    }\n",
       "</style>\n",
       "<table border=\"1\" class=\"dataframe\">\n",
       "  <thead>\n",
       "    <tr style=\"text-align: right;\">\n",
       "      <th></th>\n",
       "      <th>Variáveis</th>\n",
       "      <th>Importancia</th>\n",
       "    </tr>\n",
       "  </thead>\n",
       "  <tbody>\n",
       "    <tr>\n",
       "      <th>11</th>\n",
       "      <td>ITEM_PRICE</td>\n",
       "      <td>0.990813</td>\n",
       "    </tr>\n",
       "    <tr>\n",
       "      <th>2</th>\n",
       "      <td>COR</td>\n",
       "      <td>0.009187</td>\n",
       "    </tr>\n",
       "    <tr>\n",
       "      <th>0</th>\n",
       "      <td>ALTURA</td>\n",
       "      <td>0.000000</td>\n",
       "    </tr>\n",
       "    <tr>\n",
       "      <th>1</th>\n",
       "      <td>COMPOSICAO</td>\n",
       "      <td>0.000000</td>\n",
       "    </tr>\n",
       "    <tr>\n",
       "      <th>3</th>\n",
       "      <td>FORMATO</td>\n",
       "      <td>0.000000</td>\n",
       "    </tr>\n",
       "    <tr>\n",
       "      <th>4</th>\n",
       "      <td>LARGURA</td>\n",
       "      <td>0.000000</td>\n",
       "    </tr>\n",
       "    <tr>\n",
       "      <th>5</th>\n",
       "      <td>MARCA</td>\n",
       "      <td>0.000000</td>\n",
       "    </tr>\n",
       "    <tr>\n",
       "      <th>6</th>\n",
       "      <td>PARA_LAVA_LOUCAS</td>\n",
       "      <td>0.000000</td>\n",
       "    </tr>\n",
       "    <tr>\n",
       "      <th>7</th>\n",
       "      <td>PROFUNDIDADE</td>\n",
       "      <td>0.000000</td>\n",
       "    </tr>\n",
       "    <tr>\n",
       "      <th>8</th>\n",
       "      <td>TEMPO_GARANTIA</td>\n",
       "      <td>0.000000</td>\n",
       "    </tr>\n",
       "    <tr>\n",
       "      <th>9</th>\n",
       "      <td>TEM_FERRO_FUNDIDO</td>\n",
       "      <td>0.000000</td>\n",
       "    </tr>\n",
       "    <tr>\n",
       "      <th>10</th>\n",
       "      <td>TEM_GRELHA</td>\n",
       "      <td>0.000000</td>\n",
       "    </tr>\n",
       "  </tbody>\n",
       "</table>\n",
       "</div>"
      ],
      "text/plain": [
       "            Variáveis  Importancia\n",
       "11         ITEM_PRICE     0.990813\n",
       "2                 COR     0.009187\n",
       "0              ALTURA     0.000000\n",
       "1          COMPOSICAO     0.000000\n",
       "3             FORMATO     0.000000\n",
       "4             LARGURA     0.000000\n",
       "5               MARCA     0.000000\n",
       "6    PARA_LAVA_LOUCAS     0.000000\n",
       "7        PROFUNDIDADE     0.000000\n",
       "8      TEMPO_GARANTIA     0.000000\n",
       "9   TEM_FERRO_FUNDIDO     0.000000\n",
       "10         TEM_GRELHA     0.000000"
      ]
     },
     "execution_count": 399,
     "metadata": {},
     "output_type": "execute_result"
    }
   ],
   "source": [
    "funcao_variaveis_importantes(dados_tampa)"
   ]
  },
  {
   "cell_type": "markdown",
   "metadata": {},
   "source": [
    "#### 3.28 Produto Tipo \"Founde\""
   ]
  },
  {
   "cell_type": "code",
   "execution_count": 400,
   "metadata": {},
   "outputs": [
    {
     "data": {
      "text/html": [
       "<div>\n",
       "<style scoped>\n",
       "    .dataframe tbody tr th:only-of-type {\n",
       "        vertical-align: middle;\n",
       "    }\n",
       "\n",
       "    .dataframe tbody tr th {\n",
       "        vertical-align: top;\n",
       "    }\n",
       "\n",
       "    .dataframe thead th {\n",
       "        text-align: right;\n",
       "    }\n",
       "</style>\n",
       "<table border=\"1\" class=\"dataframe\">\n",
       "  <thead>\n",
       "    <tr style=\"text-align: right;\">\n",
       "      <th></th>\n",
       "      <th>Variáveis</th>\n",
       "      <th>Importancia</th>\n",
       "    </tr>\n",
       "  </thead>\n",
       "  <tbody>\n",
       "    <tr>\n",
       "      <th>9</th>\n",
       "      <td>ITEM_PRICE</td>\n",
       "      <td>0.971257</td>\n",
       "    </tr>\n",
       "    <tr>\n",
       "      <th>1</th>\n",
       "      <td>COR</td>\n",
       "      <td>0.021296</td>\n",
       "    </tr>\n",
       "    <tr>\n",
       "      <th>6</th>\n",
       "      <td>PROFUNDIDADE</td>\n",
       "      <td>0.004847</td>\n",
       "    </tr>\n",
       "    <tr>\n",
       "      <th>4</th>\n",
       "      <td>MARCA</td>\n",
       "      <td>0.002601</td>\n",
       "    </tr>\n",
       "    <tr>\n",
       "      <th>0</th>\n",
       "      <td>ALTURA</td>\n",
       "      <td>0.000000</td>\n",
       "    </tr>\n",
       "    <tr>\n",
       "      <th>2</th>\n",
       "      <td>FORMATO</td>\n",
       "      <td>0.000000</td>\n",
       "    </tr>\n",
       "    <tr>\n",
       "      <th>3</th>\n",
       "      <td>LARGURA</td>\n",
       "      <td>0.000000</td>\n",
       "    </tr>\n",
       "    <tr>\n",
       "      <th>5</th>\n",
       "      <td>PARA_LAVA_LOUCAS</td>\n",
       "      <td>0.000000</td>\n",
       "    </tr>\n",
       "    <tr>\n",
       "      <th>7</th>\n",
       "      <td>TEM_FERRO_FUNDIDO</td>\n",
       "      <td>0.000000</td>\n",
       "    </tr>\n",
       "    <tr>\n",
       "      <th>8</th>\n",
       "      <td>TEM_GRELHA</td>\n",
       "      <td>0.000000</td>\n",
       "    </tr>\n",
       "  </tbody>\n",
       "</table>\n",
       "</div>"
      ],
      "text/plain": [
       "           Variáveis  Importancia\n",
       "9         ITEM_PRICE     0.971257\n",
       "1                COR     0.021296\n",
       "6       PROFUNDIDADE     0.004847\n",
       "4              MARCA     0.002601\n",
       "0             ALTURA     0.000000\n",
       "2            FORMATO     0.000000\n",
       "3            LARGURA     0.000000\n",
       "5   PARA_LAVA_LOUCAS     0.000000\n",
       "7  TEM_FERRO_FUNDIDO     0.000000\n",
       "8         TEM_GRELHA     0.000000"
      ]
     },
     "execution_count": 400,
     "metadata": {},
     "output_type": "execute_result"
    }
   ],
   "source": [
    "funcao_variaveis_importantes(dados_founde)"
   ]
  },
  {
   "cell_type": "markdown",
   "metadata": {},
   "source": [
    "#### 3.29 Produto Tipo \"Cumbuca\""
   ]
  },
  {
   "cell_type": "code",
   "execution_count": 401,
   "metadata": {},
   "outputs": [
    {
     "data": {
      "text/html": [
       "<div>\n",
       "<style scoped>\n",
       "    .dataframe tbody tr th:only-of-type {\n",
       "        vertical-align: middle;\n",
       "    }\n",
       "\n",
       "    .dataframe tbody tr th {\n",
       "        vertical-align: top;\n",
       "    }\n",
       "\n",
       "    .dataframe thead th {\n",
       "        text-align: right;\n",
       "    }\n",
       "</style>\n",
       "<table border=\"1\" class=\"dataframe\">\n",
       "  <thead>\n",
       "    <tr style=\"text-align: right;\">\n",
       "      <th></th>\n",
       "      <th>Variáveis</th>\n",
       "      <th>Importancia</th>\n",
       "    </tr>\n",
       "  </thead>\n",
       "  <tbody>\n",
       "    <tr>\n",
       "      <th>4</th>\n",
       "      <td>MARCA</td>\n",
       "      <td>0.546407</td>\n",
       "    </tr>\n",
       "    <tr>\n",
       "      <th>9</th>\n",
       "      <td>ITEM_PRICE</td>\n",
       "      <td>0.450481</td>\n",
       "    </tr>\n",
       "    <tr>\n",
       "      <th>6</th>\n",
       "      <td>PROFUNDIDADE</td>\n",
       "      <td>0.001496</td>\n",
       "    </tr>\n",
       "    <tr>\n",
       "      <th>3</th>\n",
       "      <td>LARGURA</td>\n",
       "      <td>0.001496</td>\n",
       "    </tr>\n",
       "    <tr>\n",
       "      <th>0</th>\n",
       "      <td>ALTURA</td>\n",
       "      <td>0.000120</td>\n",
       "    </tr>\n",
       "    <tr>\n",
       "      <th>1</th>\n",
       "      <td>COR</td>\n",
       "      <td>0.000000</td>\n",
       "    </tr>\n",
       "    <tr>\n",
       "      <th>2</th>\n",
       "      <td>FORMATO</td>\n",
       "      <td>0.000000</td>\n",
       "    </tr>\n",
       "    <tr>\n",
       "      <th>5</th>\n",
       "      <td>PARA_LAVA_LOUCAS</td>\n",
       "      <td>0.000000</td>\n",
       "    </tr>\n",
       "    <tr>\n",
       "      <th>7</th>\n",
       "      <td>TEM_FERRO_FUNDIDO</td>\n",
       "      <td>0.000000</td>\n",
       "    </tr>\n",
       "    <tr>\n",
       "      <th>8</th>\n",
       "      <td>TEM_GRELHA</td>\n",
       "      <td>0.000000</td>\n",
       "    </tr>\n",
       "  </tbody>\n",
       "</table>\n",
       "</div>"
      ],
      "text/plain": [
       "           Variáveis  Importancia\n",
       "4              MARCA     0.546407\n",
       "9         ITEM_PRICE     0.450481\n",
       "6       PROFUNDIDADE     0.001496\n",
       "3            LARGURA     0.001496\n",
       "0             ALTURA     0.000120\n",
       "1                COR     0.000000\n",
       "2            FORMATO     0.000000\n",
       "5   PARA_LAVA_LOUCAS     0.000000\n",
       "7  TEM_FERRO_FUNDIDO     0.000000\n",
       "8         TEM_GRELHA     0.000000"
      ]
     },
     "execution_count": 401,
     "metadata": {},
     "output_type": "execute_result"
    }
   ],
   "source": [
    "funcao_variaveis_importantes(dados_cumbuca)"
   ]
  },
  {
   "cell_type": "markdown",
   "metadata": {},
   "source": [
    "#### 3.30 Produto Tipo \"Prensador\""
   ]
  },
  {
   "cell_type": "code",
   "execution_count": 402,
   "metadata": {},
   "outputs": [
    {
     "data": {
      "text/html": [
       "<div>\n",
       "<style scoped>\n",
       "    .dataframe tbody tr th:only-of-type {\n",
       "        vertical-align: middle;\n",
       "    }\n",
       "\n",
       "    .dataframe tbody tr th {\n",
       "        vertical-align: top;\n",
       "    }\n",
       "\n",
       "    .dataframe thead th {\n",
       "        text-align: right;\n",
       "    }\n",
       "</style>\n",
       "<table border=\"1\" class=\"dataframe\">\n",
       "  <thead>\n",
       "    <tr style=\"text-align: right;\">\n",
       "      <th></th>\n",
       "      <th>Variáveis</th>\n",
       "      <th>Importancia</th>\n",
       "    </tr>\n",
       "  </thead>\n",
       "  <tbody>\n",
       "    <tr>\n",
       "      <th>9</th>\n",
       "      <td>ITEM_PRICE</td>\n",
       "      <td>0.762261</td>\n",
       "    </tr>\n",
       "    <tr>\n",
       "      <th>0</th>\n",
       "      <td>ALTURA</td>\n",
       "      <td>0.131808</td>\n",
       "    </tr>\n",
       "    <tr>\n",
       "      <th>6</th>\n",
       "      <td>PROFUNDIDADE</td>\n",
       "      <td>0.066626</td>\n",
       "    </tr>\n",
       "    <tr>\n",
       "      <th>4</th>\n",
       "      <td>MARCA</td>\n",
       "      <td>0.015414</td>\n",
       "    </tr>\n",
       "    <tr>\n",
       "      <th>3</th>\n",
       "      <td>LARGURA</td>\n",
       "      <td>0.014651</td>\n",
       "    </tr>\n",
       "    <tr>\n",
       "      <th>2</th>\n",
       "      <td>FORMATO</td>\n",
       "      <td>0.009240</td>\n",
       "    </tr>\n",
       "    <tr>\n",
       "      <th>1</th>\n",
       "      <td>COR</td>\n",
       "      <td>0.000000</td>\n",
       "    </tr>\n",
       "    <tr>\n",
       "      <th>5</th>\n",
       "      <td>PARA_LAVA_LOUCAS</td>\n",
       "      <td>0.000000</td>\n",
       "    </tr>\n",
       "    <tr>\n",
       "      <th>7</th>\n",
       "      <td>TEM_FERRO_FUNDIDO</td>\n",
       "      <td>0.000000</td>\n",
       "    </tr>\n",
       "    <tr>\n",
       "      <th>8</th>\n",
       "      <td>TEM_GRELHA</td>\n",
       "      <td>0.000000</td>\n",
       "    </tr>\n",
       "  </tbody>\n",
       "</table>\n",
       "</div>"
      ],
      "text/plain": [
       "           Variáveis  Importancia\n",
       "9         ITEM_PRICE     0.762261\n",
       "0             ALTURA     0.131808\n",
       "6       PROFUNDIDADE     0.066626\n",
       "4              MARCA     0.015414\n",
       "3            LARGURA     0.014651\n",
       "2            FORMATO     0.009240\n",
       "1                COR     0.000000\n",
       "5   PARA_LAVA_LOUCAS     0.000000\n",
       "7  TEM_FERRO_FUNDIDO     0.000000\n",
       "8         TEM_GRELHA     0.000000"
      ]
     },
     "execution_count": 402,
     "metadata": {},
     "output_type": "execute_result"
    }
   ],
   "source": [
    "funcao_variaveis_importantes(dados_prensador)"
   ]
  },
  {
   "cell_type": "markdown",
   "metadata": {},
   "source": [
    "Como observado nas 30 saídas acima, a variável de maior impacto sobre o interesse no produto é o Preço. O que, intuitivamente, tem coerência. "
   ]
  }
 ],
 "metadata": {
  "kernelspec": {
   "display_name": "Python 3",
   "language": "python",
   "name": "python3"
  },
  "language_info": {
   "codemirror_mode": {
    "name": "ipython",
    "version": 3
   },
   "file_extension": ".py",
   "mimetype": "text/x-python",
   "name": "python",
   "nbconvert_exporter": "python",
   "pygments_lexer": "ipython3",
   "version": "3.7.4"
  }
 },
 "nbformat": 4,
 "nbformat_minor": 2
}
